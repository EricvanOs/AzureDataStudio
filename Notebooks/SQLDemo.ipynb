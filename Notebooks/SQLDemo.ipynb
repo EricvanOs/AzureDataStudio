{
    "metadata": {
        "kernelspec": {
            "name": "SQL",
            "display_name": "SQL",
            "language": "sql"
        },
        "language_info": {
            "name": "sql",
            "version": ""
        }
    },
    "nbformat_minor": 2,
    "nbformat": 4,
    "cells": [
        {
            "cell_type": "markdown",
            "source": [
                "# Azure Master Class SQL Server Demo\n",
                "\n",
                " Basic SQL Information"
            ],
            "metadata": {
                "azdata_cell_guid": "fee94e4f-47f7-40b5-899a-f14bf2efe692"
            }
        },
        {
            "cell_type": "code",
            "source": [
                "SELECT @@VERSION"
            ],
            "metadata": {
                "azdata_cell_guid": "7f801c54-7c42-4ecd-b6b0-f8b3f7d99750",
                "tags": [
                    "hide_input"
                ]
            },
            "outputs": [
                {
                    "output_type": "display_data",
                    "data": {
                        "text/html": "(1 row affected)"
                    },
                    "metadata": {}
                },
                {
                    "output_type": "display_data",
                    "data": {
                        "text/html": "Total execution time: 00:00:00.077"
                    },
                    "metadata": {}
                },
                {
                    "output_type": "execute_result",
                    "metadata": {},
                    "execution_count": 1,
                    "data": {
                        "application/vnd.dataresource+json": {
                            "schema": {
                                "fields": [
                                    {
                                        "name": "(No column name)"
                                    }
                                ]
                            },
                            "data": [
                                {
                                    "0": "Microsoft SQL Server 2019 (RTM-CU9) (KB5000642) - 15.0.4102.2 (X64) \n\tJan 25 2021 20:16:12 \n\tCopyright (C) 2019 Microsoft Corporation\n\tEnterprise Edition (64-bit) on Windows Server 2019 Standard 10.0 <X64> (Build 17763: ) (Hypervisor)\n"
                                }
                            ]
                        },
                        "text/html": [
                            "<table>",
                            "<tr><th>(No column name)</th></tr>",
                            "<tr><td>Microsoft SQL Server 2019 (RTM-CU9) (KB5000642) - 15.0.4102.2 (X64) \n\tJan 25 2021 20:16:12 \n\tCopyright (C) 2019 Microsoft Corporation\n\tEnterprise Edition (64-bit) on Windows Server 2019 Standard 10.0 &lt;X64&gt; (Build 17763: ) (Hypervisor)\n</td></tr>",
                            "</table>"
                        ]
                    }
                }
            ],
            "execution_count": 1
        },
        {
            "cell_type": "code",
            "source": [
                "SELECT SERVERPROPERTY('EngineEdition')\r\n",
                "SELECT * FROM sys.dm_user_db_resource_governance"
            ],
            "metadata": {
                "azdata_cell_guid": "fa99a1cb-ddda-492c-894e-22a349dc49dd",
                "tags": [
                    "hide_input"
                ]
            },
            "outputs": [
                {
                    "output_type": "display_data",
                    "data": {
                        "text/html": "(1 row affected)"
                    },
                    "metadata": {}
                },
                {
                    "output_type": "display_data",
                    "data": {
                        "text/html": "Total execution time: 00:00:00.021"
                    },
                    "metadata": {}
                },
                {
                    "output_type": "execute_result",
                    "metadata": {},
                    "execution_count": 2,
                    "data": {
                        "application/vnd.dataresource+json": {
                            "schema": {
                                "fields": [
                                    {
                                        "name": "(No column name)"
                                    }
                                ]
                            },
                            "data": [
                                {
                                    "0": "3"
                                }
                            ]
                        },
                        "text/html": [
                            "<table>",
                            "<tr><th>(No column name)</th></tr>",
                            "<tr><td>3</td></tr>",
                            "</table>"
                        ]
                    }
                },
                {
                    "output_type": "error",
                    "evalue": "Msg 208, Level 16, State 1, Line 2\r\nInvalid object name 'sys.dm_user_db_resource_governance'.",
                    "ename": "",
                    "traceback": []
                }
            ],
            "execution_count": 2
        },
        {
            "cell_type": "markdown",
            "source": [
                "Get roster content"
            ],
            "metadata": {
                "azdata_cell_guid": "8c72ae02-07c1-4ddc-8e02-6c01b80ffaa8"
            }
        },
        {
            "cell_type": "code",
            "source": [
                "SELECT *\r\n",
                "  FROM [justice].[Roster]"
            ],
            "metadata": {
                "azdata_cell_guid": "47ce47c1-ece8-4764-a6b4-6a43d758d773",
                "tags": []
            },
            "outputs": [
                {
                    "output_type": "error",
                    "evalue": "Msg 208, Level 16, State 1, Line 1\r\nInvalid object name 'justice.Roster'.",
                    "ename": "",
                    "traceback": []
                },
                {
                    "output_type": "display_data",
                    "data": {
                        "text/html": "Total execution time: 00:00:00.003"
                    },
                    "metadata": {}
                }
            ],
            "execution_count": 4
        },
        {
            "cell_type": "markdown",
            "source": [
                "Masking test"
            ],
            "metadata": {
                "azdata_cell_guid": "89d0853d-3f05-4882-ae4e-78b331bfcd4c"
            }
        },
        {
            "cell_type": "code",
            "source": [
                "CREATE USER AquaMan WITH PASSWORD = 'Ih3artF1sh!'\r\n",
                "ALTER ROLE db_datareader ADD MEMBER AquaMan\r\n",
                "ALTER ROLE db_datawriter ADD MEMBER AquaMan"
            ],
            "metadata": {
                "azdata_cell_guid": "9abdf6de-bc9d-4f8e-9e42-9756124c5115",
                "tags": []
            },
            "outputs": [],
            "execution_count": null
        },
        {
            "cell_type": "code",
            "source": [
                "EXECUTE AS USER = 'AquaMan';\r\n",
                "SELECT FirstName, LastName, CodeName\r\n",
                "  FROM [justice].[Roster];\r\n",
                "REVERT;"
            ],
            "metadata": {
                "azdata_cell_guid": "48fa834e-3227-4f0e-96fc-031151952baf",
                "tags": []
            },
            "outputs": [],
            "execution_count": null
        },
        {
            "cell_type": "code",
            "source": [
                "GRANT UNMASK TO AquaMan;"
            ],
            "metadata": {
                "azdata_cell_guid": "21762f03-50e4-418d-8de1-e8552d307533",
                "tags": [
                    "hide_input"
                ]
            },
            "outputs": [],
            "execution_count": null
        },
        {
            "cell_type": "code",
            "source": [
                "REVOKE UNMASK TO AquaMan;"
            ],
            "metadata": {
                "azdata_cell_guid": "915d17f1-2e08-40dc-ad62-859557849048",
                "tags": [
                    "hide_input"
                ]
            },
            "outputs": [],
            "execution_count": null
        }
    ]
}