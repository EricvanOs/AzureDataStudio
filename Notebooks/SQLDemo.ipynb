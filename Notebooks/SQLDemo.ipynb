{
    "metadata": {
        "kernelspec": {
            "name": "SQL",
            "display_name": "SQL",
            "language": "sql"
        },
        "language_info": {
            "name": "sql",
            "version": ""
        }
    },
    "nbformat_minor": 2,
    "nbformat": 4,
    "cells": [
        {
            "cell_type": "markdown",
            "source": [
                "# SQL Server Notebook\n",
                "\n",
                " Basic SQL Information"
            ],
            "metadata": {
                "azdata_cell_guid": "fee94e4f-47f7-40b5-899a-f14bf2efe692"
            }
        },
        {
            "cell_type": "code",
            "source": [
                "SELECT @@VERSION"
            ],
            "metadata": {
                "azdata_cell_guid": "7f801c54-7c42-4ecd-b6b0-f8b3f7d99750",
                "tags": [
                    "hide_input"
                ]
            },
            "outputs": [
                {
                    "output_type": "display_data",
                    "data": {
                        "text/html": "(1 row affected)"
                    },
                    "metadata": {}
                },
                {
                    "output_type": "display_data",
                    "data": {
                        "text/html": "Total execution time: 00:00:01.075"
                    },
                    "metadata": {}
                },
                {
                    "output_type": "execute_result",
                    "metadata": {},
                    "execution_count": 4,
                    "data": {
                        "application/vnd.dataresource+json": {
                            "schema": {
                                "fields": [
                                    {
                                        "name": "(No column name)"
                                    }
                                ]
                            },
                            "data": [
                                {
                                    "0": "Microsoft SQL Azure (RTM) - 12.0.2000.8 \n\tApr 19 2021 17:05:18 \n\tCopyright (C) 2019 Microsoft Corporation\n"
                                }
                            ]
                        },
                        "text/html": [
                            "<table>",
                            "<tr><th>(No column name)</th></tr>",
                            "<tr><td>Microsoft SQL Azure (RTM) - 12.0.2000.8 \n\tApr 19 2021 17:05:18 \n\tCopyright (C) 2019 Microsoft Corporation\n</td></tr>",
                            "</table>"
                        ]
                    }
                }
            ],
            "execution_count": 4
        },
        {
            "cell_type": "code",
            "source": [
                "SELECT SERVERPROPERTY('EngineEdition')\r\n",
                "SELECT * FROM sys.dm_user_db_resource_governance"
            ],
            "metadata": {
                "azdata_cell_guid": "fa99a1cb-ddda-492c-894e-22a349dc49dd",
                "tags": [
                    "hide_input"
                ]
            },
            "outputs": [
                {
                    "output_type": "display_data",
                    "data": {
                        "text/html": "(1 row affected)"
                    },
                    "metadata": {}
                },
                {
                    "output_type": "display_data",
                    "data": {
                        "text/html": "(2 rows affected)"
                    },
                    "metadata": {}
                },
                {
                    "output_type": "display_data",
                    "data": {
                        "text/html": "Total execution time: 00:00:00.041"
                    },
                    "metadata": {}
                },
                {
                    "output_type": "execute_result",
                    "metadata": {},
                    "execution_count": 2,
                    "data": {
                        "application/vnd.dataresource+json": {
                            "schema": {
                                "fields": [
                                    {
                                        "name": "(No column name)"
                                    }
                                ]
                            },
                            "data": [
                                {
                                    "0": "5"
                                }
                            ]
                        },
                        "text/html": [
                            "<table>",
                            "<tr><th>(No column name)</th></tr>",
                            "<tr><td>5</td></tr>",
                            "</table>"
                        ]
                    }
                },
                {
                    "output_type": "execute_result",
                    "metadata": {},
                    "execution_count": 2,
                    "data": {
                        "application/vnd.dataresource+json": {
                            "schema": {
                                "fields": [
                                    {
                                        "name": "database_id"
                                    },
                                    {
                                        "name": "logical_database_guid"
                                    },
                                    {
                                        "name": "physical_database_guid"
                                    },
                                    {
                                        "name": "server_name"
                                    },
                                    {
                                        "name": "database_name"
                                    },
                                    {
                                        "name": "slo_name"
                                    },
                                    {
                                        "name": "dtu_limit"
                                    },
                                    {
                                        "name": "cpu_limit"
                                    },
                                    {
                                        "name": "min_cpu"
                                    },
                                    {
                                        "name": "max_cpu"
                                    },
                                    {
                                        "name": "cap_cpu"
                                    },
                                    {
                                        "name": "min_cores"
                                    },
                                    {
                                        "name": "max_dop"
                                    },
                                    {
                                        "name": "min_memory"
                                    },
                                    {
                                        "name": "max_memory"
                                    },
                                    {
                                        "name": "max_sessions"
                                    },
                                    {
                                        "name": "max_memory_grant"
                                    },
                                    {
                                        "name": "max_db_memory"
                                    },
                                    {
                                        "name": "govern_background_io"
                                    },
                                    {
                                        "name": "min_db_max_size_in_mb"
                                    },
                                    {
                                        "name": "max_db_max_size_in_mb"
                                    },
                                    {
                                        "name": "default_db_max_size_in_mb"
                                    },
                                    {
                                        "name": "db_file_growth_in_mb"
                                    },
                                    {
                                        "name": "initial_db_file_size_in_mb"
                                    },
                                    {
                                        "name": "log_size_in_mb"
                                    },
                                    {
                                        "name": "instance_cap_cpu"
                                    },
                                    {
                                        "name": "instance_max_log_rate"
                                    },
                                    {
                                        "name": "instance_max_worker_threads"
                                    },
                                    {
                                        "name": "replica_type"
                                    },
                                    {
                                        "name": "max_transaction_size"
                                    },
                                    {
                                        "name": "checkpoint_rate_mbps"
                                    },
                                    {
                                        "name": "checkpoint_rate_io"
                                    },
                                    {
                                        "name": "last_updated_date_utc"
                                    },
                                    {
                                        "name": "primary_group_id"
                                    },
                                    {
                                        "name": "primary_group_max_workers"
                                    },
                                    {
                                        "name": "primary_min_log_rate"
                                    },
                                    {
                                        "name": "primary_max_log_rate"
                                    },
                                    {
                                        "name": "primary_group_min_io"
                                    },
                                    {
                                        "name": "primary_group_max_io"
                                    },
                                    {
                                        "name": "primary_group_min_cpu"
                                    },
                                    {
                                        "name": "primary_group_max_cpu"
                                    },
                                    {
                                        "name": "primary_log_commit_fee"
                                    },
                                    {
                                        "name": "primary_pool_max_workers"
                                    },
                                    {
                                        "name": "pool_max_io"
                                    },
                                    {
                                        "name": "govern_db_memory_in_resource_pool"
                                    },
                                    {
                                        "name": "volume_local_iops"
                                    },
                                    {
                                        "name": "volume_managed_xstore_iops"
                                    },
                                    {
                                        "name": "volume_external_xstore_iops"
                                    },
                                    {
                                        "name": "volume_type_local_iops"
                                    },
                                    {
                                        "name": "volume_type_managed_xstore_iops"
                                    },
                                    {
                                        "name": "volume_type_external_xstore_iops"
                                    },
                                    {
                                        "name": "volume_pfs_iops"
                                    },
                                    {
                                        "name": "volume_type_pfs_iops"
                                    },
                                    {
                                        "name": "user_data_directory_space_quota_mb"
                                    },
                                    {
                                        "name": "user_data_directory_space_usage_mb"
                                    }
                                ]
                            },
                            "data": [
                                {
                                    "0": "5",
                                    "1": "69d1f067-b7dc-4db1-a90e-3859d712a844",
                                    "2": "38287c94-e107-48c3-a10f-44a8f7a604c1",
                                    "3": "ariadne2he",
                                    "4": "AdventureWorks",
                                    "5": "Basic_SQLG4VM",
                                    "6": "5",
                                    "7": "0",
                                    "8": "0",
                                    "9": "100",
                                    "10": "100",
                                    "11": "1",
                                    "12": "1",
                                    "13": "0",
                                    "14": "100",
                                    "15": "300",
                                    "16": "25",
                                    "17": "262144",
                                    "18": "0",
                                    "19": "32",
                                    "20": "2048",
                                    "21": "2048",
                                    "22": "16",
                                    "23": "16",
                                    "24": "5120",
                                    "25": "25",
                                    "26": "251658240",
                                    "27": "250",
                                    "28": "0",
                                    "29": "0",
                                    "30": "2",
                                    "31": "12",
                                    "32": "2021-04-22 15:30:55.407",
                                    "33": "2000000029",
                                    "34": "30",
                                    "35": "262144",
                                    "36": "524288",
                                    "37": "16",
                                    "38": "16",
                                    "39": "4",
                                    "40": "5",
                                    "41": "3000",
                                    "42": "0",
                                    "43": "-1",
                                    "44": "0",
                                    "45": "400",
                                    "46": "500",
                                    "47": "300",
                                    "48": "480",
                                    "49": "500",
                                    "50": "300",
                                    "51": "500",
                                    "52": "500",
                                    "53": "56320",
                                    "54": "96"
                                },
                                {
                                    "0": "6",
                                    "1": "bcad118c-d0f4-403d-9640-0926f021abb3",
                                    "2": "e7a8ea49-dd03-4b36-811c-7ef58784e05e",
                                    "3": "ariadne2he",
                                    "4": "master",
                                    "5": "Basic_SQLG4VM",
                                    "6": "5",
                                    "7": "0",
                                    "8": "0",
                                    "9": "100",
                                    "10": "100",
                                    "11": "1",
                                    "12": "1",
                                    "13": "0",
                                    "14": "100",
                                    "15": "300",
                                    "16": "25",
                                    "17": "262144",
                                    "18": "0",
                                    "19": "32",
                                    "20": "2048",
                                    "21": "2048",
                                    "22": "16",
                                    "23": "16",
                                    "24": "5120",
                                    "25": "25",
                                    "26": "251658240",
                                    "27": "250",
                                    "28": "0",
                                    "29": "0",
                                    "30": "2",
                                    "31": "12",
                                    "32": "2021-04-22 15:30:56.517",
                                    "33": "2000000031",
                                    "34": "30",
                                    "35": "262144",
                                    "36": "524288",
                                    "37": "16",
                                    "38": "16",
                                    "39": "4",
                                    "40": "5",
                                    "41": "3000",
                                    "42": "0",
                                    "43": "-1",
                                    "44": "0",
                                    "45": "400",
                                    "46": "500",
                                    "47": "300",
                                    "48": "480",
                                    "49": "500",
                                    "50": "300",
                                    "51": "500",
                                    "52": "500",
                                    "53": "56320",
                                    "54": "96"
                                }
                            ]
                        },
                        "text/html": [
                            "<table>",
                            "<tr><th>database_id</th><th>logical_database_guid</th><th>physical_database_guid</th><th>server_name</th><th>database_name</th><th>slo_name</th><th>dtu_limit</th><th>cpu_limit</th><th>min_cpu</th><th>max_cpu</th><th>cap_cpu</th><th>min_cores</th><th>max_dop</th><th>min_memory</th><th>max_memory</th><th>max_sessions</th><th>max_memory_grant</th><th>max_db_memory</th><th>govern_background_io</th><th>min_db_max_size_in_mb</th><th>max_db_max_size_in_mb</th><th>default_db_max_size_in_mb</th><th>db_file_growth_in_mb</th><th>initial_db_file_size_in_mb</th><th>log_size_in_mb</th><th>instance_cap_cpu</th><th>instance_max_log_rate</th><th>instance_max_worker_threads</th><th>replica_type</th><th>max_transaction_size</th><th>checkpoint_rate_mbps</th><th>checkpoint_rate_io</th><th>last_updated_date_utc</th><th>primary_group_id</th><th>primary_group_max_workers</th><th>primary_min_log_rate</th><th>primary_max_log_rate</th><th>primary_group_min_io</th><th>primary_group_max_io</th><th>primary_group_min_cpu</th><th>primary_group_max_cpu</th><th>primary_log_commit_fee</th><th>primary_pool_max_workers</th><th>pool_max_io</th><th>govern_db_memory_in_resource_pool</th><th>volume_local_iops</th><th>volume_managed_xstore_iops</th><th>volume_external_xstore_iops</th><th>volume_type_local_iops</th><th>volume_type_managed_xstore_iops</th><th>volume_type_external_xstore_iops</th><th>volume_pfs_iops</th><th>volume_type_pfs_iops</th><th>user_data_directory_space_quota_mb</th><th>user_data_directory_space_usage_mb</th></tr>",
                            "<tr><td>5</td><td>69d1f067-b7dc-4db1-a90e-3859d712a844</td><td>38287c94-e107-48c3-a10f-44a8f7a604c1</td><td>ariadne2he</td><td>AdventureWorks</td><td>Basic_SQLG4VM</td><td>5</td><td>0</td><td>0</td><td>100</td><td>100</td><td>1</td><td>1</td><td>0</td><td>100</td><td>300</td><td>25</td><td>262144</td><td>0</td><td>32</td><td>2048</td><td>2048</td><td>16</td><td>16</td><td>5120</td><td>25</td><td>251658240</td><td>250</td><td>0</td><td>0</td><td>2</td><td>12</td><td>2021-04-22 15:30:55.407</td><td>2000000029</td><td>30</td><td>262144</td><td>524288</td><td>16</td><td>16</td><td>4</td><td>5</td><td>3000</td><td>0</td><td>-1</td><td>0</td><td>400</td><td>500</td><td>300</td><td>480</td><td>500</td><td>300</td><td>500</td><td>500</td><td>56320</td><td>96</td></tr>",
                            "<tr><td>6</td><td>bcad118c-d0f4-403d-9640-0926f021abb3</td><td>e7a8ea49-dd03-4b36-811c-7ef58784e05e</td><td>ariadne2he</td><td>master</td><td>Basic_SQLG4VM</td><td>5</td><td>0</td><td>0</td><td>100</td><td>100</td><td>1</td><td>1</td><td>0</td><td>100</td><td>300</td><td>25</td><td>262144</td><td>0</td><td>32</td><td>2048</td><td>2048</td><td>16</td><td>16</td><td>5120</td><td>25</td><td>251658240</td><td>250</td><td>0</td><td>0</td><td>2</td><td>12</td><td>2021-04-22 15:30:56.517</td><td>2000000031</td><td>30</td><td>262144</td><td>524288</td><td>16</td><td>16</td><td>4</td><td>5</td><td>3000</td><td>0</td><td>-1</td><td>0</td><td>400</td><td>500</td><td>300</td><td>480</td><td>500</td><td>300</td><td>500</td><td>500</td><td>56320</td><td>96</td></tr>",
                            "</table>"
                        ]
                    }
                }
            ],
            "execution_count": 2
        },
        {
            "cell_type": "markdown",
            "source": [
                "Get roster content"
            ],
            "metadata": {
                "azdata_cell_guid": "8c72ae02-07c1-4ddc-8e02-6c01b80ffaa8"
            }
        },
        {
            "cell_type": "code",
            "source": [
                "SELECT [AddressID]\r\n",
                "      ,[AddressLine1]\r\n",
                "      ,[AddressLine2]\r\n",
                "      ,[City]\r\n",
                "      ,[StateProvince]\r\n",
                "      ,[CountryRegion]\r\n",
                "      ,[PostalCode]\r\n",
                "      ,[rowguid]\r\n",
                "      ,[ModifiedDate]\r\n",
                "  FROM [SalesLT].[Address]"
            ],
            "metadata": {
                "azdata_cell_guid": "47ce47c1-ece8-4764-a6b4-6a43d758d773",
                "tags": []
            },
            "outputs": [
                {
                    "output_type": "display_data",
                    "data": {
                        "text/html": "(450 rows affected)"
                    },
                    "metadata": {}
                },
                {
                    "output_type": "display_data",
                    "data": {
                        "text/html": "Total execution time: 00:00:02.586"
                    },
                    "metadata": {}
                },
                {
                    "output_type": "execute_result",
                    "metadata": {},
                    "execution_count": 5,
                    "data": {
                        "application/vnd.dataresource+json": {
                            "schema": {
                                "fields": [
                                    {
                                        "name": "AddressID"
                                    },
                                    {
                                        "name": "AddressLine1"
                                    },
                                    {
                                        "name": "AddressLine2"
                                    },
                                    {
                                        "name": "City"
                                    },
                                    {
                                        "name": "StateProvince"
                                    },
                                    {
                                        "name": "CountryRegion"
                                    },
                                    {
                                        "name": "PostalCode"
                                    },
                                    {
                                        "name": "rowguid"
                                    },
                                    {
                                        "name": "ModifiedDate"
                                    }
                                ]
                            },
                            "data": [
                                {
                                    "0": "9",
                                    "1": "8713 Yosemite Ct.",
                                    "2": "NULL",
                                    "3": "Bothell",
                                    "4": "Washington",
                                    "5": "United States",
                                    "6": "98011",
                                    "7": "268af621-76d7-4c78-9441-144fd139821a",
                                    "8": "2006-07-01 00:00:00.000"
                                },
                                {
                                    "0": "11",
                                    "1": "1318 Lasalle Street",
                                    "2": "NULL",
                                    "3": "Bothell",
                                    "4": "Washington",
                                    "5": "United States",
                                    "6": "98011",
                                    "7": "981b3303-aca2-49c7-9a96-fb670785b269",
                                    "8": "2007-04-01 00:00:00.000"
                                },
                                {
                                    "0": "25",
                                    "1": "9178 Jumping St.",
                                    "2": "NULL",
                                    "3": "Dallas",
                                    "4": "Texas",
                                    "5": "United States",
                                    "6": "75201",
                                    "7": "c8df3bd9-48f0-4654-a8dd-14a67a84d3c6",
                                    "8": "2006-09-01 00:00:00.000"
                                },
                                {
                                    "0": "28",
                                    "1": "9228 Via Del Sol",
                                    "2": "NULL",
                                    "3": "Phoenix",
                                    "4": "Arizona",
                                    "5": "United States",
                                    "6": "85004",
                                    "7": "12ae5ee1-fc3e-468b-9b92-3b970b169774",
                                    "8": "2005-09-01 00:00:00.000"
                                },
                                {
                                    "0": "32",
                                    "1": "26910 Indela Road",
                                    "2": "NULL",
                                    "3": "Montreal",
                                    "4": "Quebec",
                                    "5": "Canada",
                                    "6": "H1Y 2H5",
                                    "7": "84a95f62-3ae8-4e7e-bbd5-5a6f00cd982d",
                                    "8": "2006-08-01 00:00:00.000"
                                },
                                {
                                    "0": "185",
                                    "1": "2681 Eagle Peak",
                                    "2": "NULL",
                                    "3": "Bellevue",
                                    "4": "Washington",
                                    "5": "United States",
                                    "6": "98004",
                                    "7": "7bccf442-2268-46cc-8472-14c44c14e98c",
                                    "8": "2006-09-01 00:00:00.000"
                                },
                                {
                                    "0": "297",
                                    "1": "7943 Walnut Ave",
                                    "2": "NULL",
                                    "3": "Renton",
                                    "4": "Washington",
                                    "5": "United States",
                                    "6": "98055",
                                    "7": "52410da4-2778-4b1d-a599-95746625ce6d",
                                    "8": "2006-08-01 00:00:00.000"
                                },
                                {
                                    "0": "445",
                                    "1": "6388 Lake City Way",
                                    "2": "NULL",
                                    "3": "Burnaby",
                                    "4": "British Columbia",
                                    "5": "Canada",
                                    "6": "V5A 3A6",
                                    "7": "53572f25-9133-4a8b-a065-102ff35416ee",
                                    "8": "2006-09-01 00:00:00.000"
                                },
                                {
                                    "0": "446",
                                    "1": "52560 Free Street",
                                    "2": "NULL",
                                    "3": "Toronto",
                                    "4": "Ontario",
                                    "5": "Canada",
                                    "6": "M4B 1V7",
                                    "7": "801a1dfc-5125-486b-aa84-ccbd2ec57ca4",
                                    "8": "2005-08-01 00:00:00.000"
                                },
                                {
                                    "0": "447",
                                    "1": "22580 Free Street",
                                    "2": "NULL",
                                    "3": "Toronto",
                                    "4": "Ontario",
                                    "5": "Canada",
                                    "6": "M4B 1V7",
                                    "7": "88cee379-dbb8-433b-b84e-a35e09435500",
                                    "8": "2006-08-01 00:00:00.000"
                                },
                                {
                                    "0": "448",
                                    "1": "2575 Bloor Street East",
                                    "2": "NULL",
                                    "3": "Toronto",
                                    "4": "Ontario",
                                    "5": "Canada",
                                    "6": "M4B 1V6",
                                    "7": "2df6d0ad-0926-4f34-a450-9b1083150cbf",
                                    "8": "2007-08-01 00:00:00.000"
                                },
                                {
                                    "0": "449",
                                    "1": "Station E",
                                    "2": "NULL",
                                    "3": "Chalk Riber",
                                    "4": "Ontario",
                                    "5": "Canada",
                                    "6": "K0J 1J0",
                                    "7": "8b5a7729-cb75-4303-a607-7f9793b4d94f",
                                    "8": "2005-08-01 00:00:00.000"
                                },
                                {
                                    "0": "450",
                                    "1": "575 Rue St Amable",
                                    "2": "NULL",
                                    "3": "Quebec",
                                    "4": "Quebec",
                                    "5": "Canada",
                                    "6": "G1R",
                                    "7": "5f3c345a-6475-41d5-b17b-db8d27733bb1",
                                    "8": "2006-09-01 00:00:00.000"
                                },
                                {
                                    "0": "451",
                                    "1": "2512-4th Ave Sw",
                                    "2": "NULL",
                                    "3": "Calgary",
                                    "4": "Alberta",
                                    "5": "Canada",
                                    "6": "T2P 2G8",
                                    "7": "49644f1e-6f90-46d9-8dbb-9db15f0ef7ec",
                                    "8": "2006-12-01 00:00:00.000"
                                },
                                {
                                    "0": "452",
                                    "1": "55 Lakeshore Blvd East",
                                    "2": "NULL",
                                    "3": "Toronto",
                                    "4": "Ontario",
                                    "5": "Canada",
                                    "6": "M4B 1V6",
                                    "7": "a358652f-0e00-49e6-b6b0-de1099c43506",
                                    "8": "2005-09-01 00:00:00.000"
                                },
                                {
                                    "0": "453",
                                    "1": "6333 Cote Vertu",
                                    "2": "NULL",
                                    "3": "Montreal",
                                    "4": "Quebec",
                                    "5": "Canada",
                                    "6": "H1Y 2H7",
                                    "7": "355681f2-4d9d-4522-bfa0-105be64394d8",
                                    "8": "2007-09-01 00:00:00.000"
                                },
                                {
                                    "0": "454",
                                    "1": "3255 Front Street West",
                                    "2": "NULL",
                                    "3": "Toronto",
                                    "4": "Ontario",
                                    "5": "Canada",
                                    "6": "M4B 1V6",
                                    "7": "ef4dc57d-8b8b-4074-b5f0-acbef65dbec1",
                                    "8": "2007-08-01 00:00:00.000"
                                },
                                {
                                    "0": "455",
                                    "1": "2550 Signet Drive",
                                    "2": "NULL",
                                    "3": "Weston",
                                    "4": "Ontario",
                                    "5": "Canada",
                                    "6": "M9V 4W3",
                                    "7": "43d582cf-e95f-4861-ba60-2dc7121410a6",
                                    "8": "2006-08-01 00:00:00.000"
                                },
                                {
                                    "0": "456",
                                    "1": "6777 Kingsway",
                                    "2": "NULL",
                                    "3": "Burnaby",
                                    "4": "British Columbia",
                                    "5": "Canada",
                                    "6": "V5H 3Z7",
                                    "7": "2f3b383e-08a5-407d-ab1b-a1390e87a888",
                                    "8": "2006-08-01 00:00:00.000"
                                },
                                {
                                    "0": "457",
                                    "1": "5250-505 Burning St",
                                    "2": "NULL",
                                    "3": "Vancouver",
                                    "4": "British Columbia",
                                    "5": "Canada",
                                    "6": "V7L 4J4",
                                    "7": "93f02c61-783d-4f04-8a57-416f25817aba",
                                    "8": "2006-07-01 00:00:00.000"
                                },
                                {
                                    "0": "458",
                                    "1": "600 Slater Street",
                                    "2": "NULL",
                                    "3": "Ottawa",
                                    "4": "Ontario",
                                    "5": "Canada",
                                    "6": "K4B 1S2",
                                    "7": "49f4ee42-e20b-4e66-b43c-a28e9fc63ca0",
                                    "8": "2005-07-01 00:00:00.000"
                                },
                                {
                                    "0": "459",
                                    "1": "25575 The Queensway",
                                    "2": "NULL",
                                    "3": "Etobicoke",
                                    "4": "Ontario",
                                    "5": "Canada",
                                    "6": "M9W 3P3",
                                    "7": "616235ea-dc36-4c39-bf91-ffe12bb676e0",
                                    "8": "2005-08-01 00:00:00.000"
                                },
                                {
                                    "0": "460",
                                    "1": "2521 McPherson Street",
                                    "2": "NULL",
                                    "3": "Markham",
                                    "4": "Ontario",
                                    "5": "Canada",
                                    "6": "L3S 3K2",
                                    "7": "7d6f03ac-5d55-422e-850e-b8743fac81b2",
                                    "8": "2007-08-01 00:00:00.000"
                                },
                                {
                                    "0": "461",
                                    "1": "2560 Bay Street",
                                    "2": "NULL",
                                    "3": "Toronto",
                                    "4": "Ontario",
                                    "5": "Canada",
                                    "6": "M4B 1V7",
                                    "7": "726819a8-1b02-4efd-aeb9-3fd801d9f153",
                                    "8": "2006-08-01 00:00:00.000"
                                },
                                {
                                    "0": "462",
                                    "1": "630 University Avenue",
                                    "2": "NULL",
                                    "3": "Toronto",
                                    "4": "Ontario",
                                    "5": "Canada",
                                    "6": "M4B 1V7",
                                    "7": "27d5bdad-647d-4a56-859a-bc6a82af7dcd",
                                    "8": "2005-08-01 00:00:00.000"
                                },
                                {
                                    "0": "463",
                                    "1": "992 St Clair Ave East",
                                    "2": "NULL",
                                    "3": "Toronto",
                                    "4": "Ontario",
                                    "5": "Canada",
                                    "6": "M4B 1V7",
                                    "7": "d6ed51fa-6dd1-460c-99e0-64ba90f035ae",
                                    "8": "2005-09-01 00:00:00.000"
                                },
                                {
                                    "0": "464",
                                    "1": "99, Rue Saint-pierre",
                                    "2": "NULL",
                                    "3": "Pnot-Rouge",
                                    "4": "Quebec",
                                    "5": "Canada",
                                    "6": "J1E 2T7",
                                    "7": "c4a1ee36-8149-46b7-a313-a63010987a8e",
                                    "8": "2005-07-01 00:00:00.000"
                                },
                                {
                                    "0": "465",
                                    "1": "25245 Rue Sherbrooke Ouest",
                                    "2": "NULL",
                                    "3": "Montreal",
                                    "4": "Quebec",
                                    "5": "Canada",
                                    "6": "H1Y 2H5",
                                    "7": "10ee8c14-2792-4f02-b83d-92511d20470f",
                                    "8": "2007-07-01 00:00:00.000"
                                },
                                {
                                    "0": "466",
                                    "1": "655-4th Ave S.W.",
                                    "2": "NULL",
                                    "3": "Calgary",
                                    "4": "Alberta",
                                    "5": "Canada",
                                    "6": "T2P 2G8",
                                    "7": "09c5f0ba-7128-4455-832d-0df587248a5a",
                                    "8": "2005-08-01 00:00:00.000"
                                },
                                {
                                    "0": "467",
                                    "1": "25900-700-9th Ave S.W.",
                                    "2": "NULL",
                                    "3": "Calgary",
                                    "4": "Alberta",
                                    "5": "Canada",
                                    "6": "T2P 2G8",
                                    "7": "13560188-ce4a-470d-9913-49903047d459",
                                    "8": "2005-11-01 00:00:00.000"
                                },
                                {
                                    "0": "468",
                                    "1": "Po Box 83270",
                                    "2": "NULL",
                                    "3": "Vancouver",
                                    "4": "British Columbia",
                                    "5": "Canada",
                                    "6": "V7L 4J4",
                                    "7": "c00a5dff-b134-4900-9561-e67eeb425f9f",
                                    "8": "2007-08-01 00:00:00.000"
                                },
                                {
                                    "0": "469",
                                    "1": "400-25155 West Pender St",
                                    "2": "NULL",
                                    "3": "Vancouver",
                                    "4": "British Columbia",
                                    "5": "Canada",
                                    "6": "V7L 4J4",
                                    "7": "b81768f9-3b05-43dc-8dde-85ffca00d4de",
                                    "8": "2007-09-01 00:00:00.000"
                                },
                                {
                                    "0": "470",
                                    "1": "2511 Baker Road",
                                    "2": "NULL",
                                    "3": "Toronto",
                                    "4": "Ontario",
                                    "5": "Canada",
                                    "6": "M4B 1V7",
                                    "7": "6e934d97-69b9-4fcf-9e4e-56bf94e52986",
                                    "8": "2005-09-01 00:00:00.000"
                                },
                                {
                                    "0": "471",
                                    "1": "770 Notre Datme Quest Bureau 800",
                                    "2": "NULL",
                                    "3": "Montreal",
                                    "4": "Quebec",
                                    "5": "Canada",
                                    "6": "H1Y 2H7",
                                    "7": "5eda011d-31d1-4dfb-a78c-397b6335f85b",
                                    "8": "2005-09-01 00:00:00.000"
                                },
                                {
                                    "0": "472",
                                    "1": "250551 Shellbridge Way",
                                    "2": "NULL",
                                    "3": "Richmond",
                                    "4": "British Columbia",
                                    "5": "Canada",
                                    "6": "V6B 3P7",
                                    "7": "1a6a1a7b-e208-473d-a8f4-14a89d06fad2",
                                    "8": "2005-09-01 00:00:00.000"
                                },
                                {
                                    "0": "473",
                                    "1": "595 Burning Street",
                                    "2": "NULL",
                                    "3": "Vancouver",
                                    "4": "British Columbia",
                                    "5": "Canada",
                                    "6": "V7L 4J4",
                                    "7": "0ec83a85-137e-4cf3-b13d-3926277698b2",
                                    "8": "2005-09-01 00:00:00.000"
                                },
                                {
                                    "0": "474",
                                    "1": "252345 8810th Avenue",
                                    "2": "NULL",
                                    "3": "Surrey",
                                    "4": "British Columbia",
                                    "5": "Canada",
                                    "6": "V3T 4W3",
                                    "7": "447ca097-077d-4980-a431-8fafad156ced",
                                    "8": "2005-09-01 00:00:00.000"
                                },
                                {
                                    "0": "475",
                                    "1": "2512-410th Avenue S.W.",
                                    "2": "NULL",
                                    "3": "Calgary",
                                    "4": "Alberta",
                                    "5": "Canada",
                                    "6": "T2P 2G8",
                                    "7": "ec6c99b9-61e2-4400-8180-208f5a6c7eff",
                                    "8": "2007-09-01 00:00:00.000"
                                },
                                {
                                    "0": "476",
                                    "1": "258 King Street East",
                                    "2": "NULL",
                                    "3": "Toronto",
                                    "4": "Ontario",
                                    "5": "Canada",
                                    "6": "M4B 1V7",
                                    "7": "90c770a5-a474-43d1-9a67-0f5de336f9dc",
                                    "8": "2005-08-01 00:00:00.000"
                                },
                                {
                                    "0": "477",
                                    "1": "6th Floor Ferguson Block",
                                    "2": "NULL",
                                    "3": "Toronto",
                                    "4": "Ontario",
                                    "5": "Canada",
                                    "6": "M4B 1V7",
                                    "7": "39f3b067-2263-4591-abf9-d5210da4f783",
                                    "8": "2005-08-01 00:00:00.000"
                                },
                                {
                                    "0": "478",
                                    "1": "2545 King Street West",
                                    "2": "NULL",
                                    "3": "Toronto",
                                    "4": "Ontario",
                                    "5": "Canada",
                                    "6": "M4B 1V7",
                                    "7": "2817a0b7-8985-4527-bb7b-b75f55f4d8de",
                                    "8": "2005-08-01 00:00:00.000"
                                },
                                {
                                    "0": "479",
                                    "1": "2550 Middlefield Road",
                                    "2": "NULL",
                                    "3": "Scarborough",
                                    "4": "Ontario",
                                    "5": "Canada",
                                    "6": "M1V 4M2",
                                    "7": "e60801bf-cfb3-4606-a738-8aa0eb587afb",
                                    "8": "2005-08-01 00:00:00.000"
                                },
                                {
                                    "0": "480",
                                    "1": "25 First Canadian Place",
                                    "2": "NULL",
                                    "3": "Toronto",
                                    "4": "Ontario",
                                    "5": "Canada",
                                    "6": "M4B 1V5",
                                    "7": "07a009b2-1421-4597-ab85-22bce3c82b2c",
                                    "8": "2005-08-01 00:00:00.000"
                                },
                                {
                                    "0": "481",
                                    "1": "65 Gamelin Street",
                                    "2": "NULL",
                                    "3": "Hull",
                                    "4": "Quebec",
                                    "5": "Canada",
                                    "6": "8Y",
                                    "7": "f35e73ba-678f-4a0f-80bc-6385a7a6cb24",
                                    "8": "2006-08-01 00:00:00.000"
                                },
                                {
                                    "0": "482",
                                    "1": "2500 University Avenue",
                                    "2": "NULL",
                                    "3": "Toronto",
                                    "4": "Ontario",
                                    "5": "Canada",
                                    "6": "M4B 1V5",
                                    "7": "197a1735-e89e-4f15-a5f7-feb98b369094",
                                    "8": "2005-07-01 00:00:00.000"
                                },
                                {
                                    "0": "483",
                                    "1": "955 Green Valley Crescent",
                                    "2": "NULL",
                                    "3": "Ottawa",
                                    "4": "Ontario",
                                    "5": "Canada",
                                    "6": "K4B 1S1",
                                    "7": "c6b743c3-f830-43e4-ba58-dd36fc451d14",
                                    "8": "2007-09-01 00:00:00.000"
                                },
                                {
                                    "0": "484",
                                    "1": "2510 Crew Court",
                                    "2": "NULL",
                                    "3": "Montreal",
                                    "4": "Quebec",
                                    "5": "Canada",
                                    "6": "H1Y 2H8",
                                    "7": "1f41edc1-7144-4d6b-9cbd-4318c2358fa1",
                                    "8": "2008-06-01 00:00:00.000"
                                },
                                {
                                    "0": "485",
                                    "1": "9900-6400 Boul, Taschereau",
                                    "2": "NULL",
                                    "3": "Brossard",
                                    "4": "Quebec",
                                    "5": "Canada",
                                    "6": "J4Z 1R4",
                                    "7": "7c46d2fc-e31e-402f-a093-4cf18f7f6e54",
                                    "8": "2006-07-01 00:00:00.000"
                                },
                                {
                                    "0": "486",
                                    "1": "600 Boul. Rene-levesque Ouest",
                                    "2": "NULL",
                                    "3": "Montreal",
                                    "4": "Quebec",
                                    "5": "Canada",
                                    "6": "H1Y 2H7",
                                    "7": "112049e4-64d5-4305-9545-933e89b74f6e",
                                    "8": "2006-07-01 00:00:00.000"
                                },
                                {
                                    "0": "487",
                                    "1": "9259 - 1110th Avenue Sw",
                                    "2": "NULL",
                                    "3": "Calgary",
                                    "4": "Alberta",
                                    "5": "Canada",
                                    "6": "T2P 2G8",
                                    "7": "275ac976-0d23-4d97-9f58-bb186d1cc089",
                                    "8": "2006-09-01 00:00:00.000"
                                },
                                {
                                    "0": "488",
                                    "1": "45259 Canada Way",
                                    "2": "NULL",
                                    "3": "Burnaby",
                                    "4": "British Columbia",
                                    "5": "Canada",
                                    "6": "V5G 4S4",
                                    "7": "6d2d6846-3f17-474e-8d31-ad3a59c0ceb0",
                                    "8": "2007-08-01 00:00:00.000"
                                },
                                {
                                    "0": "489",
                                    "1": "9960 King Street E.",
                                    "2": "NULL",
                                    "3": "Toronto",
                                    "4": "Ontario",
                                    "5": "Canada",
                                    "6": "M4B 1V5",
                                    "7": "eb632e56-4299-4714-9e91-224319bdcb62",
                                    "8": "2007-08-01 00:00:00.000"
                                },
                                {
                                    "0": "490",
                                    "1": "9979 Bayview Drive",
                                    "2": "NULL",
                                    "3": "Barrie",
                                    "4": "Ontario",
                                    "5": "Canada",
                                    "6": "L4N",
                                    "7": "85d72a98-f631-457c-8fff-04faec508f5d",
                                    "8": "2006-08-01 00:00:00.000"
                                },
                                {
                                    "0": "491",
                                    "1": "20225 Lansing Ave",
                                    "2": "NULL",
                                    "3": "Montreal",
                                    "4": "Quebec",
                                    "5": "Canada",
                                    "6": "H1Y 2H7",
                                    "7": "a9b5a261-2463-4489-9951-eacfa29a8231",
                                    "8": "2007-09-01 00:00:00.000"
                                },
                                {
                                    "0": "492",
                                    "1": "99954 Boul. Laurier, Local 060, Place",
                                    "2": "NULL",
                                    "3": "Sainte-Foy",
                                    "4": "Quebec",
                                    "5": "Canada",
                                    "6": "G1W",
                                    "7": "541cde7c-3f3a-435f-a7b5-f30055dfbc68",
                                    "8": "2007-09-01 00:00:00.000"
                                },
                                {
                                    "0": "493",
                                    "1": "6th Floor 5250 Main Street",
                                    "2": "NULL",
                                    "3": "Winnipeg",
                                    "4": "Manitoba",
                                    "5": "Canada",
                                    "6": "R3",
                                    "7": "ac0e73d8-ff0a-42bd-8502-e19ebac7343f",
                                    "8": "2007-09-01 00:00:00.000"
                                },
                                {
                                    "0": "494",
                                    "1": "Box 99354 300 Union Street",
                                    "2": "NULL",
                                    "3": "Saint John",
                                    "4": "Brunswick",
                                    "5": "Canada",
                                    "6": "E2P 1E3",
                                    "7": "21ff77a8-39dc-44d8-917c-fdd645dbf9eb",
                                    "8": "2006-07-01 00:00:00.000"
                                },
                                {
                                    "0": "495",
                                    "1": "Suite 800 2530 Slater Street",
                                    "2": "NULL",
                                    "3": "Ottawa",
                                    "4": "Ontario",
                                    "5": "Canada",
                                    "6": "K4B 1T7",
                                    "7": "c6633ad5-006d-4967-b97e-7919dd48a700",
                                    "8": "2006-09-01 00:00:00.000"
                                },
                                {
                                    "0": "496",
                                    "1": "Suite 500 995 W. 11th Avenue",
                                    "2": "NULL",
                                    "3": "Mississauga",
                                    "4": "Ontario",
                                    "5": "Canada",
                                    "6": "L5A 1H6",
                                    "7": "496c1ad3-2925-4322-8811-890ab6107f67",
                                    "8": "2007-08-01 00:00:00.000"
                                },
                                {
                                    "0": "497",
                                    "1": "#9900 2700 Production Way",
                                    "2": "NULL",
                                    "3": "Burnaby",
                                    "4": "British Columbia",
                                    "5": "Canada",
                                    "6": "V5A 4X1",
                                    "7": "aa651b28-0a51-4084-8444-a70cc71bce65",
                                    "8": "2005-08-01 00:00:00.000"
                                },
                                {
                                    "0": "498",
                                    "1": "25537 Hillside Avenue",
                                    "2": "NULL",
                                    "3": "Victoria",
                                    "4": "British Columbia",
                                    "5": "Canada",
                                    "6": "V8V",
                                    "7": "385c24e0-e20c-40c9-bac9-95d70d5b6900",
                                    "8": "2005-08-01 00:00:00.000"
                                },
                                {
                                    "0": "499",
                                    "1": "Suite 2502 410 Albert Street",
                                    "2": "NULL",
                                    "3": "Waterloo",
                                    "4": "Ontario",
                                    "5": "Canada",
                                    "6": "N2V",
                                    "7": "44099b0e-03f3-447c-83bf-be4baa010a83",
                                    "8": "2006-08-01 00:00:00.000"
                                },
                                {
                                    "0": "500",
                                    "1": "5700 Explorer Drive",
                                    "2": "NULL",
                                    "3": "Mississauga",
                                    "4": "Ontario",
                                    "5": "Canada",
                                    "6": "L4W 5J3",
                                    "7": "f6fed7fa-39d9-4a60-a1f5-1622489e55fd",
                                    "8": "2005-08-01 00:00:00.000"
                                },
                                {
                                    "0": "501",
                                    "1": "965 De La Gauchetiere West",
                                    "2": "NULL",
                                    "3": "Montreal",
                                    "4": "Quebec",
                                    "5": "Canada",
                                    "6": "H1Y 2H8",
                                    "7": "acb9c033-18c6-4f02-975e-9c5226b96b72",
                                    "8": "2005-08-01 00:00:00.000"
                                },
                                {
                                    "0": "502",
                                    "1": "No. 25400 10665 Jasper Avenue",
                                    "2": "NULL",
                                    "3": "Edmonton",
                                    "4": "Alberta",
                                    "5": "Canada",
                                    "6": "T5",
                                    "7": "51180ca2-6614-46a5-b89c-ef7b0421c847",
                                    "8": "2006-08-01 00:00:00.000"
                                },
                                {
                                    "0": "503",
                                    "1": "P.O. Box 44000",
                                    "2": "NULL",
                                    "3": "Winnipeg",
                                    "4": "Manitoba",
                                    "5": "Canada",
                                    "6": "R3",
                                    "7": "c4f3e274-13e1-4a99-8fd3-2c7d3d1ee5a1",
                                    "8": "2005-08-01 00:00:00.000"
                                },
                                {
                                    "0": "504",
                                    "1": "Suite 99320 255 - 510th Avenue S.W.",
                                    "2": "NULL",
                                    "3": "Calgary",
                                    "4": "Alberta",
                                    "5": "Canada",
                                    "6": "T2P 2G8",
                                    "7": "cff7437f-6830-4797-875b-d9a54ea38975",
                                    "8": "2005-08-01 00:00:00.000"
                                },
                                {
                                    "0": "505",
                                    "1": "6400, 888 - 3rd Avenue",
                                    "2": "NULL",
                                    "3": "Calgary",
                                    "4": "Alberta",
                                    "5": "Canada",
                                    "6": "T2P 2G8",
                                    "7": "a6eff2b6-3b11-47ef-ab7e-701e5041c71c",
                                    "8": "2005-08-01 00:00:00.000"
                                },
                                {
                                    "0": "506",
                                    "1": "255117 - 101 Avenue",
                                    "2": "NULL",
                                    "3": "Surrey",
                                    "4": "British Columbia",
                                    "5": "Canada",
                                    "6": "V3T 4W3",
                                    "7": "22895b47-6086-4550-b437-a75dbedfe1d9",
                                    "8": "2005-08-01 00:00:00.000"
                                },
                                {
                                    "0": "507",
                                    "1": "975 Princess Street",
                                    "2": "NULL",
                                    "3": "Kingston",
                                    "4": "Ontario",
                                    "5": "Canada",
                                    "6": "7L",
                                    "7": "d7849f5f-c042-4fce-8f6b-ba5cd8708e10",
                                    "8": "2007-09-01 00:00:00.000"
                                },
                                {
                                    "0": "508",
                                    "1": "2900 - 25055 Dunning Street",
                                    "2": "NULL",
                                    "3": "Vancouver",
                                    "4": "British Columbia",
                                    "5": "Canada",
                                    "6": "V7L 4J4",
                                    "7": "4ee0334f-027c-4036-880f-6e9104e21533",
                                    "8": "2006-12-01 00:00:00.000"
                                },
                                {
                                    "0": "509",
                                    "1": "Suite 25800 3401 - 10810th Avenue",
                                    "2": "NULL",
                                    "3": "Surrey",
                                    "4": "British Columbia",
                                    "5": "Canada",
                                    "6": "V3T 4W3",
                                    "7": "28c52717-7117-41b6-a5c7-fda60d566163",
                                    "8": "2005-08-01 00:00:00.000"
                                },
                                {
                                    "0": "510",
                                    "1": "750 Philip Street",
                                    "2": "NULL",
                                    "3": "Waterloo",
                                    "4": "Ontario",
                                    "5": "Canada",
                                    "6": "N2V",
                                    "7": "f2b96299-187a-4e52-96de-fe9d1c8ab33f",
                                    "8": "2005-11-01 00:00:00.000"
                                },
                                {
                                    "0": "511",
                                    "1": "Bureau 9900 825, Avenue Querbes",
                                    "2": "NULL",
                                    "3": "Outremont",
                                    "4": "Quebec",
                                    "5": "Canada",
                                    "6": "H1Y 2G5",
                                    "7": "ef10cf20-a540-4d5c-befd-1b48b7d48402",
                                    "8": "2006-12-01 00:00:00.000"
                                },
                                {
                                    "0": "512",
                                    "1": "700 Bureau Road",
                                    "2": "NULL",
                                    "3": "Montreal",
                                    "4": "Quebec",
                                    "5": "Canada",
                                    "6": "H1Y 2H7",
                                    "7": "963f514b-7752-46e8-9742-1fd40a68ea33",
                                    "8": "2007-09-01 00:00:00.000"
                                },
                                {
                                    "0": "513",
                                    "1": "253711 Mayfield Place, Unit 150",
                                    "2": "NULL",
                                    "3": "Richmond",
                                    "4": "British Columbia",
                                    "5": "Canada",
                                    "6": "V6B 3P7",
                                    "7": "c418c2f4-6b32-4404-aab1-e0bec3958c11",
                                    "8": "2007-09-01 00:00:00.000"
                                },
                                {
                                    "0": "514",
                                    "1": "63 West Beaver Creek",
                                    "2": "NULL",
                                    "3": "Richmond Hill",
                                    "4": "Ontario",
                                    "5": "Canada",
                                    "6": "L4E 3M5",
                                    "7": "ad60dba9-3b01-47e9-bb5e-df94d0579f14",
                                    "8": "2006-09-01 00:00:00.000"
                                },
                                {
                                    "0": "515",
                                    "1": "9900 Ronson Drive",
                                    "2": "NULL",
                                    "3": "Etobicoke",
                                    "4": "Ontario",
                                    "5": "Canada",
                                    "6": "M9W 3P3",
                                    "7": "42242712-6dd2-423f-9b89-c953454e3b09",
                                    "8": "2006-07-01 00:00:00.000"
                                },
                                {
                                    "0": "516",
                                    "1": "251 Indell Lane",
                                    "2": "NULL",
                                    "3": "Brampton",
                                    "4": "Ontario",
                                    "5": "Canada",
                                    "6": "L6W 2T7",
                                    "7": "a1f36994-b5b3-4646-87ea-692a513395ea",
                                    "8": "2006-08-01 00:00:00.000"
                                },
                                {
                                    "0": "517",
                                    "1": "2573 Dufferin Street",
                                    "2": "NULL",
                                    "3": "Toronto",
                                    "4": "Ontario",
                                    "5": "Canada",
                                    "6": "M4B 1V5",
                                    "7": "97605c5c-8309-44f2-9a98-c5a5709497ff",
                                    "8": "2005-07-01 00:00:00.000"
                                },
                                {
                                    "0": "518",
                                    "1": "995 Crescent",
                                    "2": "NULL",
                                    "3": "Richmond Hill",
                                    "4": "Ontario",
                                    "5": "Canada",
                                    "6": "L4E 3M5",
                                    "7": "0b49022d-8b49-4cf6-b0a3-46231cd48441",
                                    "8": "2007-09-01 00:00:00.000"
                                },
                                {
                                    "0": "519",
                                    "1": "2500-622 5th Ave Sw",
                                    "2": "NULL",
                                    "3": "Calgary",
                                    "4": "Alberta",
                                    "5": "Canada",
                                    "6": "T2P 2G8",
                                    "7": "13754965-6a09-4343-968c-8699c27fdfaa",
                                    "8": "2006-08-01 00:00:00.000"
                                },
                                {
                                    "0": "520",
                                    "1": "6700 Boul Taschereau",
                                    "2": "NULL",
                                    "3": "Brossard",
                                    "4": "Quebec",
                                    "5": "Canada",
                                    "6": "J4Z 1C5",
                                    "7": "b730eaff-5828-4c8c-86c1-9137f50fca48",
                                    "8": "2005-09-01 00:00:00.000"
                                },
                                {
                                    "0": "521",
                                    "1": "55 Standish Court",
                                    "2": "NULL",
                                    "3": "Mississauga",
                                    "4": "Ontario",
                                    "5": "Canada",
                                    "6": "L5B 3V4",
                                    "7": "97c329e2-fa67-4478-aa7b-78a8deecf7ca",
                                    "8": "2006-09-01 00:00:00.000"
                                },
                                {
                                    "0": "522",
                                    "1": "43251 Viking Way, Unit 130",
                                    "2": "NULL",
                                    "3": "Richmond",
                                    "4": "British Columbia",
                                    "5": "Canada",
                                    "6": "V6B 3P7",
                                    "7": "842bcbe5-9da5-42d5-a4bb-4197db5b69c7",
                                    "8": "2007-02-01 00:00:00.000"
                                },
                                {
                                    "0": "523",
                                    "1": "46990 Viking Way",
                                    "2": "NULL",
                                    "3": "Richmond",
                                    "4": "British Columbia",
                                    "5": "Canada",
                                    "6": "V6B 3P7",
                                    "7": "85c88cd6-682c-4358-9f8c-5a24f4ccfd98",
                                    "8": "2005-08-01 00:00:00.000"
                                },
                                {
                                    "0": "524",
                                    "1": "9693 Louis H Lafontaine",
                                    "2": "NULL",
                                    "3": "Ville De'anjou",
                                    "4": "Quebec",
                                    "5": "Canada",
                                    "6": "J1G 2R3",
                                    "7": "acc21bd9-fb1b-4764-941b-2fb98aa4eb27",
                                    "8": "2006-08-01 00:00:00.000"
                                },
                                {
                                    "0": "525",
                                    "1": "69251 Creditview Road",
                                    "2": "NULL",
                                    "3": "Mississauga",
                                    "4": "Ontario",
                                    "5": "Canada",
                                    "6": "L5B 3V4",
                                    "7": "2ca11975-213a-46fb-a0be-2529003074cc",
                                    "8": "2005-07-01 00:00:00.000"
                                },
                                {
                                    "0": "526",
                                    "1": "251420a 170th Street",
                                    "2": "NULL",
                                    "3": "Edmonton",
                                    "4": "Alberta",
                                    "5": "Canada",
                                    "6": "T5",
                                    "7": "476d80ae-69a0-480d-9df3-8fd0c1095a21",
                                    "8": "2006-07-01 00:00:00.000"
                                },
                                {
                                    "0": "527",
                                    "1": "252851 Rowan Place",
                                    "2": "NULL",
                                    "3": "Richmond",
                                    "4": "British Columbia",
                                    "5": "Canada",
                                    "6": "V6B 3P7",
                                    "7": "11eaee50-8a14-4b81-951e-86701b6f60c0",
                                    "8": "2006-09-01 00:00:00.000"
                                },
                                {
                                    "0": "528",
                                    "1": "5990 Avebury Road",
                                    "2": "NULL",
                                    "3": "Mississauga",
                                    "4": "Ontario",
                                    "5": "Canada",
                                    "6": "L5B 3V4",
                                    "7": "d9928ccc-fc35-435a-8a0f-6887813e0e06",
                                    "8": "2005-09-01 00:00:00.000"
                                },
                                {
                                    "0": "529",
                                    "1": "254480 River Rd",
                                    "2": "NULL",
                                    "3": "Richmond",
                                    "4": "British Columbia",
                                    "5": "Canada",
                                    "6": "V6B 3P7",
                                    "7": "034076fd-cd0e-4ead-864e-8ce7f47d6612",
                                    "8": "2005-07-01 00:00:00.000"
                                },
                                {
                                    "0": "530",
                                    "1": "Suite #9902",
                                    "2": "NULL",
                                    "3": "North York",
                                    "4": "Ontario",
                                    "5": "Canada",
                                    "6": "M4C 4K6",
                                    "7": "fe36e0c8-ad8a-4d2c-bc53-5d69be5a9ce7",
                                    "8": "2005-07-01 00:00:00.000"
                                },
                                {
                                    "0": "531",
                                    "1": "5th Floor, 79 Place D'armes",
                                    "2": "NULL",
                                    "3": "Kingston",
                                    "4": "Ontario",
                                    "5": "Canada",
                                    "6": "7L",
                                    "7": "f6fb5f79-c5fa-4a7c-8d75-6e9243360308",
                                    "8": "2006-11-01 00:00:00.000"
                                },
                                {
                                    "0": "532",
                                    "1": "#500-75 O'Connor Street",
                                    "2": "NULL",
                                    "3": "Ottawa",
                                    "4": "Ontario",
                                    "5": "Canada",
                                    "6": "K4B 1S2",
                                    "7": "1b58b9bc-a691-4927-bf17-569e4be822f3",
                                    "8": "2005-12-01 00:00:00.000"
                                },
                                {
                                    "0": "533",
                                    "1": "4400 March Road",
                                    "2": "NULL",
                                    "3": "Kanata",
                                    "4": "Ontario",
                                    "5": "Canada",
                                    "6": "K2L 1H5",
                                    "7": "43484cd9-ad5b-41f4-a9cc-ddfbac4b5aa5",
                                    "8": "2005-11-01 00:00:00.000"
                                },
                                {
                                    "0": "534",
                                    "1": "Depot 80",
                                    "2": "NULL",
                                    "3": "Sillery",
                                    "4": "Quebec",
                                    "5": "Canada",
                                    "6": "G1T",
                                    "7": "3178440d-5c3a-48f2-af6b-0a607774e265",
                                    "8": "2005-08-01 00:00:00.000"
                                },
                                {
                                    "0": "535",
                                    "1": "250 Kingsbridge Garden Circle",
                                    "2": "NULL",
                                    "3": "Mississauga",
                                    "4": "Ontario",
                                    "5": "Canada",
                                    "6": "L5B 3V4",
                                    "7": "9771494e-9053-40f2-84a5-e0d108deefed",
                                    "8": "2005-11-01 00:00:00.000"
                                },
                                {
                                    "0": "536",
                                    "1": "No. 2000-25080 Beaver Hall Hill",
                                    "2": "NULL",
                                    "3": "Quebec",
                                    "4": "Quebec",
                                    "5": "Canada",
                                    "6": "G1R",
                                    "7": "0c38c439-4562-4e37-8f23-aff2c9005c38",
                                    "8": "2006-09-01 00:00:00.000"
                                },
                                {
                                    "0": "537",
                                    "1": "No. 25800-130 King Street West",
                                    "2": "NULL",
                                    "3": "Toronto",
                                    "4": "Ontario",
                                    "5": "Canada",
                                    "6": "M4B 1V5",
                                    "7": "c2bcdaec-366c-489c-bf43-8cc2881179f3",
                                    "8": "2005-09-01 00:00:00.000"
                                },
                                {
                                    "0": "538",
                                    "1": "25 Danger Street West",
                                    "2": "Floor 7",
                                    "3": "Toronto",
                                    "4": "Ontario",
                                    "5": "Canada",
                                    "6": "M4B 1V5",
                                    "7": "10b2404c-f0af-409c-af5d-0218beb03d0d",
                                    "8": "2007-08-01 00:00:00.000"
                                },
                                {
                                    "0": "539",
                                    "1": "6th Floor, 25st Canadian Place",
                                    "2": "NULL",
                                    "3": "Toronto",
                                    "4": "Ontario",
                                    "5": "Canada",
                                    "6": "M4B 1V5",
                                    "7": "d51784c0-cc77-48c2-8fa6-75405f3e35b9",
                                    "8": "2005-08-01 00:00:00.000"
                                },
                                {
                                    "0": "540",
                                    "1": "254 Colonnade Road",
                                    "2": "NULL",
                                    "3": "Nepean",
                                    "4": "Ontario",
                                    "5": "Canada",
                                    "6": "K2J 2W5",
                                    "7": "1c97f465-f2af-4d34-be8c-7afdad119425",
                                    "8": "2005-08-01 00:00:00.000"
                                },
                                {
                                    "0": "541",
                                    "1": "25981 College Street",
                                    "2": "NULL",
                                    "3": "Montreal",
                                    "4": "Quebec",
                                    "5": "Canada",
                                    "6": "H1Y 2H5",
                                    "7": "af56d631-eb1c-4716-a89b-88bc4ae04b93",
                                    "8": "2006-08-01 00:00:00.000"
                                },
                                {
                                    "0": "542",
                                    "1": "5 place Ville-Marie",
                                    "2": "NULL",
                                    "3": "Montreal",
                                    "4": "Quebec",
                                    "5": "Canada",
                                    "6": "H1Y 2H7",
                                    "7": "b242b256-254b-4624-b3af-bf0058bb0b7b",
                                    "8": "2006-09-01 00:00:00.000"
                                },
                                {
                                    "0": "543",
                                    "1": "6030 Conroy Road",
                                    "2": "NULL",
                                    "3": "Ottawa",
                                    "4": "Ontario",
                                    "5": "Canada",
                                    "6": "K4B 1S3",
                                    "7": "aa8f3ecb-c454-448b-b774-ff9cdf01e629",
                                    "8": "2006-09-01 00:00:00.000"
                                },
                                {
                                    "0": "544",
                                    "1": "30025 Wayburne Drive, Suite 275",
                                    "2": "NULL",
                                    "3": "Burnaby",
                                    "4": "British Columbia",
                                    "5": "Canada",
                                    "6": "V5G 4W1",
                                    "7": "4c65a591-c6b0-43d8-8faf-f4b1cb9953e1",
                                    "8": "2005-09-01 00:00:00.000"
                                },
                                {
                                    "0": "545",
                                    "1": "999 West Georgia St.",
                                    "2": "NULL",
                                    "3": "Vancouver",
                                    "4": "Ontario",
                                    "5": "Canada",
                                    "6": "V5T 1Y9",
                                    "7": "9d35f3c2-966e-4b3b-8d29-0e6ab8def01b",
                                    "8": "2006-09-01 00:00:00.000"
                                },
                                {
                                    "0": "546",
                                    "1": "250333 Southport Road, S.W.",
                                    "2": "NULL",
                                    "3": "Calgary",
                                    "4": "Alberta",
                                    "5": "Canada",
                                    "6": "T2P 2G8",
                                    "7": "11d29e3f-d9b2-4e24-ac01-eeba72da4ddf",
                                    "8": "2007-08-01 00:00:00.000"
                                },
                                {
                                    "0": "547",
                                    "1": "7000 Victoria Park Avenue",
                                    "2": "NULL",
                                    "3": "Toronto",
                                    "4": "Ontario",
                                    "5": "Canada",
                                    "6": "M4B 1V4",
                                    "7": "28125ec3-fdc2-45d8-93b3-cd7db2113424",
                                    "8": "2007-09-01 00:00:00.000"
                                },
                                {
                                    "0": "548",
                                    "1": "63 Free St.",
                                    "2": "NULL",
                                    "3": "Toronto",
                                    "4": "Ontario",
                                    "5": "Canada",
                                    "6": "M4B 1V4",
                                    "7": "5649c5d8-1798-4622-95bf-dc7e581284a0",
                                    "8": "2005-09-01 00:00:00.000"
                                },
                                {
                                    "0": "549",
                                    "1": "609 Evans Avenue",
                                    "2": "NULL",
                                    "3": "Toronto",
                                    "4": "Ontario",
                                    "5": "Canada",
                                    "6": "M4B 1V4",
                                    "7": "dcf9c9b5-a7b6-4383-9480-1f84130b5f8b",
                                    "8": "2006-09-01 00:00:00.000"
                                },
                                {
                                    "0": "550",
                                    "1": "2520 Flanders Road",
                                    "2": "NULL",
                                    "3": "Toronto",
                                    "4": "Ontario",
                                    "5": "Canada",
                                    "6": "M4B 1V4",
                                    "7": "a1d478e6-76da-445f-a924-0b5dee3c7cbb",
                                    "8": "2006-08-01 00:00:00.000"
                                },
                                {
                                    "0": "551",
                                    "1": "32605 West 252 Mile Road, Suite 250",
                                    "2": "NULL",
                                    "3": "Aurora",
                                    "4": "Ontario",
                                    "5": "Canada",
                                    "6": "L4G 7N6",
                                    "7": "e7567a62-3acf-4f0b-b202-e28b92de689a",
                                    "8": "2006-09-01 00:00:00.000"
                                },
                                {
                                    "0": "552",
                                    "1": "25730, boul. St-Régis",
                                    "2": "NULL",
                                    "3": "Dorval",
                                    "4": "Quebec",
                                    "5": "Canada",
                                    "6": "H9P 1H1",
                                    "7": "6832a3bd-56ec-42fe-8b4c-6bfd09f89eb4",
                                    "8": "2008-06-01 00:00:00.000"
                                },
                                {
                                    "0": "553",
                                    "1": "253131 Lake Frasier Drive, Office No. 2",
                                    "2": "NULL",
                                    "3": "Calgary",
                                    "4": "Alberta",
                                    "5": "Canada",
                                    "6": "T2P 2G8",
                                    "7": "ef7b5bd3-3a04-4a09-a0d2-02b98e3333dc",
                                    "8": "2005-08-01 00:00:00.000"
                                },
                                {
                                    "0": "554",
                                    "1": "9984 Wellington Street",
                                    "2": "NULL",
                                    "3": "Ottawa",
                                    "4": "Ontario",
                                    "5": "Canada",
                                    "6": "K4B 1S2",
                                    "7": "6e0797c9-fd43-418f-a5fe-8683292b95fe",
                                    "8": "2006-08-01 00:00:00.000"
                                },
                                {
                                    "0": "555",
                                    "1": "9950 Ferrand Drive, 9th Floor",
                                    "2": "NULL",
                                    "3": "Toronto",
                                    "4": "Ontario",
                                    "5": "Canada",
                                    "6": "M4B 1V4",
                                    "7": "32890831-931e-44ad-801b-41b1ad862eca",
                                    "8": "2005-09-01 00:00:00.000"
                                },
                                {
                                    "0": "556",
                                    "1": "990th Floor 700 De La GauchetiSre Ou",
                                    "2": "NULL",
                                    "3": "Montreal",
                                    "4": "Quebec",
                                    "5": "Canada",
                                    "6": "H1Y 2H3",
                                    "7": "87846d7c-ab01-41c6-a4cc-fad06d74d11b",
                                    "8": "2005-07-01 00:00:00.000"
                                },
                                {
                                    "0": "557",
                                    "1": "660 Saint-Jacques, Bureau 400",
                                    "2": "NULL",
                                    "3": "Montreal",
                                    "4": "Quebec",
                                    "5": "Canada",
                                    "6": "H1Y 2H8",
                                    "7": "dce88c1f-8bfe-4306-ba02-50446466c5e5",
                                    "8": "2006-09-01 00:00:00.000"
                                },
                                {
                                    "0": "558",
                                    "1": "67255 - 8th Street N.E., Suite 350",
                                    "2": "NULL",
                                    "3": "Calgary",
                                    "4": "Alberta",
                                    "5": "Canada",
                                    "6": "T2P 2G8",
                                    "7": "da596abb-b3af-48ec-a082-9e94cd870a5f",
                                    "8": "2006-12-01 00:00:00.000"
                                },
                                {
                                    "0": "559",
                                    "1": "12345 Sterling Avenue",
                                    "2": "NULL",
                                    "3": "Irving",
                                    "4": "Texas",
                                    "5": "United States",
                                    "6": "75061",
                                    "7": "0d39391c-a319-486b-ac9e-5863795d6675",
                                    "8": "2005-09-01 00:00:00.000"
                                },
                                {
                                    "0": "560",
                                    "1": "800 Interchange Blvd.",
                                    "2": "Suite 2501",
                                    "3": "Austin",
                                    "4": "Texas",
                                    "5": "United States",
                                    "6": "78701",
                                    "7": "5790365c-da3c-43bc-93d3-99104c038b71",
                                    "8": "2006-07-01 00:00:00.000"
                                },
                                {
                                    "0": "561",
                                    "1": "90025 Sterling St",
                                    "2": "NULL",
                                    "3": "Irving",
                                    "4": "Texas",
                                    "5": "United States",
                                    "6": "75061",
                                    "7": "c1ca3287-f642-44da-bba1-8ab47e1907dd",
                                    "8": "2006-09-01 00:00:00.000"
                                },
                                {
                                    "0": "562",
                                    "1": "2505 Gateway Drive",
                                    "2": "NULL",
                                    "3": "North Sioux City",
                                    "4": "South Dakota",
                                    "5": "United States",
                                    "6": "57049",
                                    "7": "57a5e455-526c-402a-bc5d-ee613bf58372",
                                    "8": "2005-08-01 00:00:00.000"
                                },
                                {
                                    "0": "563",
                                    "1": "74400 France Avenue South",
                                    "2": "NULL",
                                    "3": "Edina",
                                    "4": "Minnesota",
                                    "5": "United States",
                                    "6": "55436",
                                    "7": "a1841d05-cabd-4453-96e4-9b1e95ca2bc2",
                                    "8": "2006-09-01 00:00:00.000"
                                },
                                {
                                    "0": "564",
                                    "1": "509 Nafta Boulevard",
                                    "2": "NULL",
                                    "3": "Laredo",
                                    "4": "Texas",
                                    "5": "United States",
                                    "6": "78040",
                                    "7": "f9a8a87a-152f-4204-b5d2-dbcb8da1c13b",
                                    "8": "2005-08-01 00:00:00.000"
                                },
                                {
                                    "0": "565",
                                    "1": "25149 Howard Dr",
                                    "2": "NULL",
                                    "3": "West Chicago",
                                    "4": "Illinois",
                                    "5": "United States",
                                    "6": "60185",
                                    "7": "f4915606-499d-477d-8309-e8f92e9d8fe3",
                                    "8": "2005-09-01 00:00:00.000"
                                },
                                {
                                    "0": "566",
                                    "1": "63 W Monroe",
                                    "2": "NULL",
                                    "3": "Chicago",
                                    "4": "Illinois",
                                    "5": "United States",
                                    "6": "60610",
                                    "7": "61113716-53e4-4faa-a5a2-247b03f0f9c6",
                                    "8": "2005-11-01 00:00:00.000"
                                },
                                {
                                    "0": "567",
                                    "1": "Corporate Office",
                                    "2": "NULL",
                                    "3": "Garland",
                                    "4": "Texas",
                                    "5": "United States",
                                    "6": "75040",
                                    "7": "10cc0938-b0af-42e0-9176-564321c68787",
                                    "8": "2005-09-01 00:00:00.000"
                                },
                                {
                                    "0": "568",
                                    "1": "25269 N. Wood Dale Rd",
                                    "2": "NULL",
                                    "3": "Wood Dale",
                                    "4": "Illinois",
                                    "5": "United States",
                                    "6": "60191",
                                    "7": "e863927d-49fb-47ab-9ca6-a5f36d082b66",
                                    "8": "2005-09-01 00:00:00.000"
                                },
                                {
                                    "0": "569",
                                    "1": "Sapp Road West",
                                    "2": "NULL",
                                    "3": "Round Rock",
                                    "4": "Texas",
                                    "5": "United States",
                                    "6": "78664",
                                    "7": "b7ea2783-866e-4ad9-945c-914b674ad2cd",
                                    "8": "2005-09-01 00:00:00.000"
                                },
                                {
                                    "0": "570",
                                    "1": "52500 Liberty Way",
                                    "2": "NULL",
                                    "3": "Fort Worth",
                                    "4": "Texas",
                                    "5": "United States",
                                    "6": "76102",
                                    "7": "f5a1147f-761f-4577-bb48-bbef73b4a27f",
                                    "8": "2006-07-01 00:00:00.000"
                                },
                                {
                                    "0": "571",
                                    "1": "25550 Executive Dr",
                                    "2": "NULL",
                                    "3": "Elgin",
                                    "4": "Illinois",
                                    "5": "United States",
                                    "6": "60120",
                                    "7": "8caf52b2-d3e2-4a5f-a704-874768007f38",
                                    "8": "2005-12-01 00:00:00.000"
                                },
                                {
                                    "0": "572",
                                    "1": "P.O. Box 6256916",
                                    "2": "NULL",
                                    "3": "Dallas",
                                    "4": "Texas",
                                    "5": "United States",
                                    "6": "75201",
                                    "7": "206e0ff7-e120-4845-acb4-a4443ebf6429",
                                    "8": "2007-09-01 00:00:00.000"
                                },
                                {
                                    "0": "573",
                                    "1": "25269 Wood Dale Rd.",
                                    "2": "NULL",
                                    "3": "Wood Dale",
                                    "4": "Illinois",
                                    "5": "United States",
                                    "6": "60191",
                                    "7": "e4c1153e-6c1a-45df-addb-80fac429fa3f",
                                    "8": "2005-11-01 00:00:00.000"
                                },
                                {
                                    "0": "574",
                                    "1": "Po Box 8259024",
                                    "2": "NULL",
                                    "3": "Dallas",
                                    "4": "Texas",
                                    "5": "United States",
                                    "6": "75201",
                                    "7": "9794b438-2e91-4699-85df-5fcf98210ac1",
                                    "8": "2006-09-01 00:00:00.000"
                                },
                                {
                                    "0": "575",
                                    "1": "42500 W 76th St",
                                    "2": "NULL",
                                    "3": "Chicago",
                                    "4": "Illinois",
                                    "5": "United States",
                                    "6": "60610",
                                    "7": "cd335652-0913-40ea-9ae0-323066fc04f0",
                                    "8": "2006-09-01 00:00:00.000"
                                },
                                {
                                    "0": "576",
                                    "1": "4255 East Lies Road",
                                    "2": "NULL",
                                    "3": "Carol Stream",
                                    "4": "Illinois",
                                    "5": "United States",
                                    "6": "60188",
                                    "7": "c1a9793e-50b5-431c-82dd-8b36acc9ac4e",
                                    "8": "2005-11-01 00:00:00.000"
                                },
                                {
                                    "0": "577",
                                    "1": "2500 North Stemmons Freeway",
                                    "2": "NULL",
                                    "3": "Dallas",
                                    "4": "Texas",
                                    "5": "United States",
                                    "6": "75201",
                                    "7": "c91ed16c-4407-4eed-a241-c8327e5e50c2",
                                    "8": "2006-09-01 00:00:00.000"
                                },
                                {
                                    "0": "578",
                                    "1": "220 Mercy Drive",
                                    "2": "NULL",
                                    "3": "Garland",
                                    "4": "Texas",
                                    "5": "United States",
                                    "6": "75040",
                                    "7": "791e9c8d-6c3a-4cfd-9f0a-c4a99424c268",
                                    "8": "2005-07-01 00:00:00.000"
                                },
                                {
                                    "0": "579",
                                    "1": "25 N State St",
                                    "2": "NULL",
                                    "3": "Chicago",
                                    "4": "Illinois",
                                    "5": "United States",
                                    "6": "60610",
                                    "7": "02d95901-41c1-4479-a04f-9ffb5a2675e3",
                                    "8": "2006-07-01 00:00:00.000"
                                },
                                {
                                    "0": "580",
                                    "1": "2509 W. Frankford",
                                    "2": "NULL",
                                    "3": "Carrollton",
                                    "4": "Texas",
                                    "5": "United States",
                                    "6": "75006",
                                    "7": "a0dbc338-cf0e-4962-9fbf-63220aeca66e",
                                    "8": "2006-07-01 00:00:00.000"
                                },
                                {
                                    "0": "581",
                                    "1": "Po Box 8035996",
                                    "2": "NULL",
                                    "3": "Dallas",
                                    "4": "Texas",
                                    "5": "United States",
                                    "6": "75201",
                                    "7": "cc8321ba-c938-4765-8175-9126d432957f",
                                    "8": "2007-09-01 00:00:00.000"
                                },
                                {
                                    "0": "582",
                                    "1": "5700 Legacy Dr",
                                    "2": "NULL",
                                    "3": "Plano",
                                    "4": "Texas",
                                    "5": "United States",
                                    "6": "75074",
                                    "7": "08ebf5a9-2171-433e-85b8-56fff949d041",
                                    "8": "2007-09-01 00:00:00.000"
                                },
                                {
                                    "0": "583",
                                    "1": "625 W Jackson Blvd. Unit 2502",
                                    "2": "NULL",
                                    "3": "Chicago",
                                    "4": "Illinois",
                                    "5": "United States",
                                    "6": "60610",
                                    "7": "a35c7ac7-5ae8-43d9-92e7-180d78a9a7b8",
                                    "8": "2007-03-01 00:00:00.000"
                                },
                                {
                                    "0": "584",
                                    "1": "250880 Baur Blvd",
                                    "2": "NULL",
                                    "3": "Saint Louis",
                                    "4": "Missouri",
                                    "5": "United States",
                                    "6": "63103",
                                    "7": "ed1ee7da-5087-4e7a-b019-7782742bc451",
                                    "8": "2007-07-01 00:00:00.000"
                                },
                                {
                                    "0": "585",
                                    "1": "Noah Lane",
                                    "2": "NULL",
                                    "3": "Chicago",
                                    "4": "Illinois",
                                    "5": "United States",
                                    "6": "60610",
                                    "7": "e9408fbb-1c28-4923-9d85-2dfadb3b4b6b",
                                    "8": "2006-08-01 00:00:00.000"
                                },
                                {
                                    "0": "586",
                                    "1": "6030 Robinson Road",
                                    "2": "NULL",
                                    "3": "Jefferson City",
                                    "4": "Missouri",
                                    "5": "United States",
                                    "6": "65101",
                                    "7": "35b2fb0c-60ea-48f2-814a-f6813242858e",
                                    "8": "2005-09-01 00:00:00.000"
                                },
                                {
                                    "0": "587",
                                    "1": "25500 Old Spanish Trail",
                                    "2": "NULL",
                                    "3": "Houston",
                                    "4": "Texas",
                                    "5": "United States",
                                    "6": "77003",
                                    "7": "9a71e3c4-caea-4c5c-a146-5b85a513d82f",
                                    "8": "2005-08-01 00:00:00.000"
                                },
                                {
                                    "0": "588",
                                    "1": "99828 Routh Street, Suite 825",
                                    "2": "NULL",
                                    "3": "Dallas",
                                    "4": "Texas",
                                    "5": "United States",
                                    "6": "75201",
                                    "7": "180f5a76-930d-4b70-9d70-7aa3e49bb71e",
                                    "8": "2005-08-01 00:00:00.000"
                                },
                                {
                                    "0": "589",
                                    "1": "One Dancing, Rr No. 25",
                                    "2": "Box 8033",
                                    "3": "Round Rock",
                                    "4": "Texas",
                                    "5": "United States",
                                    "6": "78664",
                                    "7": "a514f151-6b2d-452c-a983-d68aed9e112e",
                                    "8": "2005-09-01 00:00:00.000"
                                },
                                {
                                    "0": "590",
                                    "1": "9995 West Central Entrance",
                                    "2": "NULL",
                                    "3": "Duluth",
                                    "4": "Minnesota",
                                    "5": "United States",
                                    "6": "55802",
                                    "7": "86553e06-3bf8-4c21-8e40-ae95309c4b3e",
                                    "8": "2006-07-01 00:00:00.000"
                                },
                                {
                                    "0": "591",
                                    "1": "48255 I-10 E. @ Eastpoint Blvd.",
                                    "2": "NULL",
                                    "3": "Baytown",
                                    "4": "Texas",
                                    "5": "United States",
                                    "6": "77520",
                                    "7": "8d604ca1-2f01-46c1-9041-39915144b446",
                                    "8": "2006-09-01 00:00:00.000"
                                },
                                {
                                    "0": "592",
                                    "1": "9903 Highway 6 South",
                                    "2": "NULL",
                                    "3": "Houston",
                                    "4": "Texas",
                                    "5": "United States",
                                    "6": "77003",
                                    "7": "ce585616-c47c-4bd4-8d71-1755b6417770",
                                    "8": "2005-07-01 00:00:00.000"
                                },
                                {
                                    "0": "593",
                                    "1": "2345 North Freeway",
                                    "2": "NULL",
                                    "3": "Houston",
                                    "4": "Texas",
                                    "5": "United States",
                                    "6": "77003",
                                    "7": "74e5959f-4c5f-4bda-abcf-429762e1670d",
                                    "8": "2005-08-01 00:00:00.000"
                                },
                                {
                                    "0": "594",
                                    "1": "123 W. Lake Ave.",
                                    "2": "NULL",
                                    "3": "Peoria",
                                    "4": "Illinois",
                                    "5": "United States",
                                    "6": "61606",
                                    "7": "c9f2b21e-3edb-4315-aa03-8adde7d8a598",
                                    "8": "2006-08-01 00:00:00.000"
                                },
                                {
                                    "0": "595",
                                    "1": "660 Lindbergh",
                                    "2": "NULL",
                                    "3": "Saint Louis",
                                    "4": "Missouri",
                                    "5": "United States",
                                    "6": "63103",
                                    "7": "012d17ba-c426-40c2-a9fd-85093e2ceb8a",
                                    "8": "2006-09-01 00:00:00.000"
                                },
                                {
                                    "0": "596",
                                    "1": "72540 Blanco Rd.",
                                    "2": "NULL",
                                    "3": "San Antonio",
                                    "4": "Texas",
                                    "5": "United States",
                                    "6": "78204",
                                    "7": "5ec50e4c-3026-4bd5-9a15-00776ad22eec",
                                    "8": "2005-08-01 00:00:00.000"
                                },
                                {
                                    "0": "597",
                                    "1": "99450 Highway 59 North",
                                    "2": "NULL",
                                    "3": "Humble",
                                    "4": "Texas",
                                    "5": "United States",
                                    "6": "77338",
                                    "7": "3bd8466e-2a52-4661-8460-50736409ee8a",
                                    "8": "2006-08-01 00:00:00.000"
                                },
                                {
                                    "0": "598",
                                    "1": "455 256th St.",
                                    "2": "NULL",
                                    "3": "Moline",
                                    "4": "Illinois",
                                    "5": "United States",
                                    "6": "61265",
                                    "7": "fbedd917-c269-4e36-a791-58b35f34b107",
                                    "8": "2005-08-01 00:00:00.000"
                                },
                                {
                                    "0": "599",
                                    "1": "70 N.W. Plaza",
                                    "2": "NULL",
                                    "3": "Saint Ann",
                                    "4": "Missouri",
                                    "5": "United States",
                                    "6": "63074",
                                    "7": "4735a716-33c4-4366-bcc0-410bceef3e2c",
                                    "8": "2007-08-01 00:00:00.000"
                                },
                                {
                                    "0": "600",
                                    "1": "25095 W. Florissant",
                                    "2": "NULL",
                                    "3": "Ferguson",
                                    "4": "Missouri",
                                    "5": "United States",
                                    "6": "63135",
                                    "7": "1a51283c-12bb-462e-a1b8-a0039c18e6d8",
                                    "8": "2005-08-01 00:00:00.000"
                                },
                                {
                                    "0": "601",
                                    "1": "6996 South Lindbergh",
                                    "2": "NULL",
                                    "3": "Saint Louis",
                                    "4": "Missouri",
                                    "5": "United States",
                                    "6": "63103",
                                    "7": "a8f4d544-a137-4775-b6c9-7c85a12a4ddc",
                                    "8": "2006-08-01 00:00:00.000"
                                },
                                {
                                    "0": "602",
                                    "1": "6425 Nw Loop 410",
                                    "2": "NULL",
                                    "3": "San Antonio",
                                    "4": "Texas",
                                    "5": "United States",
                                    "6": "78204",
                                    "7": "6241806c-c9cc-46aa-a91f-b663c7e0c8bb",
                                    "8": "2006-09-01 00:00:00.000"
                                },
                                {
                                    "0": "603",
                                    "1": "9500b E. Central Texas Expressway",
                                    "2": "NULL",
                                    "3": "Killeen",
                                    "4": "Texas",
                                    "5": "United States",
                                    "6": "76541",
                                    "7": "0e6e9e86-a637-4fd5-a945-ac342bfd715b",
                                    "8": "2007-08-01 00:00:00.000"
                                },
                                {
                                    "0": "604",
                                    "1": "1200 First Ave.",
                                    "2": "NULL",
                                    "3": "Joliet",
                                    "4": "Illinois",
                                    "5": "United States",
                                    "6": "60433",
                                    "7": "79972b72-7d84-4a33-ae27-44a5efaef39d",
                                    "8": "2007-09-01 00:00:00.000"
                                },
                                {
                                    "0": "605",
                                    "1": "7760 N. Pan Am Expwy",
                                    "2": "NULL",
                                    "3": "San Antonio",
                                    "4": "Texas",
                                    "5": "United States",
                                    "6": "78204",
                                    "7": "6c3da38c-887d-410c-b022-8f2bf2db3339",
                                    "8": "2005-09-01 00:00:00.000"
                                },
                                {
                                    "0": "606",
                                    "1": "99433 S. Greenbay Rd.",
                                    "2": "NULL",
                                    "3": "Racine",
                                    "4": "Wisconsin",
                                    "5": "United States",
                                    "6": "53182",
                                    "7": "48f98b9b-cf62-4a87-95e8-44da6aac6f97",
                                    "8": "2005-09-01 00:00:00.000"
                                },
                                {
                                    "0": "607",
                                    "1": "25220 Airline Road",
                                    "2": "NULL",
                                    "3": "Corpus Christi",
                                    "4": "Texas",
                                    "5": "United States",
                                    "6": "78404",
                                    "7": "6e7fe435-895a-4e65-913b-2ad21cf4ce6d",
                                    "8": "2006-08-01 00:00:00.000"
                                },
                                {
                                    "0": "608",
                                    "1": "25306 Harvey Rd.",
                                    "2": "NULL",
                                    "3": "College Station",
                                    "4": "Texas",
                                    "5": "United States",
                                    "6": "77840",
                                    "7": "49d7554e-852f-4d68-81b5-44c7a615f117",
                                    "8": "2006-08-01 00:00:00.000"
                                },
                                {
                                    "0": "609",
                                    "1": "3900 S. 997th St.",
                                    "2": "NULL",
                                    "3": "Milwaukee",
                                    "4": "Wisconsin",
                                    "5": "United States",
                                    "6": "53202",
                                    "7": "7394624a-5ca8-4adc-923c-235d971514b8",
                                    "8": "2005-09-01 00:00:00.000"
                                },
                                {
                                    "0": "610",
                                    "1": "44025 W. Empire",
                                    "2": "NULL",
                                    "3": "Denby",
                                    "4": "South Dakota",
                                    "5": "United States",
                                    "6": "57716",
                                    "7": "8afb400f-1fe5-460d-bc56-4a7bf801b41b",
                                    "8": "2007-09-01 00:00:00.000"
                                },
                                {
                                    "0": "611",
                                    "1": "23025 S.W. Military Rd.",
                                    "2": "NULL",
                                    "3": "San Antonio",
                                    "4": "Texas",
                                    "5": "United States",
                                    "6": "78204",
                                    "7": "76ed2669-d8a8-4468-943d-7319a9b18fe3",
                                    "8": "2005-08-01 00:00:00.000"
                                },
                                {
                                    "0": "612",
                                    "1": "Ring Plaza",
                                    "2": "NULL",
                                    "3": "Norridge",
                                    "4": "Illinois",
                                    "5": "United States",
                                    "6": "60706",
                                    "7": "60ab96a4-26f6-439c-9f32-238bd16b293f",
                                    "8": "2006-09-01 00:00:00.000"
                                },
                                {
                                    "0": "613",
                                    "1": "Lakeline Mall",
                                    "2": "NULL",
                                    "3": "Cedar Park",
                                    "4": "Texas",
                                    "5": "United States",
                                    "6": "78613",
                                    "7": "d26f02d6-326a-4088-b9ee-d441dfdfa1df",
                                    "8": "2006-09-01 00:00:00.000"
                                },
                                {
                                    "0": "614",
                                    "1": "Town East Center",
                                    "2": "NULL",
                                    "3": "Mesquite",
                                    "4": "Texas",
                                    "5": "United States",
                                    "6": "75149",
                                    "7": "7ba1af96-5a8e-4259-835c-da67db296a5e",
                                    "8": "2006-09-01 00:00:00.000"
                                },
                                {
                                    "0": "615",
                                    "1": "Fountains On The Lake",
                                    "2": "NULL",
                                    "3": "Stafford",
                                    "4": "Texas",
                                    "5": "United States",
                                    "6": "77477",
                                    "7": "bc2d6156-bcf7-47f7-a409-31122653f701",
                                    "8": "2005-07-01 00:00:00.000"
                                },
                                {
                                    "0": "616",
                                    "1": "Southwest Outlet",
                                    "2": "NULL",
                                    "3": "Hillsboro",
                                    "4": "Texas",
                                    "5": "United States",
                                    "6": "76645",
                                    "7": "47f987f7-44ff-4372-aaf5-4cc7b7f64216",
                                    "8": "2005-07-01 00:00:00.000"
                                },
                                {
                                    "0": "617",
                                    "1": "Johnson Creek",
                                    "2": "NULL",
                                    "3": "Johnson Creek",
                                    "4": "Wisconsin",
                                    "5": "United States",
                                    "6": "53038",
                                    "7": "aca53503-0920-446d-9c54-b83d7949d019",
                                    "8": "2007-06-01 00:00:00.000"
                                },
                                {
                                    "0": "618",
                                    "1": "Blue Ridge Mall",
                                    "2": "NULL",
                                    "3": "Kansas City",
                                    "4": "Missouri",
                                    "5": "United States",
                                    "6": "64106",
                                    "7": "8612fbad-3ce1-435b-be0b-5a48ddbd2b62",
                                    "8": "2006-12-01 00:00:00.000"
                                },
                                {
                                    "0": "619",
                                    "1": "First Colony Mall",
                                    "2": "NULL",
                                    "3": "Sugar Land",
                                    "4": "Texas",
                                    "5": "United States",
                                    "6": "77478",
                                    "7": "da205e92-2867-48a9-bf18-4558a31272ae",
                                    "8": "2005-12-01 00:00:00.000"
                                },
                                {
                                    "0": "620",
                                    "1": "Horizon Outlet",
                                    "2": "NULL",
                                    "3": "Woodbury",
                                    "4": "Minnesota",
                                    "5": "United States",
                                    "6": "55125",
                                    "7": "70080b27-59bd-4ba1-84d2-68204b304d70",
                                    "8": "2005-09-01 00:00:00.000"
                                },
                                {
                                    "0": "621",
                                    "1": "Tanger Factory",
                                    "2": "NULL",
                                    "3": "Branch",
                                    "4": "Minnesota",
                                    "5": "United States",
                                    "6": "55056",
                                    "7": "75d18db1-c9ef-4dad-bbd2-697ff73faf6c",
                                    "8": "2005-09-01 00:00:00.000"
                                },
                                {
                                    "0": "622",
                                    "1": "Management Mall",
                                    "2": "NULL",
                                    "3": "San Antonio",
                                    "4": "Texas",
                                    "5": "United States",
                                    "6": "78204",
                                    "7": "e82d1276-e19a-4fad-90f5-7e19af94ea64",
                                    "8": "2006-03-01 00:00:00.000"
                                },
                                {
                                    "0": "623",
                                    "1": "Ohms Road",
                                    "2": "NULL",
                                    "3": "Houston",
                                    "4": "Texas",
                                    "5": "United States",
                                    "6": "77003",
                                    "7": "d4688e5c-2d2d-4925-b58a-356c117728d8",
                                    "8": "2007-07-01 00:00:00.000"
                                },
                                {
                                    "0": "624",
                                    "1": "Factory Merchants",
                                    "2": "NULL",
                                    "3": "Branson",
                                    "4": "Missouri",
                                    "5": "United States",
                                    "6": "65616",
                                    "7": "dc707744-912b-4e7a-945a-1b959168dc94",
                                    "8": "2007-02-01 00:00:00.000"
                                },
                                {
                                    "0": "625",
                                    "1": "Cedar Creek Stores",
                                    "2": "NULL",
                                    "3": "Mosinee",
                                    "4": "Wisconsin",
                                    "5": "United States",
                                    "6": "54455",
                                    "7": "2e6e124e-bb43-4d40-8515-82dda7994bd4",
                                    "8": "2007-08-01 00:00:00.000"
                                },
                                {
                                    "0": "626",
                                    "1": "Lone Star Factory",
                                    "2": "NULL",
                                    "3": "La Marque",
                                    "4": "Texas",
                                    "5": "United States",
                                    "6": "77568",
                                    "7": "5f33b654-e091-4b2f-b5bd-ac5ac6d47ee6",
                                    "8": "2007-08-01 00:00:00.000"
                                },
                                {
                                    "0": "627",
                                    "1": "Sports Stores @ Tuscola",
                                    "2": "NULL",
                                    "3": "Tuscola",
                                    "4": "Illinois",
                                    "5": "United States",
                                    "6": "61953",
                                    "7": "808efdc0-ea1b-437d-88c0-a3b6a8864b7f",
                                    "8": "2006-07-01 00:00:00.000"
                                },
                                {
                                    "0": "628",
                                    "1": "City Center",
                                    "2": "NULL",
                                    "3": "Minneapolis",
                                    "4": "Minnesota",
                                    "5": "United States",
                                    "6": "55402",
                                    "7": "b80975d1-ab6e-42f1-b328-5db1d445e2c9",
                                    "8": "2005-08-01 00:00:00.000"
                                },
                                {
                                    "0": "629",
                                    "1": "St. Louis Marketplace",
                                    "2": "NULL",
                                    "3": "Saint Louis",
                                    "4": "Missouri",
                                    "5": "United States",
                                    "6": "63103",
                                    "7": "163fde0a-2148-44bc-9fc1-a7390650127c",
                                    "8": "2005-07-01 00:00:00.000"
                                },
                                {
                                    "0": "630",
                                    "1": "Lincoln Square",
                                    "2": "NULL",
                                    "3": "Arlington",
                                    "4": "Texas",
                                    "5": "United States",
                                    "6": "76010",
                                    "7": "734de48f-7f95-4386-986e-f8ab86c194a0",
                                    "8": "2005-09-01 00:00:00.000"
                                },
                                {
                                    "0": "631",
                                    "1": "Kansas City Factory Outlet",
                                    "2": "NULL",
                                    "3": "Odessa",
                                    "4": "Missouri",
                                    "5": "United States",
                                    "6": "64076",
                                    "7": "bcd46b97-395d-4eef-a712-245ba629621f",
                                    "8": "2005-07-01 00:00:00.000"
                                },
                                {
                                    "0": "632",
                                    "1": "Fiesta Trail Shopping Center",
                                    "2": "NULL",
                                    "3": "San Antonio",
                                    "4": "Texas",
                                    "5": "United States",
                                    "6": "78204",
                                    "7": "f79532d7-38e9-42ec-8ea4-c9d7e1c13c12",
                                    "8": "2005-07-01 00:00:00.000"
                                },
                                {
                                    "0": "633",
                                    "1": "Medford Outlet Center",
                                    "2": "NULL",
                                    "3": "Medford",
                                    "4": "Minnesota",
                                    "5": "United States",
                                    "6": "55049",
                                    "7": "7cda3069-3b49-4205-b853-40744d7d875f",
                                    "8": "2006-08-01 00:00:00.000"
                                },
                                {
                                    "0": "634",
                                    "1": "Ward Parkway Center",
                                    "2": "NULL",
                                    "3": "Kansas City",
                                    "4": "Missouri",
                                    "5": "United States",
                                    "6": "64106",
                                    "7": "3f2aa425-7d02-461a-a9c4-222ae41e3fe5",
                                    "8": "2006-09-01 00:00:00.000"
                                },
                                {
                                    "0": "635",
                                    "1": "93-2501, Blackfriars Road,",
                                    "2": "NULL",
                                    "3": "London",
                                    "4": "England",
                                    "5": "United Kingdom",
                                    "6": "SE1 8HL",
                                    "7": "00e75f99-488c-462d-a0bc-ac3c08a9db77",
                                    "8": "2006-09-01 00:00:00.000"
                                },
                                {
                                    "0": "636",
                                    "1": "Science Park South, Birchwood",
                                    "2": "Stanford House",
                                    "3": "Warrington",
                                    "4": "England",
                                    "5": "United Kingdom",
                                    "6": "WA3 7BH",
                                    "7": "c0fc2d5b-88e7-4b60-8447-bb3522bd79e5",
                                    "8": "2007-07-01 00:00:00.000"
                                },
                                {
                                    "0": "637",
                                    "1": "Phoenix Way, Cirencester",
                                    "2": "NULL",
                                    "3": "Gloucestershire",
                                    "4": "England",
                                    "5": "United Kingdom",
                                    "6": "GL7 1RY",
                                    "7": "10a3d496-881e-4042-bbd0-5802cf73a872",
                                    "8": "2007-09-01 00:00:00.000"
                                },
                                {
                                    "0": "638",
                                    "1": "255 Irving Street",
                                    "2": "NULL",
                                    "3": "London",
                                    "4": "England",
                                    "5": "United Kingdom",
                                    "6": "C2H 7AU",
                                    "7": "d8a77424-94ae-43ab-a011-1a9ebb3852e7",
                                    "8": "2007-08-01 00:00:00.000"
                                },
                                {
                                    "0": "639",
                                    "1": "Garamonde Drive, Wymbush",
                                    "2": "PO Box 4023",
                                    "3": "Milton Keynes",
                                    "4": "England",
                                    "5": "United Kingdom",
                                    "6": "MK8 8ZD",
                                    "7": "8f34cedd-fb6e-4814-b509-9965a31bc2e5",
                                    "8": "2007-09-01 00:00:00.000"
                                },
                                {
                                    "0": "640",
                                    "1": "251 The Metro Center",
                                    "2": "NULL",
                                    "3": "Wokingham",
                                    "4": "England",
                                    "5": "United Kingdom",
                                    "6": "RG41 1QW",
                                    "7": "0e4ac5bb-be0d-4a96-a58e-064daec08e1a",
                                    "8": "2007-09-01 00:00:00.000"
                                },
                                {
                                    "0": "641",
                                    "1": "Bradford",
                                    "2": "NULL",
                                    "3": "W. York",
                                    "4": "England",
                                    "5": "United Kingdom",
                                    "6": "BD1 4SJ",
                                    "7": "f7b99541-1ce1-4ab6-ae0d-548e8ff4abcd",
                                    "8": "2006-08-01 00:00:00.000"
                                },
                                {
                                    "0": "642",
                                    "1": "Galashiels",
                                    "2": "NULL",
                                    "3": "Liverpool",
                                    "4": "England",
                                    "5": "United Kingdom",
                                    "6": "L4 4HB",
                                    "7": "3593cdf3-38ec-4847-ad42-157220e68f32",
                                    "8": "2007-09-01 00:00:00.000"
                                },
                                {
                                    "0": "643",
                                    "1": "Banbury",
                                    "2": "NULL",
                                    "3": "Oxon",
                                    "4": "England",
                                    "5": "United Kingdom",
                                    "6": "OX16 8RS",
                                    "7": "99ff4c64-b405-4ac1-85ed-49e4e60ef87f",
                                    "8": "2006-09-01 00:00:00.000"
                                },
                                {
                                    "0": "644",
                                    "1": "Bradford",
                                    "2": "Raven House, Kingsgate",
                                    "3": "W. York",
                                    "4": "England",
                                    "5": "United Kingdom",
                                    "6": "BD1 4SJ",
                                    "7": "65684e2e-d39c-4ef7-80d8-86c2f576c3c2",
                                    "8": "2007-08-01 00:00:00.000"
                                },
                                {
                                    "0": "645",
                                    "1": "Garamonde Drive, Wymbush",
                                    "2": "P.O. Box 803",
                                    "3": "Milton Keynes",
                                    "4": "England",
                                    "5": "United Kingdom",
                                    "6": "MK8 8ZD",
                                    "7": "6ef999e7-5510-4b02-b89e-ddcf51ae3864",
                                    "8": "2007-07-01 00:00:00.000"
                                },
                                {
                                    "0": "646",
                                    "1": "Butterfield Hse, 7-251 Chapel St",
                                    "2": "NULL",
                                    "3": "Lancaster",
                                    "4": "England",
                                    "5": "United Kingdom",
                                    "6": "LA1 1LN",
                                    "7": "bce1f4b3-a9c0-413e-ac8d-4c07a960e26c",
                                    "8": "2006-08-01 00:00:00.000"
                                },
                                {
                                    "0": "647",
                                    "1": "Wade Road",
                                    "2": "NULL",
                                    "3": "Basingstoke Hants",
                                    "4": "England",
                                    "5": "United Kingdom",
                                    "6": "RG24 8PL",
                                    "7": "578c2529-f11c-4bf3-8084-6b505461e1cc",
                                    "8": "2007-07-01 00:00:00.000"
                                },
                                {
                                    "0": "648",
                                    "1": "586 Fulham Road,",
                                    "2": "NULL",
                                    "3": "London",
                                    "4": "England",
                                    "5": "United Kingdom",
                                    "6": "SW6 SBY",
                                    "7": "0da65673-2a35-4e6a-a607-a6cc2d134ea8",
                                    "8": "2007-08-01 00:00:00.000"
                                },
                                {
                                    "0": "649",
                                    "1": "Knaves Beech Ind.",
                                    "2": "NULL",
                                    "3": "High Wycombe",
                                    "4": "England",
                                    "5": "United Kingdom",
                                    "6": "HP10 9QY",
                                    "7": "11fcff74-5c80-4b37-a842-45c765d96029",
                                    "8": "2007-09-01 00:00:00.000"
                                },
                                {
                                    "0": "650",
                                    "1": "Elmhurst Road, Goring",
                                    "2": "NULL",
                                    "3": "Reading",
                                    "4": "England",
                                    "5": "United Kingdom",
                                    "6": "RG7 5H7",
                                    "7": "e4c0c239-182f-45b7-a6bb-b7e142ff0657",
                                    "8": "2006-07-01 00:00:00.000"
                                },
                                {
                                    "0": "651",
                                    "1": "New Millhouse, 2583 Milton Park",
                                    "2": "NULL",
                                    "3": "Abingdon",
                                    "4": "England",
                                    "5": "United Kingdom",
                                    "6": "OX14 4SE",
                                    "7": "e844b847-b0b3-491d-a4f1-0b78f56e4424",
                                    "8": "2007-09-01 00:00:00.000"
                                },
                                {
                                    "0": "652",
                                    "1": "Wymbush",
                                    "2": "NULL",
                                    "3": "Milton Keynes",
                                    "4": "England",
                                    "5": "United Kingdom",
                                    "6": "MK8 8DF",
                                    "7": "54e20963-b0e9-41cf-ab7e-d50459a3325c",
                                    "8": "2006-09-01 00:00:00.000"
                                },
                                {
                                    "0": "653",
                                    "1": "Burgess Hill",
                                    "2": "Edward Way",
                                    "3": "West Sussex",
                                    "4": "England",
                                    "5": "United Kingdom",
                                    "6": "RH15 9UD",
                                    "7": "38cc8647-b4bb-4669-b21d-c7497e76478d",
                                    "8": "2006-09-01 00:00:00.000"
                                },
                                {
                                    "0": "654",
                                    "1": "308-3250 Casting Road",
                                    "2": "NULL",
                                    "3": "York",
                                    "4": "England",
                                    "5": "United Kingdom",
                                    "6": "Y024 1GF",
                                    "7": "9d67c322-8698-440a-8f3e-5e1e30edbd0d",
                                    "8": "2007-08-01 00:00:00.000"
                                },
                                {
                                    "0": "655",
                                    "1": "Wharfdale Road",
                                    "2": "NULL",
                                    "3": "Berkshire",
                                    "4": "England",
                                    "5": "United Kingdom",
                                    "6": "RG11 5TP",
                                    "7": "d0e03fcb-116e-4ad2-8b17-5c2f9fd3e8b0",
                                    "8": "2006-08-01 00:00:00.000"
                                },
                                {
                                    "0": "656",
                                    "1": "7 Pioneer Business Park",
                                    "2": "NULL",
                                    "3": "York",
                                    "4": "England",
                                    "5": "United Kingdom",
                                    "6": "Y03 4TN",
                                    "7": "48865e15-033a-40ff-8327-18723d4a8846",
                                    "8": "2007-08-01 00:00:00.000"
                                },
                                {
                                    "0": "657",
                                    "1": "Unit 99a Battery Retail Pk",
                                    "2": "NULL",
                                    "3": "Birmingham",
                                    "4": "England",
                                    "5": "United Kingdom",
                                    "6": "B29 6SL",
                                    "7": "371a70e0-5802-4df9-bb28-5b6bdf202283",
                                    "8": "2006-08-01 00:00:00.000"
                                },
                                {
                                    "0": "658",
                                    "1": "Ellesfield Ave",
                                    "2": "NULL",
                                    "3": "Bracknell",
                                    "4": "England",
                                    "5": "United Kingdom",
                                    "6": "RG12 8TB",
                                    "7": "bc28152f-8005-4c0e-98ff-51bf77a4a667",
                                    "8": "2006-08-01 00:00:00.000"
                                },
                                {
                                    "0": "659",
                                    "1": "Warrington Ldc Unit 25/2",
                                    "2": "NULL",
                                    "3": "Woolston",
                                    "4": "England",
                                    "5": "United Kingdom",
                                    "6": "WA1 4SY",
                                    "7": "f44a7d0d-9bc5-427e-b3ae-f638dd5804b0",
                                    "8": "2007-09-01 00:00:00.000"
                                },
                                {
                                    "0": "660",
                                    "1": "6 The Farm, Liberty Road",
                                    "2": "NULL",
                                    "3": "Maidenhead",
                                    "4": "England",
                                    "5": "United Kingdom",
                                    "6": "SL67RJ",
                                    "7": "e22d616b-ea06-48e9-a00f-b1c4bb02f595",
                                    "8": "2007-09-01 00:00:00.000"
                                },
                                {
                                    "0": "661",
                                    "1": "725a The Arches",
                                    "2": "NULL",
                                    "3": "Berks",
                                    "4": "England",
                                    "5": "United Kingdom",
                                    "6": "SL4 1RH",
                                    "7": "38f5f598-e9bb-499c-b90d-088b2cd1b5bd",
                                    "8": "2006-08-01 00:00:00.000"
                                },
                                {
                                    "0": "662",
                                    "1": "Paramount House",
                                    "2": "NULL",
                                    "3": "London",
                                    "4": "England",
                                    "5": "United Kingdom",
                                    "6": "W1N 9FA",
                                    "7": "e50d1077-d135-41cc-a0b1-c53395f94541",
                                    "8": "2006-09-01 00:00:00.000"
                                },
                                {
                                    "0": "663",
                                    "1": "2524 Barlby Road",
                                    "2": "NULL",
                                    "3": "London",
                                    "4": "England",
                                    "5": "United Kingdom",
                                    "6": "W10 6BL",
                                    "7": "d8e96eba-258c-4f6c-83bb-4ccb2235bbf7",
                                    "8": "2007-08-01 00:00:00.000"
                                },
                                {
                                    "0": "664",
                                    "1": "99-3 Forest Works",
                                    "2": "NULL",
                                    "3": "London",
                                    "4": "England",
                                    "5": "United Kingdom",
                                    "6": "E17 6JF",
                                    "7": "eb46af5a-ec2b-41ff-914e-ddae8ec1f476",
                                    "8": "2006-07-01 00:00:00.000"
                                },
                                {
                                    "0": "665",
                                    "1": "46-44 Albemarle Street",
                                    "2": "NULL",
                                    "3": "London",
                                    "4": "England",
                                    "5": "United Kingdom",
                                    "6": "W1X3SE",
                                    "7": "1b01b172-96ce-4601-ad19-f545dcdfd62f",
                                    "8": "2007-08-01 00:00:00.000"
                                },
                                {
                                    "0": "666",
                                    "1": "399 Clearing Green",
                                    "2": "NULL",
                                    "3": "London",
                                    "4": "England",
                                    "5": "United Kingdom",
                                    "6": "EC1R 0DU",
                                    "7": "bab4b0a1-055a-4581-a93f-e00c65c54fb6",
                                    "8": "2006-08-01 00:00:00.000"
                                },
                                {
                                    "0": "667",
                                    "1": "997b Tradescant Road",
                                    "2": "NULL",
                                    "3": "London",
                                    "4": "England",
                                    "5": "United Kingdom",
                                    "6": "SW8 1XD",
                                    "7": "0a318015-4fbe-479a-b2da-eee21df430af",
                                    "8": "2006-08-01 00:00:00.000"
                                },
                                {
                                    "0": "668",
                                    "1": "2574 Milton Park",
                                    "2": "NULL",
                                    "3": "Oxford",
                                    "4": "England",
                                    "5": "United Kingdom",
                                    "6": "OX14 4SE",
                                    "7": "62d0c689-cf44-4ab3-9c3e-6142f4e0101c",
                                    "8": "2007-08-01 00:00:00.000"
                                },
                                {
                                    "0": "669",
                                    "1": "Internet House, 3399 Science Park",
                                    "2": "NULL",
                                    "3": "Cambridge",
                                    "4": "England",
                                    "5": "United Kingdom",
                                    "6": "CB4 4BZ",
                                    "7": "56baec2a-5cc5-4a90-bef9-ee57e82f2e69",
                                    "8": "2006-12-01 00:00:00.000"
                                },
                                {
                                    "0": "670",
                                    "1": "7 Garden House Cloisters, 8 Batters",
                                    "2": "NULL",
                                    "3": "London",
                                    "4": "England",
                                    "5": "United Kingdom",
                                    "6": "SW8 4BG",
                                    "7": "333daff8-f22f-488c-928c-e6eccf65452b",
                                    "8": "2006-07-01 00:00:00.000"
                                },
                                {
                                    "0": "671",
                                    "1": "25 Hartfield Road, Wimbledon",
                                    "2": "NULL",
                                    "3": "London",
                                    "4": "England",
                                    "5": "United Kingdom",
                                    "6": "SW19 3RU",
                                    "7": "00fd96bc-6ee6-4d2c-a88c-07bc1cae6efe",
                                    "8": "2008-02-01 00:00:00.000"
                                },
                                {
                                    "0": "672",
                                    "1": "99 Dean Street, Soho",
                                    "2": "NULL",
                                    "3": "London",
                                    "4": "England",
                                    "5": "United Kingdom",
                                    "6": "W1V 5RN",
                                    "7": "ecebd4b1-11c3-4681-a6da-2f73148fb63e",
                                    "8": "2006-09-01 00:00:00.000"
                                },
                                {
                                    "0": "673",
                                    "1": "Park House-4th Floor, 2516 Park St.",
                                    "2": "NULL",
                                    "3": "London",
                                    "4": "England",
                                    "5": "United Kingdom",
                                    "6": "W1Y 3RA",
                                    "7": "2506679e-041b-4d52-b9a9-07a0d5e88eea",
                                    "8": "2006-08-01 00:00:00.000"
                                },
                                {
                                    "0": "674",
                                    "1": "67 Vincent Square, Victoria",
                                    "2": "NULL",
                                    "3": "London",
                                    "4": "England",
                                    "5": "United Kingdom",
                                    "6": "SW1P 2NU",
                                    "7": "1a398c1b-2085-4f6d-a6eb-56493855c5d1",
                                    "8": "2007-09-01 00:00:00.000"
                                },
                                {
                                    "0": "756",
                                    "1": "855 East Main Avenue",
                                    "2": "NULL",
                                    "3": "Zeeland",
                                    "4": "Michigan",
                                    "5": "United States",
                                    "6": "49464",
                                    "7": "7cc420b7-b43c-4e40-98ed-6c10cec91c54",
                                    "8": "2005-08-01 00:00:00.000"
                                },
                                {
                                    "0": "774",
                                    "1": "9920 North Telegraph Rd.",
                                    "2": "NULL",
                                    "3": "Pontiac",
                                    "4": "Michigan",
                                    "5": "United States",
                                    "6": "48342",
                                    "7": "7bc77b2e-ed84-443a-bd50-f67718dea95d",
                                    "8": "2005-09-01 00:00:00.000"
                                },
                                {
                                    "0": "775",
                                    "1": "46460 West Oaks Drive",
                                    "2": "NULL",
                                    "3": "Novi",
                                    "4": "Michigan",
                                    "5": "United States",
                                    "6": "48375",
                                    "7": "d0614a62-08e0-4f83-ac72-51f58170b653",
                                    "8": "2006-09-01 00:00:00.000"
                                },
                                {
                                    "0": "776",
                                    "1": "997000 Telegraph Rd.",
                                    "2": "NULL",
                                    "3": "Southfield",
                                    "4": "Michigan",
                                    "5": "United States",
                                    "6": "48034",
                                    "7": "f0159341-8cdb-4587-bc74-95ffb9e7d662",
                                    "8": "2005-11-01 00:00:00.000"
                                },
                                {
                                    "0": "785",
                                    "1": "399700 John R. Rd.",
                                    "2": "NULL",
                                    "3": "Madison Heights",
                                    "4": "Michigan",
                                    "5": "United States",
                                    "6": "48071",
                                    "7": "7b234147-cd95-45e8-a1d5-711fe6a33dac",
                                    "8": "2005-08-01 00:00:00.000"
                                },
                                {
                                    "0": "786",
                                    "1": "6789 Warren Road",
                                    "2": "NULL",
                                    "3": "Westland",
                                    "4": "Michigan",
                                    "5": "United States",
                                    "6": "48185",
                                    "7": "90b0cf86-70e1-45d8-b6fd-0e1804a734c2",
                                    "8": "2006-12-01 00:00:00.000"
                                },
                                {
                                    "0": "788",
                                    "1": "2533 Eureka Rd.",
                                    "2": "NULL",
                                    "3": "Southgate",
                                    "4": "Michigan",
                                    "5": "United States",
                                    "6": "48195",
                                    "7": "7ef698fa-908e-42bb-8a2d-c62f5106323a",
                                    "8": "2006-09-01 00:00:00.000"
                                },
                                {
                                    "0": "789",
                                    "1": "250000 Eight Mile Road",
                                    "2": "NULL",
                                    "3": "Detroit",
                                    "4": "Michigan",
                                    "5": "United States",
                                    "6": "48226",
                                    "7": "66255753-b1b9-49c0-ab1d-1de8217d5142",
                                    "8": "2006-08-01 00:00:00.000"
                                },
                                {
                                    "0": "794",
                                    "1": "998 Forest Road",
                                    "2": "NULL",
                                    "3": "Saginaw",
                                    "4": "Michigan",
                                    "5": "United States",
                                    "6": "48601",
                                    "7": "01094c1b-2d79-402d-8106-9e80fbd57dc8",
                                    "8": "2007-08-01 00:00:00.000"
                                },
                                {
                                    "0": "795",
                                    "1": "99800 Tittabawasee Rd.",
                                    "2": "NULL",
                                    "3": "Saginaw",
                                    "4": "Michigan",
                                    "5": "United States",
                                    "6": "48601",
                                    "7": "34d6d2d5-feec-40b8-97b5-cceb89164305",
                                    "8": "2006-08-01 00:00:00.000"
                                },
                                {
                                    "0": "797",
                                    "1": "678 Eastman Ave.",
                                    "2": "NULL",
                                    "3": "Midland",
                                    "4": "Michigan",
                                    "5": "United States",
                                    "6": "48640",
                                    "7": "986de66f-74e6-4830-a2ad-9212efb77b76",
                                    "8": "2006-09-01 00:00:00.000"
                                },
                                {
                                    "0": "801",
                                    "1": "Horizon Outlet Center",
                                    "2": "NULL",
                                    "3": "Holland",
                                    "4": "Michigan",
                                    "5": "United States",
                                    "6": "49423",
                                    "7": "dc15ba52-b66c-4c5f-bdaf-1713e8c54b46",
                                    "8": "2005-07-01 00:00:00.000"
                                },
                                {
                                    "0": "806",
                                    "1": "Horizon Outlet Center",
                                    "2": "NULL",
                                    "3": "Monroe",
                                    "4": "Michigan",
                                    "5": "United States",
                                    "6": "98272",
                                    "7": "a986c31b-4b63-4925-aafd-b95260d5d586",
                                    "8": "2006-08-01 00:00:00.000"
                                },
                                {
                                    "0": "810",
                                    "1": "Redford Plaza",
                                    "2": "NULL",
                                    "3": "Redford",
                                    "4": "Michigan",
                                    "5": "United States",
                                    "6": "48239",
                                    "7": "43e988f4-b82d-4424-a59f-43dd81f9016b",
                                    "8": "2005-07-01 00:00:00.000"
                                },
                                {
                                    "0": "825",
                                    "1": "Port Huron",
                                    "2": "NULL",
                                    "3": "Port Huron",
                                    "4": "Michigan",
                                    "5": "United States",
                                    "6": "48060",
                                    "7": "a1cadf47-c018-40cc-8381-6cc940de46c8",
                                    "8": "2005-10-01 00:00:00.000"
                                },
                                {
                                    "0": "826",
                                    "1": "Kensington Valley Shops",
                                    "2": "NULL",
                                    "3": "Howell",
                                    "4": "Michigan",
                                    "5": "United States",
                                    "6": "48843",
                                    "7": "c2d04d48-ef2b-4349-877b-ea6df9895079",
                                    "8": "2006-07-01 00:00:00.000"
                                },
                                {
                                    "0": "832",
                                    "1": "2251 Elliot Avenue",
                                    "2": "NULL",
                                    "3": "Seattle",
                                    "4": "Washington",
                                    "5": "United States",
                                    "6": "98104",
                                    "7": "6d6a8e1a-ffd8-4d2d-a70d-88467049a880",
                                    "8": "2005-08-01 00:00:00.000"
                                },
                                {
                                    "0": "833",
                                    "1": "3207 S Grady Way",
                                    "2": "NULL",
                                    "3": "Renton",
                                    "4": "Washington",
                                    "5": "United States",
                                    "6": "98055",
                                    "7": "4e670a74-8ace-44c8-91ed-76cba7190bc2",
                                    "8": "2006-08-01 00:00:00.000"
                                },
                                {
                                    "0": "834",
                                    "1": "99300 223rd Southeast",
                                    "2": "NULL",
                                    "3": "Bothell",
                                    "4": "Washington",
                                    "5": "United States",
                                    "6": "98011",
                                    "7": "d505aea8-b89a-41ed-90a9-44d4179eff77",
                                    "8": "2007-04-01 00:00:00.000"
                                },
                                {
                                    "0": "835",
                                    "1": "259826 Russell Rd. South",
                                    "2": "NULL",
                                    "3": "Kent",
                                    "4": "Washington",
                                    "5": "United States",
                                    "6": "98031",
                                    "7": "5d3832b3-72dd-4a9b-a596-8293d4037c18",
                                    "8": "2005-09-01 00:00:00.000"
                                },
                                {
                                    "0": "836",
                                    "1": "35525-9th Street Sw",
                                    "2": "NULL",
                                    "3": "Puyallup",
                                    "4": "Washington",
                                    "5": "United States",
                                    "6": "98371",
                                    "7": "77232d41-48bb-4c8d-8323-5581753e9531",
                                    "8": "2006-09-01 00:00:00.000"
                                },
                                {
                                    "0": "837",
                                    "1": "640 South 994th St. W.",
                                    "2": "NULL",
                                    "3": "Billings",
                                    "4": "Montana",
                                    "5": "United States",
                                    "6": "59101",
                                    "7": "4e75ad15-557e-4c4d-9aeb-68a9718b412a",
                                    "8": "2007-09-01 00:00:00.000"
                                },
                                {
                                    "0": "838",
                                    "1": "25300 Biddle Road",
                                    "2": "NULL",
                                    "3": "Medford",
                                    "4": "Oregon",
                                    "5": "United States",
                                    "6": "97504",
                                    "7": "349cbab0-e4e3-40b2-ac50-3ea087110f8b",
                                    "8": "2007-09-01 00:00:00.000"
                                },
                                {
                                    "0": "839",
                                    "1": "Gateway",
                                    "2": "NULL",
                                    "3": "Portland",
                                    "4": "Oregon",
                                    "5": "United States",
                                    "6": "97205",
                                    "7": "3a56b180-70cd-42fe-a19c-f62b5037aa3a",
                                    "8": "2006-08-01 00:00:00.000"
                                },
                                {
                                    "0": "840",
                                    "1": "Great Northwestern",
                                    "2": "NULL",
                                    "3": "North Bend",
                                    "4": "Washington",
                                    "5": "United States",
                                    "6": "98045",
                                    "7": "1ef6e60f-3582-4298-a7ad-195be59ba7b7",
                                    "8": "2005-08-01 00:00:00.000"
                                },
                                {
                                    "0": "841",
                                    "1": "Washington Square",
                                    "2": "NULL",
                                    "3": "Portland",
                                    "4": "Oregon",
                                    "5": "United States",
                                    "6": "97205",
                                    "7": "7b5ae329-fb7c-4a2c-b33c-827920acacdc",
                                    "8": "2005-11-01 00:00:00.000"
                                },
                                {
                                    "0": "842",
                                    "1": "258101 Nw Evergreen Parkway",
                                    "2": "NULL",
                                    "3": "Beaverton",
                                    "4": "Oregon",
                                    "5": "United States",
                                    "6": "97005",
                                    "7": "eb5a214a-15a1-4e25-b405-dc0ef9907874",
                                    "8": "2005-09-01 00:00:00.000"
                                },
                                {
                                    "0": "843",
                                    "1": "253950 N.E. 178th Place",
                                    "2": "NULL",
                                    "3": "Woodinville",
                                    "4": "Washington",
                                    "5": "United States",
                                    "6": "98072",
                                    "7": "e75a2222-d636-4494-a314-2125ee2336f8",
                                    "8": "2005-09-01 00:00:00.000"
                                },
                                {
                                    "0": "844",
                                    "1": "755 Nw Grandstand",
                                    "2": "NULL",
                                    "3": "Issaquah",
                                    "4": "Washington",
                                    "5": "United States",
                                    "6": "98027",
                                    "7": "0e8578f8-21f7-482d-8dd8-8aa52f68f70a",
                                    "8": "2007-09-01 00:00:00.000"
                                },
                                {
                                    "0": "845",
                                    "1": "22571 South 2500 East",
                                    "2": "NULL",
                                    "3": "Idaho Falls",
                                    "4": "Idaho",
                                    "5": "United States",
                                    "6": "83402",
                                    "7": "1e5743c8-b8f7-4a65-b812-0302ffcb9d0e",
                                    "8": "2007-07-01 00:00:00.000"
                                },
                                {
                                    "0": "846",
                                    "1": "257700 Ne 76th Street",
                                    "2": "NULL",
                                    "3": "Redmond",
                                    "4": "Washington",
                                    "5": "United States",
                                    "6": "98052",
                                    "7": "e606ad23-f6d4-4aa5-b177-7d03d62b0187",
                                    "8": "2006-08-01 00:00:00.000"
                                },
                                {
                                    "0": "847",
                                    "1": "25102 Springwater",
                                    "2": "NULL",
                                    "3": "Wenatchee",
                                    "4": "Washington",
                                    "5": "United States",
                                    "6": "98801",
                                    "7": "f84f402f-9bd5-432e-a1d6-f284a6dffa29",
                                    "8": "2006-06-01 00:00:00.000"
                                },
                                {
                                    "0": "848",
                                    "1": "Bldg. 9n/99298",
                                    "2": "NULL",
                                    "3": "Redmond",
                                    "4": "Washington",
                                    "5": "United States",
                                    "6": "98052",
                                    "7": "f8ef420d-b3c8-48b1-a237-4a7d2dad987e",
                                    "8": "2005-08-01 00:00:00.000"
                                },
                                {
                                    "0": "849",
                                    "1": "4251 First Avenue",
                                    "2": "NULL",
                                    "3": "Seattle",
                                    "4": "Washington",
                                    "5": "United States",
                                    "6": "98104",
                                    "7": "a077368b-26bf-41b7-b35f-fc380092e6b9",
                                    "8": "2005-07-01 00:00:00.000"
                                },
                                {
                                    "0": "850",
                                    "1": "558 S 6th St",
                                    "2": "NULL",
                                    "3": "Klamath Falls",
                                    "4": "Oregon",
                                    "5": "United States",
                                    "6": "97601",
                                    "7": "329894ab-0142-4d9b-9851-2da2f6dc95e3",
                                    "8": "2007-09-01 00:00:00.000"
                                },
                                {
                                    "0": "851",
                                    "1": "994 Sw Cherry Park Rd",
                                    "2": "NULL",
                                    "3": "Troutdale",
                                    "4": "Oregon",
                                    "5": "United States",
                                    "6": "97060",
                                    "7": "fcde15ff-85d3-4136-9fb6-ea493f39605e",
                                    "8": "2005-08-01 00:00:00.000"
                                },
                                {
                                    "0": "852",
                                    "1": "25718 Se Sunnyside Rd",
                                    "2": "NULL",
                                    "3": "Clackamas",
                                    "4": "Oregon",
                                    "5": "United States",
                                    "6": "97015-6403",
                                    "7": "e85ac59f-59b6-4ed2-9436-fcdb78959b80",
                                    "8": "2007-08-01 00:00:00.000"
                                },
                                {
                                    "0": "853",
                                    "1": "567 Sw Mcloughlin Blvd",
                                    "2": "NULL",
                                    "3": "Milwaukie",
                                    "4": "Oregon",
                                    "5": "United States",
                                    "6": "97222",
                                    "7": "055b060a-7da2-455c-bcb3-a8dcea4c5156",
                                    "8": "2007-09-01 00:00:00.000"
                                },
                                {
                                    "0": "854",
                                    "1": "490 Ne 4th St",
                                    "2": "NULL",
                                    "3": "Renton",
                                    "4": "Washington",
                                    "5": "United States",
                                    "6": "98055",
                                    "7": "471190d7-86c1-48cd-985a-7046b1b89c3c",
                                    "8": "2007-08-01 00:00:00.000"
                                },
                                {
                                    "0": "855",
                                    "1": "15 East Main",
                                    "2": "NULL",
                                    "3": "Port Orchard",
                                    "4": "Washington",
                                    "5": "United States",
                                    "6": "98366",
                                    "7": "09926325-7f83-427b-83d6-817df7d70ce9",
                                    "8": "2005-07-01 00:00:00.000"
                                },
                                {
                                    "0": "856",
                                    "1": "3025 E Waterway Blvd",
                                    "2": "NULL",
                                    "3": "Shelton",
                                    "4": "Washington",
                                    "5": "United States",
                                    "6": "98584",
                                    "7": "779d4f7d-c90c-4a8a-bf29-41613e8907ef",
                                    "8": "2006-11-01 00:00:00.000"
                                },
                                {
                                    "0": "857",
                                    "1": "7990 Ocean Beach Hwy.",
                                    "2": "NULL",
                                    "3": "Longview",
                                    "4": "Washington",
                                    "5": "United States",
                                    "6": "98632",
                                    "7": "873d03b3-e2ef-4b8b-add8-f237fdc7fe31",
                                    "8": "2005-08-01 00:00:00.000"
                                },
                                {
                                    "0": "858",
                                    "1": "2345 West Spencer Road",
                                    "2": "NULL",
                                    "3": "Lynnwood",
                                    "4": "Washington",
                                    "5": "United States",
                                    "6": "98036",
                                    "7": "68aeb59d-0f79-4a0d-92ef-4d0c2beb5821",
                                    "8": "2006-09-01 00:00:00.000"
                                },
                                {
                                    "0": "859",
                                    "1": "1050 Oak Street",
                                    "2": "NULL",
                                    "3": "Seattle",
                                    "4": "Washington",
                                    "5": "United States",
                                    "6": "98104",
                                    "7": "8caaf6be-9c88-466d-862c-ae7673e3d0f0",
                                    "8": "2006-08-01 00:00:00.000"
                                },
                                {
                                    "0": "860",
                                    "1": "4927 S Meridian Ave Ste D",
                                    "2": "NULL",
                                    "3": "Puyallup",
                                    "4": "Washington",
                                    "5": "United States",
                                    "6": "98371",
                                    "7": "ff2be5e9-7d22-4c1c-acf8-199148e957ab",
                                    "8": "2006-07-01 00:00:00.000"
                                },
                                {
                                    "0": "861",
                                    "1": "25915 140th Ave Ne",
                                    "2": "NULL",
                                    "3": "Bellevue",
                                    "4": "Washington",
                                    "5": "United States",
                                    "6": "98004",
                                    "7": "0d46f203-cdb6-4495-83f5-a97ff0cec174",
                                    "8": "2006-09-01 00:00:00.000"
                                },
                                {
                                    "0": "862",
                                    "1": "3307 Evergreen Blvd",
                                    "2": "Ste 1071",
                                    "3": "Washougal",
                                    "4": "Washington",
                                    "5": "United States",
                                    "6": "98671",
                                    "7": "0c81cbd2-96d3-40c1-97d4-056d776b7676",
                                    "8": "2005-11-01 00:00:00.000"
                                },
                                {
                                    "0": "863",
                                    "1": "2507 Pacific Ave S",
                                    "2": "NULL",
                                    "3": "Tacoma",
                                    "4": "Washington",
                                    "5": "United States",
                                    "6": "98403",
                                    "7": "fbac273f-934e-474f-9ccb-f96ca9ae889d",
                                    "8": "2005-09-01 00:00:00.000"
                                },
                                {
                                    "0": "864",
                                    "1": "67 Rainer Ave S",
                                    "2": "NULL",
                                    "3": "Renton",
                                    "4": "Washington",
                                    "5": "United States",
                                    "6": "98055",
                                    "7": "a2fc2f01-c6be-4af4-b718-2a86eb782e5f",
                                    "8": "2005-08-01 00:00:00.000"
                                },
                                {
                                    "0": "865",
                                    "1": "750 Lakeway Dr",
                                    "2": "NULL",
                                    "3": "Bellingham",
                                    "4": "Washington",
                                    "5": "United States",
                                    "6": "98225",
                                    "7": "243020ec-84c3-417a-b34d-f7760ff130d1",
                                    "8": "2006-07-01 00:00:00.000"
                                },
                                {
                                    "0": "866",
                                    "1": "2528 Meridian E",
                                    "2": "NULL",
                                    "3": "Puyallup",
                                    "4": "Washington",
                                    "5": "United States",
                                    "6": "98371",
                                    "7": "5668e02c-16fa-4331-8603-29ee11417843",
                                    "8": "2007-08-01 00:00:00.000"
                                },
                                {
                                    "0": "867",
                                    "1": "48995 Evergreen Wy.",
                                    "2": "NULL",
                                    "3": "Everett",
                                    "4": "Washington",
                                    "5": "United States",
                                    "6": "98201",
                                    "7": "6cd4e374-0ef8-4cee-ac60-9dbf1f4e0007",
                                    "8": "2007-09-01 00:00:00.000"
                                },
                                {
                                    "0": "868",
                                    "1": "25111 228th St Sw",
                                    "2": "NULL",
                                    "3": "Bothell",
                                    "4": "Washington",
                                    "5": "United States",
                                    "6": "98011",
                                    "7": "40100c97-5097-43be-9f44-abd881220e8f",
                                    "8": "2006-07-01 00:00:00.000"
                                },
                                {
                                    "0": "869",
                                    "1": "2583 Se 272nd St",
                                    "2": "NULL",
                                    "3": "Kent",
                                    "4": "Washington",
                                    "5": "United States",
                                    "6": "98031",
                                    "7": "e13c4f18-990a-4b7d-9fc9-afd0ea943b13",
                                    "8": "2005-08-01 00:00:00.000"
                                },
                                {
                                    "0": "870",
                                    "1": "409 S. Main Ste. 25",
                                    "2": "NULL",
                                    "3": "Ellensburg",
                                    "4": "Washington",
                                    "5": "United States",
                                    "6": "98926",
                                    "7": "955e88ea-083d-446e-a856-42cb0692826a",
                                    "8": "2006-08-01 00:00:00.000"
                                },
                                {
                                    "0": "871",
                                    "1": "2502 Evergreen Ste E",
                                    "2": "NULL",
                                    "3": "Everett",
                                    "4": "Washington",
                                    "5": "United States",
                                    "6": "98201",
                                    "7": "3ae9003f-f806-41ad-98a5-3c4a86514bc3",
                                    "8": "2005-07-01 00:00:00.000"
                                },
                                {
                                    "0": "872",
                                    "1": "755 W Washington Ave Ste D",
                                    "2": "NULL",
                                    "3": "Sequim",
                                    "4": "Washington",
                                    "5": "United States",
                                    "6": "98382",
                                    "7": "932514a1-04e4-4e95-b97c-0ad4c06b890e",
                                    "8": "2007-08-01 00:00:00.000"
                                },
                                {
                                    "0": "873",
                                    "1": "44606 N Division St",
                                    "2": "NULL",
                                    "3": "Spokane",
                                    "4": "Washington",
                                    "5": "United States",
                                    "6": "99202",
                                    "7": "3438afb3-390c-48d5-8ccf-5438278d981d",
                                    "8": "2007-08-01 00:00:00.000"
                                },
                                {
                                    "0": "874",
                                    "1": "2550 Ne Sandy Blvd",
                                    "2": "NULL",
                                    "3": "Portland",
                                    "4": "Oregon",
                                    "5": "United States",
                                    "6": "97205",
                                    "7": "14d5dde7-c771-4819-9ff1-a4faa66f0e7a",
                                    "8": "2006-09-01 00:00:00.000"
                                },
                                {
                                    "0": "875",
                                    "1": "2540 Dell Range Blvd",
                                    "2": "NULL",
                                    "3": "Cheyenne",
                                    "4": "Wyoming",
                                    "5": "United States",
                                    "6": "82001",
                                    "7": "3ac8958a-76ee-41ca-8a88-2b783ea18acc",
                                    "8": "2006-07-01 00:00:00.000"
                                },
                                {
                                    "0": "876",
                                    "1": "765 Delridge Way Sw",
                                    "2": "NULL",
                                    "3": "Seattle",
                                    "4": "Washington",
                                    "5": "United States",
                                    "6": "98104",
                                    "7": "cb1392f5-fcb9-4cf5-b4c9-33fafb876c3d",
                                    "8": "2005-07-01 00:00:00.000"
                                },
                                {
                                    "0": "877",
                                    "1": "4781 Highway 95",
                                    "2": "NULL",
                                    "3": "Sandpoint",
                                    "4": "Idaho",
                                    "5": "United States",
                                    "6": "83864",
                                    "7": "49f0b458-40cd-4852-a936-8576070fcb96",
                                    "8": "2006-07-01 00:00:00.000"
                                },
                                {
                                    "0": "878",
                                    "1": "4210 E Sprague Ave",
                                    "2": "NULL",
                                    "3": "Spokane",
                                    "4": "Washington",
                                    "5": "United States",
                                    "6": "99202",
                                    "7": "7c04cf1b-ad79-44d4-9611-381b2f094f96",
                                    "8": "2006-07-01 00:00:00.000"
                                },
                                {
                                    "0": "879",
                                    "1": "Valley Mall",
                                    "2": "NULL",
                                    "3": "Union Gap",
                                    "4": "Washington",
                                    "5": "United States",
                                    "6": "98903",
                                    "7": "860cb49b-5774-441f-b8c5-753ca50fa5e1",
                                    "8": "2006-07-01 00:00:00.000"
                                },
                                {
                                    "0": "880",
                                    "1": "S Sound Ctr Suite 25300",
                                    "2": "NULL",
                                    "3": "Lacey",
                                    "4": "Washington",
                                    "5": "United States",
                                    "6": "98503",
                                    "7": "3a400497-1000-4d9f-bb8d-d9cbf00c2822",
                                    "8": "2005-08-01 00:00:00.000"
                                },
                                {
                                    "0": "881",
                                    "1": "Southgate Mall",
                                    "2": "NULL",
                                    "3": "Missoula",
                                    "4": "Montana",
                                    "5": "United States",
                                    "6": "59801",
                                    "7": "3ded7f59-79a9-4034-98f9-f2a0b045d7ae",
                                    "8": "2006-10-01 00:00:00.000"
                                },
                                {
                                    "0": "882",
                                    "1": "Medford",
                                    "2": "NULL",
                                    "3": "Medford",
                                    "4": "Oregon",
                                    "5": "United States",
                                    "6": "97504",
                                    "7": "dbc16bdd-c86d-4d5f-91f5-79fa000716fb",
                                    "8": "2007-07-01 00:00:00.000"
                                },
                                {
                                    "0": "883",
                                    "1": "Heritage Mall",
                                    "2": "NULL",
                                    "3": "Albany",
                                    "4": "Oregon",
                                    "5": "United States",
                                    "6": "97321",
                                    "7": "cf9c1921-d741-4576-9d32-849e62d57698",
                                    "8": "2007-07-01 00:00:00.000"
                                },
                                {
                                    "0": "884",
                                    "1": "Lewis County Mall",
                                    "2": "NULL",
                                    "3": "Chehalis",
                                    "4": "Washington",
                                    "5": "United States",
                                    "6": "98532",
                                    "7": "2f91410b-2988-4e8f-bf01-8009c2f9abba",
                                    "8": "2005-08-01 00:00:00.000"
                                },
                                {
                                    "0": "885",
                                    "1": "755 Columbia Ctr Blvd",
                                    "2": "NULL",
                                    "3": "Kennewick",
                                    "4": "Washington",
                                    "5": "United States",
                                    "6": "99337",
                                    "7": "f3b58620-4857-44a0-9c48-51f21c1ca0c8",
                                    "8": "2007-09-01 00:00:00.000"
                                },
                                {
                                    "0": "886",
                                    "1": "Lancaster Mall",
                                    "2": "NULL",
                                    "3": "Salem",
                                    "4": "Oregon",
                                    "5": "United States",
                                    "6": "97301",
                                    "7": "3513c4cd-96af-4e5f-b3ff-32d268fb5f54",
                                    "8": "2006-08-01 00:00:00.000"
                                },
                                {
                                    "0": "887",
                                    "1": "Lewiston Mall",
                                    "2": "NULL",
                                    "3": "Lewiston",
                                    "4": "Idaho",
                                    "5": "United States",
                                    "6": "83501",
                                    "7": "4ddbacc9-7898-403e-856a-128e34245424",
                                    "8": "2006-09-01 00:00:00.000"
                                },
                                {
                                    "0": "888",
                                    "1": "Three Rivers Mall",
                                    "2": "NULL",
                                    "3": "Kelso",
                                    "4": "Washington",
                                    "5": "United States",
                                    "6": "98626",
                                    "7": "834ae73a-01a9-4850-9f8c-6db5d1344aad",
                                    "8": "2007-07-01 00:00:00.000"
                                },
                                {
                                    "0": "889",
                                    "1": "Eastridge Mall",
                                    "2": "NULL",
                                    "3": "Casper",
                                    "4": "Wyoming",
                                    "5": "United States",
                                    "6": "82601",
                                    "7": "6d5c5880-2c83-4df1-b8ce-46cfe9a9ffac",
                                    "8": "2005-07-01 00:00:00.000"
                                },
                                {
                                    "0": "890",
                                    "1": "Holiday Village Mall",
                                    "2": "NULL",
                                    "3": "Great Falls",
                                    "4": "Montana",
                                    "5": "United States",
                                    "6": "59401",
                                    "7": "5fe7c888-bb21-421e-9b8b-38da8da10085",
                                    "8": "2005-11-01 00:00:00.000"
                                },
                                {
                                    "0": "891",
                                    "1": "2526a Tri-Lake Blvd Ne",
                                    "2": "NULL",
                                    "3": "Kirkland",
                                    "4": "Washington",
                                    "5": "United States",
                                    "6": "98033",
                                    "7": "ec34e865-d130-403f-a437-d92d7ef02f05",
                                    "8": "2005-12-01 00:00:00.000"
                                },
                                {
                                    "0": "892",
                                    "1": "Frontier Mall",
                                    "2": "NULL",
                                    "3": "Cheyenne",
                                    "4": "Wyoming",
                                    "5": "United States",
                                    "6": "82001",
                                    "7": "cb0a8223-fd82-4d26-b7c7-0c120e4eafc5",
                                    "8": "2005-08-01 00:00:00.000"
                                },
                                {
                                    "0": "893",
                                    "1": "White Mountain Mall",
                                    "2": "NULL",
                                    "3": "Rock Springs",
                                    "4": "Wyoming",
                                    "5": "United States",
                                    "6": "82901",
                                    "7": "9308a21d-aae2-42e2-889d-2cd802072d36",
                                    "8": "2007-07-01 00:00:00.000"
                                },
                                {
                                    "0": "894",
                                    "1": "3390 South 23rd St.",
                                    "2": "NULL",
                                    "3": "Tacoma",
                                    "4": "Washington",
                                    "5": "United States",
                                    "6": "98403",
                                    "7": "e7979fa4-253c-41fd-b74f-2feec966a6b5",
                                    "8": "2006-01-01 00:00:00.000"
                                },
                                {
                                    "0": "895",
                                    "1": "3250 South Meridian",
                                    "2": "NULL",
                                    "3": "Puyallup",
                                    "4": "Washington",
                                    "5": "United States",
                                    "6": "98371",
                                    "7": "3b2e6107-040b-4f60-8901-a950bf0562d4",
                                    "8": "2005-07-01 00:00:00.000"
                                },
                                {
                                    "0": "896",
                                    "1": "2255 254th Avenue Se",
                                    "2": "NULL",
                                    "3": "Albany",
                                    "4": "Oregon",
                                    "5": "United States",
                                    "6": "97321",
                                    "7": "77d18072-b99b-4b1e-a9b9-948fa927efbb",
                                    "8": "2007-09-01 00:00:00.000"
                                },
                                {
                                    "0": "897",
                                    "1": "705 SE Mall Parkway",
                                    "2": "NULL",
                                    "3": "Everett",
                                    "4": "Washington",
                                    "5": "United States",
                                    "6": "98201",
                                    "7": "77a34652-5d9b-40b6-a15a-56d7ee4056f4",
                                    "8": "2006-08-01 00:00:00.000"
                                },
                                {
                                    "0": "898",
                                    "1": "700 Se Sunnyside Road",
                                    "2": "NULL",
                                    "3": "Clackamas",
                                    "4": "Oregon",
                                    "5": "United States",
                                    "6": "97015",
                                    "7": "d88449db-7116-427b-bfaf-cae7c08de084",
                                    "8": "2007-09-01 00:00:00.000"
                                },
                                {
                                    "0": "899",
                                    "1": "North 93270 Newport Highway",
                                    "2": "NULL",
                                    "3": "Spokane",
                                    "4": "Washington",
                                    "5": "United States",
                                    "6": "99202",
                                    "7": "8ae1c168-958e-41da-92d8-7a3a0765f744",
                                    "8": "2007-08-01 00:00:00.000"
                                },
                                {
                                    "0": "900",
                                    "1": "25708 Dell Range Blvd.",
                                    "2": "NULL",
                                    "3": "Cheyenne",
                                    "4": "Wyoming",
                                    "5": "United States",
                                    "6": "82001",
                                    "7": "9b10fe3a-a1fb-497e-8bc2-e84e8c2a77da",
                                    "8": "2005-07-01 00:00:00.000"
                                },
                                {
                                    "0": "901",
                                    "1": "No. 60 Bellis Fair Parkway",
                                    "2": "NULL",
                                    "3": "Bellingham",
                                    "4": "Washington",
                                    "5": "United States",
                                    "6": "98225",
                                    "7": "8135b5dc-f7e9-401c-992c-93a058ada079",
                                    "8": "2007-09-01 00:00:00.000"
                                },
                                {
                                    "0": "902",
                                    "1": "950 Gateway Street",
                                    "2": "NULL",
                                    "3": "Springfield",
                                    "4": "Oregon",
                                    "5": "United States",
                                    "6": "97477",
                                    "7": "e8beecaf-8668-4d53-97e8-405bc6978def",
                                    "8": "2006-09-01 00:00:00.000"
                                },
                                {
                                    "0": "903",
                                    "1": "250775 SW Hillsdale Hwy",
                                    "2": "NULL",
                                    "3": "Beaverton",
                                    "4": "Oregon",
                                    "5": "United States",
                                    "6": "97005",
                                    "7": "ac8f33f8-4dc4-467d-b459-788d84749c5d",
                                    "8": "2006-08-01 00:00:00.000"
                                },
                                {
                                    "0": "904",
                                    "1": "9905 Three Rivers Drive",
                                    "2": "NULL",
                                    "3": "Kelso",
                                    "4": "Washington",
                                    "5": "United States",
                                    "6": "98626",
                                    "7": "01a85112-6ee1-4f2c-9212-1c2abc612e67",
                                    "8": "2006-07-01 00:00:00.000"
                                },
                                {
                                    "0": "905",
                                    "1": "225 South 314th Street",
                                    "2": "NULL",
                                    "3": "Federal Way",
                                    "4": "Washington",
                                    "5": "United States",
                                    "6": "98003",
                                    "7": "d305d73c-d595-4961-b870-0dcecb7c6ea9",
                                    "8": "2006-11-01 00:00:00.000"
                                },
                                {
                                    "0": "906",
                                    "1": "7009 Sw Hall Blvd.",
                                    "2": "NULL",
                                    "3": "Tigard",
                                    "4": "Oregon",
                                    "5": "United States",
                                    "6": "97223",
                                    "7": "b8efdbfa-3ba9-45d8-9c09-646dd0c8af93",
                                    "8": "2006-09-01 00:00:00.000"
                                },
                                {
                                    "0": "907",
                                    "1": "99295 S.e. Tualatin Valley_hwy.",
                                    "2": "NULL",
                                    "3": "Hillsboro",
                                    "4": "Oregon",
                                    "5": "United States",
                                    "6": "97123",
                                    "7": "a0e88130-6262-4484-815e-e5c485bf3eac",
                                    "8": "2007-08-01 00:00:00.000"
                                },
                                {
                                    "0": "988",
                                    "1": "482505 Warm Springs Blvd.",
                                    "2": "NULL",
                                    "3": "Fremont",
                                    "4": "California",
                                    "5": "United States",
                                    "6": "94536",
                                    "7": "cd6d22b0-d941-4928-b6f7-1508021e6539",
                                    "8": "2006-09-01 00:00:00.000"
                                },
                                {
                                    "0": "989",
                                    "1": "39933 Mission Oaks Blvd",
                                    "2": "NULL",
                                    "3": "Camarillo",
                                    "4": "California",
                                    "5": "United States",
                                    "6": "93010",
                                    "7": "8b1241ca-1db6-4f9d-861e-1d6cc3796443",
                                    "8": "2007-09-01 00:00:00.000"
                                },
                                {
                                    "0": "990",
                                    "1": "5420 West 22500 South",
                                    "2": "NULL",
                                    "3": "Salt Lake City",
                                    "4": "Utah",
                                    "5": "United States",
                                    "6": "84101",
                                    "7": "7612c47a-e24a-4bd8-9b8b-3aed15af64f9",
                                    "8": "2006-07-01 00:00:00.000"
                                },
                                {
                                    "0": "991",
                                    "1": "60025 Bollinger Canyon Road",
                                    "2": "NULL",
                                    "3": "San Ramon",
                                    "4": "California",
                                    "5": "United States",
                                    "6": "94583",
                                    "7": "962a4d00-c5aa-41cc-b7bc-2afbe2fa65b8",
                                    "8": "2006-09-01 00:00:00.000"
                                },
                                {
                                    "0": "992",
                                    "1": "9992 Whipple Rd",
                                    "2": "NULL",
                                    "3": "Union City",
                                    "4": "California",
                                    "5": "United States",
                                    "6": "94587",
                                    "7": "88258a1b-b50f-440f-93b9-5d7af831d5fc",
                                    "8": "2006-09-01 00:00:00.000"
                                },
                                {
                                    "0": "993",
                                    "1": "Corporate Office",
                                    "2": "NULL",
                                    "3": "El Segundo",
                                    "4": "California",
                                    "5": "United States",
                                    "6": "90245",
                                    "7": "6cccc74f-6389-4d08-8ed1-9079b42cf7ae",
                                    "8": "2006-09-01 00:00:00.000"
                                },
                                {
                                    "0": "994",
                                    "1": "25001 Montague Expressway",
                                    "2": "NULL",
                                    "3": "Milpitas",
                                    "4": "California",
                                    "5": "United States",
                                    "6": "95035",
                                    "7": "89901b2a-fda8-4926-b22c-dd5d583681a6",
                                    "8": "2006-07-01 00:00:00.000"
                                },
                                {
                                    "0": "995",
                                    "1": "4460 Newport Center Drive",
                                    "2": "NULL",
                                    "3": "Newport Beach",
                                    "4": "California",
                                    "5": "United States",
                                    "6": "92625",
                                    "7": "d6b9e9e9-f288-4590-be12-8ddbb5e53bc2",
                                    "8": "2006-07-01 00:00:00.000"
                                },
                                {
                                    "0": "996",
                                    "1": "2575 West 2700 South",
                                    "2": "NULL",
                                    "3": "Salt Lake City",
                                    "4": "Utah",
                                    "5": "United States",
                                    "6": "84101",
                                    "7": "708fc1dd-4994-4aa5-80a5-8c977c37aa15",
                                    "8": "2006-08-01 00:00:00.000"
                                },
                                {
                                    "0": "997",
                                    "1": "70259 West Sunnyview Ave",
                                    "2": "NULL",
                                    "3": "Visalia",
                                    "4": "California",
                                    "5": "United States",
                                    "6": "93291",
                                    "7": "7c2e0511-de61-4761-80ea-6a7b2f39e524",
                                    "8": "2007-09-01 00:00:00.000"
                                },
                                {
                                    "0": "998",
                                    "1": "60750 San Clemente",
                                    "2": "NULL",
                                    "3": "Hayward",
                                    "4": "California",
                                    "5": "United States",
                                    "6": "94541",
                                    "7": "822dc2be-aac2-4283-93a6-5027cfb6a7df",
                                    "8": "2007-09-01 00:00:00.000"
                                },
                                {
                                    "0": "999",
                                    "1": "Receiving",
                                    "2": "NULL",
                                    "3": "Fullerton",
                                    "4": "California",
                                    "5": "United States",
                                    "6": "92831",
                                    "7": "93d3c32f-cc26-4f27-b91f-35a804554976",
                                    "8": "2006-09-01 00:00:00.000"
                                },
                                {
                                    "0": "1000",
                                    "1": "22555 Paseo De Las Americas",
                                    "2": "NULL",
                                    "3": "San Diego",
                                    "4": "California",
                                    "5": "United States",
                                    "6": "92102",
                                    "7": "982bdcc2-6429-4725-a6df-4faf032ec908",
                                    "8": "2006-08-01 00:00:00.000"
                                },
                                {
                                    "0": "1001",
                                    "1": "Incom Sports Center",
                                    "2": "NULL",
                                    "3": "Ontario",
                                    "4": "California",
                                    "5": "United States",
                                    "6": "91764",
                                    "7": "079e5de8-169f-4eb6-be75-813b40a0143e",
                                    "8": "2005-08-01 00:00:00.000"
                                },
                                {
                                    "0": "1002",
                                    "1": "C/O Starpak, Inc.",
                                    "2": "NULL",
                                    "3": "Greeley",
                                    "4": "Colorado",
                                    "5": "United States",
                                    "6": "80631",
                                    "7": "512bd07c-7ed7-421b-923f-d41999bd5bd7",
                                    "8": "2006-08-01 00:00:00.000"
                                },
                                {
                                    "0": "1003",
                                    "1": "5967 W Las Positas Blvd",
                                    "2": "NULL",
                                    "3": "Pleasanton",
                                    "4": "California",
                                    "5": "United States",
                                    "6": "94566",
                                    "7": "6b26292f-1ebe-41ce-9a3e-ff42d3c10a44",
                                    "8": "2007-07-01 00:00:00.000"
                                },
                                {
                                    "0": "1004",
                                    "1": "25600 E St Andrews Pl",
                                    "2": "NULL",
                                    "3": "Santa Ana",
                                    "4": "California",
                                    "5": "United States",
                                    "6": "92701",
                                    "7": "489390e0-48c0-4bb4-a5dc-38c4b39ea833",
                                    "8": "2005-09-01 00:00:00.000"
                                },
                                {
                                    "0": "1005",
                                    "1": "6756 Mowry",
                                    "2": "NULL",
                                    "3": "Newark",
                                    "4": "California",
                                    "5": "United States",
                                    "6": "94560",
                                    "7": "cfb5ed2a-43fe-4102-8413-73c74dacc79e",
                                    "8": "2006-08-01 00:00:00.000"
                                },
                                {
                                    "0": "1006",
                                    "1": "25472 Marlay Ave",
                                    "2": "NULL",
                                    "3": "Fontana",
                                    "4": "California",
                                    "5": "United States",
                                    "6": "92335",
                                    "7": "90c5f983-b302-4f6c-9d8a-bfb9e1bff406",
                                    "8": "2007-09-01 00:00:00.000"
                                },
                                {
                                    "0": "1007",
                                    "1": "77 Beale Street",
                                    "2": "Room 99767c",
                                    "3": "San Francisco",
                                    "4": "California",
                                    "5": "United States",
                                    "6": "94109",
                                    "7": "5122f535-c03e-4244-90c8-5d360c0c4cc4",
                                    "8": "2005-09-01 00:00:00.000"
                                },
                                {
                                    "0": "1008",
                                    "1": "910 Main Street.",
                                    "2": "NULL",
                                    "3": "Sparks",
                                    "4": "Nevada",
                                    "5": "United States",
                                    "6": "89431",
                                    "7": "f12c6f58-6095-47d4-9fa0-21a639b90db9",
                                    "8": "2006-08-01 00:00:00.000"
                                },
                                {
                                    "0": "1009",
                                    "1": "2500 N Serene Blvd",
                                    "2": "19th Floor",
                                    "3": "El Segundo",
                                    "4": "California",
                                    "5": "United States",
                                    "6": "90245",
                                    "7": "7619e3bd-780b-45b1-a477-8fc3e0948352",
                                    "8": "2007-08-01 00:00:00.000"
                                },
                                {
                                    "0": "1010",
                                    "1": "5650 West 88th Ave.",
                                    "2": "NULL",
                                    "3": "Westminster",
                                    "4": "Colorado",
                                    "5": "United States",
                                    "6": "80030",
                                    "7": "bd7fa7a0-4cbe-442a-a5e5-e5e2b79214ec",
                                    "8": "2007-08-01 00:00:00.000"
                                },
                                {
                                    "0": "1011",
                                    "1": "9700 Sisk Road",
                                    "2": "NULL",
                                    "3": "Modesto",
                                    "4": "California",
                                    "5": "United States",
                                    "6": "95354",
                                    "7": "fb563347-c157-43b3-a7e4-a851495df874",
                                    "8": "2006-09-01 00:00:00.000"
                                },
                                {
                                    "0": "1012",
                                    "1": "789 West Alameda",
                                    "2": "NULL",
                                    "3": "Westminster",
                                    "4": "Colorado",
                                    "5": "United States",
                                    "6": "80030",
                                    "7": "73bf97f3-e4e3-402d-8609-7839aebaa947",
                                    "8": "2006-09-01 00:00:00.000"
                                },
                                {
                                    "0": "1013",
                                    "1": "54254 Pacific Ave.",
                                    "2": "NULL",
                                    "3": "Stockton",
                                    "4": "California",
                                    "5": "United States",
                                    "6": "95202",
                                    "7": "7b82a39f-d175-4543-8f6f-ae6fe9c34a99",
                                    "8": "2006-08-01 00:00:00.000"
                                },
                                {
                                    "0": "1014",
                                    "1": "25136 Jefferson Blvd.",
                                    "2": "NULL",
                                    "3": "Culver City",
                                    "4": "California",
                                    "5": "United States",
                                    "6": "90232",
                                    "7": "05196d3f-f726-4ab9-a66b-af87500846ad",
                                    "8": "2006-09-01 00:00:00.000"
                                },
                                {
                                    "0": "1015",
                                    "1": "99000 S. Avalon Blvd. Suite 750",
                                    "2": "NULL",
                                    "3": "Carson",
                                    "4": "California",
                                    "5": "United States",
                                    "6": "90746",
                                    "7": "206163d9-0324-476d-909e-607fe07b2a2a",
                                    "8": "2005-08-01 00:00:00.000"
                                },
                                {
                                    "0": "1016",
                                    "1": "72502 Eastern Ave.",
                                    "2": "NULL",
                                    "3": "Bell Gardens",
                                    "4": "California",
                                    "5": "United States",
                                    "6": "90201",
                                    "7": "06431d74-4caf-442c-870e-efc20f9d45b8",
                                    "8": "2006-09-01 00:00:00.000"
                                },
                                {
                                    "0": "1017",
                                    "1": "2560 E. Newlands Dr",
                                    "2": "NULL",
                                    "3": "Fernley",
                                    "4": "Nevada",
                                    "5": "United States",
                                    "6": "89408",
                                    "7": "5d07c55b-9e6a-49de-8f49-04f28ad2f36a",
                                    "8": "2005-09-01 00:00:00.000"
                                },
                                {
                                    "0": "1018",
                                    "1": "630 N. Capitol Ave.",
                                    "2": "NULL",
                                    "3": "San Jose",
                                    "4": "California",
                                    "5": "United States",
                                    "6": "95112",
                                    "7": "aceb7a03-c8e6-43f6-94f2-266e571bd413",
                                    "8": "2007-07-01 00:00:00.000"
                                },
                                {
                                    "0": "1019",
                                    "1": "4660 Rodeo Road",
                                    "2": "NULL",
                                    "3": "Santa Fe",
                                    "4": "New Mexico",
                                    "5": "United States",
                                    "6": "87501",
                                    "7": "4fe824c1-f1bc-48b6-a4fd-6b866d0d07c8",
                                    "8": "2007-09-01 00:00:00.000"
                                },
                                {
                                    "0": "1020",
                                    "1": "251340 E. South St.",
                                    "2": "NULL",
                                    "3": "Cerritos",
                                    "4": "California",
                                    "5": "United States",
                                    "6": "90703",
                                    "7": "ba72737a-0827-46a8-af5b-971fd8464a87",
                                    "8": "2005-09-01 00:00:00.000"
                                },
                                {
                                    "0": "1021",
                                    "1": "440 West Huntington Dr.",
                                    "2": "NULL",
                                    "3": "Monrovia",
                                    "4": "California",
                                    "5": "United States",
                                    "6": "91016",
                                    "7": "2ae4d8c2-6d11-4945-a032-430dc8ce5b1b",
                                    "8": "2005-07-01 00:00:00.000"
                                },
                                {
                                    "0": "1022",
                                    "1": "99235 Hawthorne Blvd.",
                                    "2": "NULL",
                                    "3": "Torrance",
                                    "4": "California",
                                    "5": "United States",
                                    "6": "90505",
                                    "7": "52724cd9-1dc9-4d28-9b89-c404692c0b73",
                                    "8": "2005-07-01 00:00:00.000"
                                },
                                {
                                    "0": "1023",
                                    "1": "870 N. 54th Ave.",
                                    "2": "NULL",
                                    "3": "Chandler",
                                    "4": "Arizona",
                                    "5": "United States",
                                    "6": "85225",
                                    "7": "26d3a3ec-3d51-493e-a541-a0cc80b54f35",
                                    "8": "2007-07-01 00:00:00.000"
                                },
                                {
                                    "0": "1024",
                                    "1": "9952 E. Lohman Ave.",
                                    "2": "NULL",
                                    "3": "Las Cruces",
                                    "4": "New Mexico",
                                    "5": "United States",
                                    "6": "88001",
                                    "7": "42af4b56-ece2-4595-929d-fb60db1392d9",
                                    "8": "2005-07-01 00:00:00.000"
                                },
                                {
                                    "0": "1025",
                                    "1": "2530 South Colorado Blvd.",
                                    "2": "NULL",
                                    "3": "Denver",
                                    "4": "Colorado",
                                    "5": "United States",
                                    "6": "80203",
                                    "7": "012ef479-5dad-4009-b456-24e47ca1f472",
                                    "8": "2005-09-01 00:00:00.000"
                                },
                                {
                                    "0": "1026",
                                    "1": "955 E. County Line Rd.",
                                    "2": "NULL",
                                    "3": "Englewood",
                                    "4": "Colorado",
                                    "5": "United States",
                                    "6": "80110",
                                    "7": "17a96f13-8658-4f02-a557-2bc4463ade21",
                                    "8": "2007-09-01 00:00:00.000"
                                },
                                {
                                    "0": "1027",
                                    "1": "409 Santa Monica Blvd.",
                                    "2": "NULL",
                                    "3": "Santa Monica",
                                    "4": "California",
                                    "5": "United States",
                                    "6": "90401",
                                    "7": "58d58e3e-bf3e-4e0c-8f96-1717821e3516",
                                    "8": "2006-09-01 00:00:00.000"
                                },
                                {
                                    "0": "1028",
                                    "1": "Mall Of Orange",
                                    "2": "NULL",
                                    "3": "Orange",
                                    "4": "California",
                                    "5": "United States",
                                    "6": "92867",
                                    "7": "8d9b75cc-90c4-4e15-b69c-891126386ba6",
                                    "8": "2005-08-01 00:00:00.000"
                                },
                                {
                                    "0": "1029",
                                    "1": "Topanga Plaza",
                                    "2": "NULL",
                                    "3": "Canoga Park",
                                    "4": "California",
                                    "5": "United States",
                                    "6": "91303",
                                    "7": "0b945127-9c6f-47a1-80e4-2fb0e057fa55",
                                    "8": "2007-07-01 00:00:00.000"
                                },
                                {
                                    "0": "1030",
                                    "1": "Escondido",
                                    "2": "NULL",
                                    "3": "Escondido",
                                    "4": "California",
                                    "5": "United States",
                                    "6": "92025",
                                    "7": "e5b6618d-a92b-4da1-ba99-316babfff7db",
                                    "8": "2006-08-01 00:00:00.000"
                                },
                                {
                                    "0": "1031",
                                    "1": "Natomas Marketplace",
                                    "2": "NULL",
                                    "3": "Sacramento",
                                    "4": "California",
                                    "5": "United States",
                                    "6": "95814",
                                    "7": "27af5ed8-d33a-4fb2-9c55-d5cdd5017cd4",
                                    "8": "2006-08-01 00:00:00.000"
                                },
                                {
                                    "0": "1032",
                                    "1": "Simi @ The Plaza",
                                    "2": "NULL",
                                    "3": "Simi Valley",
                                    "4": "California",
                                    "5": "United States",
                                    "6": "93065",
                                    "7": "8e4a379f-f6d6-4995-aa19-6db50325d0fe",
                                    "8": "2005-08-01 00:00:00.000"
                                },
                                {
                                    "0": "1033",
                                    "1": "Lakewood Mall",
                                    "2": "NULL",
                                    "3": "Lakewood",
                                    "4": "California",
                                    "5": "United States",
                                    "6": "90712",
                                    "7": "d28c7fef-9ea3-458f-a2b9-11964c3cc60b",
                                    "8": "2007-07-01 00:00:00.000"
                                },
                                {
                                    "0": "1034",
                                    "1": "Oxnard Outlet",
                                    "2": "NULL",
                                    "3": "Oxnard",
                                    "4": "California",
                                    "5": "United States",
                                    "6": "93030",
                                    "7": "300d2a6e-67b4-417b-83a9-2026818a21c6",
                                    "8": "2007-09-01 00:00:00.000"
                                },
                                {
                                    "0": "1035",
                                    "1": "Vista Marketplace",
                                    "2": "NULL",
                                    "3": "Alhambra",
                                    "4": "California",
                                    "5": "United States",
                                    "6": "91801",
                                    "7": "7795fcdf-76c3-4627-86b2-0291398868de",
                                    "8": "2006-09-01 00:00:00.000"
                                },
                                {
                                    "0": "1036",
                                    "1": "Sports Store At Park City",
                                    "2": "NULL",
                                    "3": "Park City",
                                    "4": "Utah",
                                    "5": "United States",
                                    "6": "84098",
                                    "7": "a04ec332-1120-4ac3-837e-97efc40636b2",
                                    "8": "2005-09-01 00:00:00.000"
                                },
                                {
                                    "0": "1037",
                                    "1": "North County Square",
                                    "2": "NULL",
                                    "3": "Vista",
                                    "4": "California",
                                    "5": "United States",
                                    "6": "92084",
                                    "7": "5a794553-877e-4977-8e76-de38aa064ebd",
                                    "8": "2005-09-01 00:00:00.000"
                                },
                                {
                                    "0": "1038",
                                    "1": "123 Camelia Avenue",
                                    "2": "NULL",
                                    "3": "Oxnard",
                                    "4": "California",
                                    "5": "United States",
                                    "6": "93030",
                                    "7": "a86c8140-ad7d-4caa-9b40-4006bd9998e2",
                                    "8": "2007-09-01 00:00:00.000"
                                },
                                {
                                    "0": "1039",
                                    "1": "Mountain Square",
                                    "2": "NULL",
                                    "3": "Upland",
                                    "4": "California",
                                    "5": "United States",
                                    "6": "91786",
                                    "7": "8f1bdc33-0bfb-41d0-bb85-71aafe6126e7",
                                    "8": "2006-09-01 00:00:00.000"
                                },
                                {
                                    "0": "1040",
                                    "1": "Fox Hills",
                                    "2": "NULL",
                                    "3": "Culver City",
                                    "4": "California",
                                    "5": "United States",
                                    "6": "90232",
                                    "7": "5042b0a9-d10a-4f99-9f6f-50f96defa226",
                                    "8": "2005-08-01 00:00:00.000"
                                },
                                {
                                    "0": "1041",
                                    "1": "Parkway Plaza",
                                    "2": "NULL",
                                    "3": "El Cajon",
                                    "4": "California",
                                    "5": "United States",
                                    "6": "92020",
                                    "7": "c0fdc154-d2b5-480d-a5da-4e0d6b5d750c",
                                    "8": "2005-11-01 00:00:00.000"
                                },
                                {
                                    "0": "1042",
                                    "1": "Stonewood Mall",
                                    "2": "NULL",
                                    "3": "Downey",
                                    "4": "California",
                                    "5": "United States",
                                    "6": "90241",
                                    "7": "d1d79211-aec3-424d-a279-af1d01da3ec2",
                                    "8": "2005-08-01 00:00:00.000"
                                },
                                {
                                    "0": "1043",
                                    "1": "Hanford Mall",
                                    "2": "NULL",
                                    "3": "Hanford",
                                    "4": "California",
                                    "5": "United States",
                                    "6": "93230",
                                    "7": "f4f57d92-1839-49f4-a491-63f43215aaf1",
                                    "8": "2005-12-01 00:00:00.000"
                                },
                                {
                                    "0": "1044",
                                    "1": "Ontario Mills",
                                    "2": "NULL",
                                    "3": "Ontario",
                                    "4": "California",
                                    "5": "United States",
                                    "6": "91764",
                                    "7": "c66b86d8-bdfc-4161-9cbf-9a46d5f57b91",
                                    "8": "2007-07-01 00:00:00.000"
                                },
                                {
                                    "0": "1045",
                                    "1": "Nut Tree Factory",
                                    "2": "NULL",
                                    "3": "Vacaville",
                                    "4": "California",
                                    "5": "United States",
                                    "6": "95688",
                                    "7": "eb58eebb-3f55-45d1-9702-eddaccd687e2",
                                    "8": "2005-08-01 00:00:00.000"
                                },
                                {
                                    "0": "1046",
                                    "1": "Rocky Mountain Pines Outlet",
                                    "2": "NULL",
                                    "3": "Loveland",
                                    "4": "Colorado",
                                    "5": "United States",
                                    "6": "80537",
                                    "7": "518e7219-193f-4d72-90c9-e82f201afbe4",
                                    "8": "2005-08-01 00:00:00.000"
                                },
                                {
                                    "0": "1047",
                                    "1": "Stevens Creek Shopping Center",
                                    "2": "NULL",
                                    "3": "San Jose",
                                    "4": "California",
                                    "5": "United States",
                                    "6": "95112",
                                    "7": "0e6f74f0-9128-4688-9007-6395d6c6f4c4",
                                    "8": "2006-09-01 00:00:00.000"
                                },
                                {
                                    "0": "1048",
                                    "1": "Factory Merchants",
                                    "2": "NULL",
                                    "3": "Barstow",
                                    "4": "California",
                                    "5": "United States",
                                    "6": "92311",
                                    "7": "470574f9-6a06-43dc-a4b9-de3c8d88b0e6",
                                    "8": "2005-09-01 00:00:00.000"
                                },
                                {
                                    "0": "1049",
                                    "1": "The Citadel Commerce Plaza",
                                    "2": "NULL",
                                    "3": "City Of Commerce",
                                    "4": "California",
                                    "5": "United States",
                                    "6": "90040",
                                    "7": "42cd575b-22a1-42e0-93bb-d8ee998e4fb7",
                                    "8": "2005-09-01 00:00:00.000"
                                },
                                {
                                    "0": "1050",
                                    "1": "University Town Center",
                                    "2": "NULL",
                                    "3": "San Diego",
                                    "4": "California",
                                    "5": "United States",
                                    "6": "92102",
                                    "7": "6d9ebb03-5c5a-4a20-8910-12d894591727",
                                    "8": "2005-09-01 00:00:00.000"
                                },
                                {
                                    "0": "1051",
                                    "1": "Pavillion @ Redlands",
                                    "2": "NULL",
                                    "3": "Redlands",
                                    "4": "California",
                                    "5": "United States",
                                    "6": "92373",
                                    "7": "b2f0f099-ddd2-4ab6-90af-972d72186937",
                                    "8": "2005-10-01 00:00:00.000"
                                },
                                {
                                    "0": "1052",
                                    "1": "San Diego Factory",
                                    "2": "NULL",
                                    "3": "San Ysidro",
                                    "4": "California",
                                    "5": "United States",
                                    "6": "92173",
                                    "7": "8c3cff8c-3a5d-419a-8dd8-3349c29aa3fd",
                                    "8": "2005-08-01 00:00:00.000"
                                },
                                {
                                    "0": "1053",
                                    "1": "Pacific West Outlet",
                                    "2": "NULL",
                                    "3": "Gilroy",
                                    "4": "California",
                                    "5": "United States",
                                    "6": "95020",
                                    "7": "de6463d5-42d9-4d34-ac99-4aaa19fab3ca",
                                    "8": "2005-08-01 00:00:00.000"
                                },
                                {
                                    "0": "1054",
                                    "1": "Belz Factory Outlet",
                                    "2": "NULL",
                                    "3": "Las Vegas",
                                    "4": "Nevada",
                                    "5": "United States",
                                    "6": "89106",
                                    "7": "0e75e01f-76d4-4420-beb7-0033f16dea62",
                                    "8": "2005-08-01 00:00:00.000"
                                },
                                {
                                    "0": "1055",
                                    "1": "Camarillo Athletic Stores",
                                    "2": "NULL",
                                    "3": "Camarillo",
                                    "4": "California",
                                    "5": "United States",
                                    "6": "93010",
                                    "7": "30e691f7-1d06-4df7-aedf-627ad911a770",
                                    "8": "2005-08-01 00:00:00.000"
                                },
                                {
                                    "0": "1056",
                                    "1": "Lake Elisnor Place",
                                    "2": "NULL",
                                    "3": "Lake Elsinore",
                                    "4": "California",
                                    "5": "United States",
                                    "6": "92530",
                                    "7": "596345c5-0be2-444d-ba93-d109713bc0b6",
                                    "8": "2005-08-01 00:00:00.000"
                                },
                                {
                                    "0": "1057",
                                    "1": "Norwalk Square",
                                    "2": "NULL",
                                    "3": "Norwalk",
                                    "4": "California",
                                    "5": "United States",
                                    "6": "90650",
                                    "7": "ccce93be-ab0b-4211-8407-5be45034534c",
                                    "8": "2005-09-01 00:00:00.000"
                                },
                                {
                                    "0": "1058",
                                    "1": "Riverside",
                                    "2": "NULL",
                                    "3": "Sherman Oaks",
                                    "4": "California",
                                    "5": "United States",
                                    "6": "91403",
                                    "7": "a26100f0-511f-45a2-879a-ff365794fcf5",
                                    "8": "2007-09-01 00:00:00.000"
                                },
                                {
                                    "0": "1059",
                                    "1": "The Quad @ WestView",
                                    "2": "NULL",
                                    "3": "Whittier",
                                    "4": "California",
                                    "5": "United States",
                                    "6": "90605",
                                    "7": "2215f750-1863-4aff-926d-de309c298de9",
                                    "8": "2007-07-01 00:00:00.000"
                                },
                                {
                                    "0": "1060",
                                    "1": "Arcadia Crossing",
                                    "2": "NULL",
                                    "3": "Phoenix",
                                    "4": "Arizona",
                                    "5": "United States",
                                    "6": "85004",
                                    "7": "cc91297c-567b-4186-96c8-2ba6f0875e73",
                                    "8": "2006-07-01 00:00:00.000"
                                },
                                {
                                    "0": "1061",
                                    "1": "Eastern Beltway Center",
                                    "2": "NULL",
                                    "3": "Las Vegas",
                                    "4": "Nevada",
                                    "5": "United States",
                                    "6": "89106",
                                    "7": "84603598-f6d4-4e26-9b9e-6a468365d4d8",
                                    "8": "2005-12-01 00:00:00.000"
                                },
                                {
                                    "0": "1062",
                                    "1": "Factory Stores/tucson",
                                    "2": "NULL",
                                    "3": "Tucson",
                                    "4": "Arizona",
                                    "5": "United States",
                                    "6": "85701",
                                    "7": "c15eca9a-6054-40e4-8d09-d4341aabce2d",
                                    "8": "2005-09-01 00:00:00.000"
                                },
                                {
                                    "0": "1063",
                                    "1": "Viejas Outlet Center",
                                    "2": "NULL",
                                    "3": "Alpine",
                                    "4": "California",
                                    "5": "United States",
                                    "6": "91901",
                                    "7": "4f8ec2c2-71d6-4b7f-bcc7-808e17696373",
                                    "8": "2007-09-01 00:00:00.000"
                                },
                                {
                                    "0": "1064",
                                    "1": "West Park Plaza",
                                    "2": "NULL",
                                    "3": "Irvine",
                                    "4": "California",
                                    "5": "United States",
                                    "6": "92614",
                                    "7": "365914ce-cbb2-429b-a2d8-24638fcf17fc",
                                    "8": "2006-01-01 00:00:00.000"
                                },
                                {
                                    "0": "1065",
                                    "1": "Factory Stores Of America",
                                    "2": "NULL",
                                    "3": "Mesa",
                                    "4": "Arizona",
                                    "5": "United States",
                                    "6": "85201",
                                    "7": "1b96d3a3-ed06-482f-a813-7136e5aaa57d",
                                    "8": "2006-09-01 00:00:00.000"
                                },
                                {
                                    "0": "1066",
                                    "1": "Prime Outlets",
                                    "2": "NULL",
                                    "3": "Phoenix",
                                    "4": "Arizona",
                                    "5": "United States",
                                    "6": "85004",
                                    "7": "bd687691-297f-4b72-9465-c8dbd0f8e2ee",
                                    "8": "2005-09-01 00:00:00.000"
                                },
                                {
                                    "0": "1067",
                                    "1": "Bayshore Mall",
                                    "2": "NULL",
                                    "3": "Eureka",
                                    "4": "California",
                                    "5": "United States",
                                    "6": "95501",
                                    "7": "001d1a67-585c-44b2-aac6-1199afd7425f",
                                    "8": "2006-09-01 00:00:00.000"
                                },
                                {
                                    "0": "1068",
                                    "1": "7709 West Virginia Avenue",
                                    "2": "NULL",
                                    "3": "Phoenix",
                                    "4": "Arizona",
                                    "5": "United States",
                                    "6": "85004",
                                    "7": "b8184c93-a8de-4321-b381-1babc7088d60",
                                    "8": "2006-07-01 00:00:00.000"
                                },
                                {
                                    "0": "1069",
                                    "1": "6900 Sisk Road",
                                    "2": "NULL",
                                    "3": "Modesto",
                                    "4": "California",
                                    "5": "United States",
                                    "6": "95354",
                                    "7": "60110399-edf3-4c06-ac87-1d9856e9d2e3",
                                    "8": "2005-07-01 00:00:00.000"
                                },
                                {
                                    "0": "1070",
                                    "1": "3250 Baldwin Park Blvd",
                                    "2": "NULL",
                                    "3": "Baldwin Park",
                                    "4": "California",
                                    "5": "United States",
                                    "6": "91706",
                                    "7": "957ec59c-7a7d-438e-9014-20fbeb807e99",
                                    "8": "2005-08-01 00:00:00.000"
                                },
                                {
                                    "0": "1071",
                                    "1": "5867 Sunrise Boulevard",
                                    "2": "NULL",
                                    "3": "Citrus Heights",
                                    "4": "California",
                                    "5": "United States",
                                    "6": "95610",
                                    "7": "a64fc10b-61f7-4102-b076-e9cb77e9ec8f",
                                    "8": "2006-11-01 00:00:00.000"
                                },
                                {
                                    "0": "1072",
                                    "1": "6500 East Grant Road",
                                    "2": "NULL",
                                    "3": "Tucson",
                                    "4": "Arizona",
                                    "5": "United States",
                                    "6": "85701",
                                    "7": "b9265d45-3fed-4b7d-aeea-00d0e54b3cc7",
                                    "8": "2007-09-01 00:00:00.000"
                                },
                                {
                                    "0": "1073",
                                    "1": "3065 Santa Margarita Parkway",
                                    "2": "NULL",
                                    "3": "Trabuco Canyon",
                                    "4": "California",
                                    "5": "United States",
                                    "6": "92679",
                                    "7": "c5c0801f-f124-4a5e-b8ba-0ace3bf0f993",
                                    "8": "2005-07-01 00:00:00.000"
                                },
                                {
                                    "0": "1074",
                                    "1": "9920 Bridgepointe Parkway",
                                    "2": "NULL",
                                    "3": "San Mateo",
                                    "4": "California",
                                    "5": "United States",
                                    "6": "94404",
                                    "7": "c346981b-2093-474a-9bc0-54ce2e0e4a94",
                                    "8": "2005-07-01 00:00:00.000"
                                },
                                {
                                    "0": "1075",
                                    "1": "5525 South Hover Road",
                                    "2": "NULL",
                                    "3": "Longmont",
                                    "4": "Colorado",
                                    "5": "United States",
                                    "6": "80501",
                                    "7": "e5fa71b3-685a-4d11-bc0c-e4aa69cd4ded",
                                    "8": "2006-07-01 00:00:00.000"
                                },
                                {
                                    "0": "1076",
                                    "1": "8525 South Parker Road",
                                    "2": "NULL",
                                    "3": "Parker",
                                    "4": "Colorado",
                                    "5": "United States",
                                    "6": "80138",
                                    "7": "d4f4ab28-5f27-4f89-a0d6-5fcea394bb47",
                                    "8": "2005-08-01 00:00:00.000"
                                },
                                {
                                    "0": "1077",
                                    "1": "7505 Laguna Boulevard",
                                    "2": "NULL",
                                    "3": "Elk Grove",
                                    "4": "California",
                                    "5": "United States",
                                    "6": "95624",
                                    "7": "b6213e39-9da3-4423-8756-0b195ed95fb4",
                                    "8": "2005-11-01 00:00:00.000"
                                },
                                {
                                    "0": "1078",
                                    "1": "9909 W. Ventura Boulevard",
                                    "2": "NULL",
                                    "3": "Camarillo",
                                    "4": "California",
                                    "5": "United States",
                                    "6": "93010",
                                    "7": "0a911f46-295e-4485-a9d8-90dfcc0c9223",
                                    "8": "2006-08-01 00:00:00.000"
                                },
                                {
                                    "0": "1079",
                                    "1": "25150 El Camino Real",
                                    "2": "NULL",
                                    "3": "San Bruno",
                                    "4": "California",
                                    "5": "United States",
                                    "6": "94066",
                                    "7": "9f1bc24e-66f2-41e2-94a2-d1001c050bb4",
                                    "8": "2005-09-01 00:00:00.000"
                                },
                                {
                                    "0": "1080",
                                    "1": "2575 Rocky Mountain Ave.",
                                    "2": "NULL",
                                    "3": "Loveland",
                                    "4": "Colorado",
                                    "5": "United States",
                                    "6": "80537",
                                    "7": "bcc0867e-cb4e-4852-994e-03abed8c95ab",
                                    "8": "2006-08-01 00:00:00.000"
                                },
                                {
                                    "0": "1081",
                                    "1": "25871 North Main Street",
                                    "2": "NULL",
                                    "3": "Walnut Creek",
                                    "4": "California",
                                    "5": "United States",
                                    "6": "94596",
                                    "7": "a00218d5-482d-44c2-8cd0-6f65af8642d3",
                                    "8": "2006-08-01 00:00:00.000"
                                },
                                {
                                    "0": "1082",
                                    "1": "2551 East Warner Road",
                                    "2": "NULL",
                                    "3": "Gilbert",
                                    "4": "Arizona",
                                    "5": "United States",
                                    "6": "85233",
                                    "7": "d88afbda-b59b-496e-ba6d-b3b2356574ff",
                                    "8": "2007-08-01 00:00:00.000"
                                },
                                {
                                    "0": "1083",
                                    "1": "22589 West Craig Road",
                                    "2": "NULL",
                                    "3": "North Las Vegas",
                                    "4": "Nevada",
                                    "5": "United States",
                                    "6": "89030",
                                    "7": "a4c2efe6-17e5-4dd5-9bed-6743405627e7",
                                    "8": "2007-05-01 00:00:00.000"
                                },
                                {
                                    "0": "1084",
                                    "1": "25751 University Drive",
                                    "2": "NULL",
                                    "3": "Vista",
                                    "4": "California",
                                    "5": "United States",
                                    "6": "92084",
                                    "7": "bd3035f6-4018-4e4c-8d70-6dd3f4fe8eb4",
                                    "8": "2007-05-01 00:00:00.000"
                                },
                                {
                                    "0": "1085",
                                    "1": "49925 Crestview Drive N.E.",
                                    "2": "NULL",
                                    "3": "Rio Rancho",
                                    "4": "New Mexico",
                                    "5": "United States",
                                    "6": "87124",
                                    "7": "3a1f16cf-6889-40b2-b067-7d044a8c7d42",
                                    "8": "2005-09-01 00:00:00.000"
                                },
                                {
                                    "0": "1086",
                                    "1": "57251 Serene Blvd",
                                    "2": "NULL",
                                    "3": "Van Nuys",
                                    "4": "California",
                                    "5": "United States",
                                    "6": "91411",
                                    "7": "7df3a412-f2b3-4abb-88e1-21d4677f1311",
                                    "8": "2007-09-01 00:00:00.000"
                                },
                                {
                                    "0": "1087",
                                    "1": "253731 West Bell Road",
                                    "2": "NULL",
                                    "3": "Surprise",
                                    "4": "Arizona",
                                    "5": "United States",
                                    "6": "85374",
                                    "7": "4ba77e6a-4a47-4bfe-8aeb-dbfea179795d",
                                    "8": "2006-08-01 00:00:00.000"
                                },
                                {
                                    "0": "1088",
                                    "1": "99040 California Avenue",
                                    "2": "NULL",
                                    "3": "Sand City",
                                    "4": "California",
                                    "5": "United States",
                                    "6": "93955",
                                    "7": "a18799a1-342a-4b6c-a63c-8e4e2c07f734",
                                    "8": "2007-07-01 00:00:00.000"
                                },
                                {
                                    "0": "1089",
                                    "1": "25620 Firestone Boulevard",
                                    "2": "NULL",
                                    "3": "Norwalk",
                                    "4": "California",
                                    "5": "United States",
                                    "6": "90650",
                                    "7": "31a07731-18ff-4100-8319-b4704f414497",
                                    "8": "2007-07-01 00:00:00.000"
                                },
                                {
                                    "0": "1090",
                                    "1": "25130 South State Street",
                                    "2": "NULL",
                                    "3": "Sandy",
                                    "4": "Utah",
                                    "5": "United States",
                                    "6": "84070",
                                    "7": "cf3ae92a-3e66-4af0-b683-731826e89cd1",
                                    "8": "2007-09-01 00:00:00.000"
                                },
                                {
                                    "0": "1091",
                                    "1": "5500 Grossmont Center Drive",
                                    "2": "NULL",
                                    "3": "La Mesa",
                                    "4": "California",
                                    "5": "United States",
                                    "6": "91941",
                                    "7": "24f1dbc4-7fdc-4edb-b3cb-640f9fb72534",
                                    "8": "2005-09-01 00:00:00.000"
                                },
                                {
                                    "0": "1092",
                                    "1": "99700 Bell Road",
                                    "2": "NULL",
                                    "3": "Auburn",
                                    "4": "California",
                                    "5": "United States",
                                    "6": "95603",
                                    "7": "79cdd89c-3c91-48db-8277-46d04aad7251",
                                    "8": "2006-09-01 00:00:00.000"
                                },
                                {
                                    "0": "1093",
                                    "1": "7750 E Marching Rd",
                                    "2": "NULL",
                                    "3": "Scottsdale",
                                    "4": "Arizona",
                                    "5": "United States",
                                    "6": "85257",
                                    "7": "f181458a-b5a3-4944-b7b1-73dcad67c14e",
                                    "8": "2007-08-01 00:00:00.000"
                                },
                                {
                                    "0": "1094",
                                    "1": "25250 N 90th St",
                                    "2": "NULL",
                                    "3": "Scottsdale",
                                    "4": "Arizona",
                                    "5": "United States",
                                    "6": "85257",
                                    "7": "3e024d96-b7d3-4622-ab9b-0724b91b7832",
                                    "8": "2005-09-01 00:00:00.000"
                                },
                                {
                                    "0": "1095",
                                    "1": "9980 S Alma School Road",
                                    "2": "NULL",
                                    "3": "Chandler",
                                    "4": "Arizona",
                                    "5": "United States",
                                    "6": "85225",
                                    "7": "b09b3f8e-89f2-4528-9578-53cbcf805b4a",
                                    "8": "2007-02-01 00:00:00.000"
                                },
                                {
                                    "0": "1096",
                                    "1": "6753 Howard Hughes Parkway",
                                    "2": "NULL",
                                    "3": "Las Vegas",
                                    "4": "Nevada",
                                    "5": "United States",
                                    "6": "89106",
                                    "7": "30c83112-a09f-4e26-9ad7-4fd6c10fec4e",
                                    "8": "2006-10-01 00:00:00.000"
                                },
                                {
                                    "0": "1097",
                                    "1": "Corp Ofc Accts Payable",
                                    "2": "NULL",
                                    "3": "El Segundo",
                                    "4": "California",
                                    "5": "United States",
                                    "6": "90245",
                                    "7": "5f6d242f-dda3-462c-bec1-097c63913176",
                                    "8": "2005-09-01 00:00:00.000"
                                },
                                {
                                    "0": "1098",
                                    "1": "Po Box 252525",
                                    "2": "NULL",
                                    "3": "Santa Ana",
                                    "4": "California",
                                    "5": "United States",
                                    "6": "92701",
                                    "7": "7d2bd572-f8ab-435a-a47b-3a534d7d9cdc",
                                    "8": "2006-09-01 00:00:00.000"
                                },
                                {
                                    "0": "1099",
                                    "1": "62500 Neil Road",
                                    "2": "NULL",
                                    "3": "Reno",
                                    "4": "Nevada",
                                    "5": "United States",
                                    "6": "89502",
                                    "7": "be51f10f-1a66-46e6-8154-9fe01597769c",
                                    "8": "2005-08-01 00:00:00.000"
                                },
                                {
                                    "0": "1100",
                                    "1": "4635 S. Harrison Blvd.",
                                    "2": "NULL",
                                    "3": "Ogden",
                                    "4": "Utah",
                                    "5": "United States",
                                    "6": "84401",
                                    "7": "be4dfeef-cb1c-4af8-b517-3214c7c1f311",
                                    "8": "2007-09-01 00:00:00.000"
                                },
                                {
                                    "0": "1101",
                                    "1": "825 W 500 S",
                                    "2": "NULL",
                                    "3": "Bountiful",
                                    "4": "Utah",
                                    "5": "United States",
                                    "6": "84010",
                                    "7": "2e6d7491-e0a8-4c79-98ce-bac61a07fb25",
                                    "8": "2006-10-01 00:00:00.000"
                                },
                                {
                                    "0": "1102",
                                    "1": "603 Gellert Blvd",
                                    "2": "NULL",
                                    "3": "Daly City",
                                    "4": "California",
                                    "5": "United States",
                                    "6": "94015",
                                    "7": "a8dcad62-8678-458c-87eb-e2c2e550ff80",
                                    "8": "2005-12-01 00:00:00.000"
                                },
                                {
                                    "0": "1103",
                                    "1": "2564 S. Redwood Rd.",
                                    "2": "NULL",
                                    "3": "Riverton",
                                    "4": "Utah",
                                    "5": "United States",
                                    "6": "84065",
                                    "7": "e299e96d-63cb-4acc-9bfd-5f0c23ae5820",
                                    "8": "2005-11-01 00:00:00.000"
                                },
                                {
                                    "0": "1104",
                                    "1": "9927 N. Main St.",
                                    "2": "NULL",
                                    "3": "Tooele",
                                    "4": "Utah",
                                    "5": "United States",
                                    "6": "84074",
                                    "7": "ce0fa600-8761-402c-a6c0-84fb6244984b",
                                    "8": "2005-08-01 00:00:00.000"
                                },
                                {
                                    "0": "1105",
                                    "1": "566 S. Main",
                                    "2": "NULL",
                                    "3": "Cedar City",
                                    "4": "Utah",
                                    "5": "United States",
                                    "6": "84720",
                                    "7": "c16f92ab-817f-42d1-a560-bc0f86fe2783",
                                    "8": "2006-07-01 00:00:00.000"
                                },
                                {
                                    "0": "11380",
                                    "1": "165 North Main",
                                    "2": "NULL",
                                    "3": "Austin",
                                    "4": "Texas",
                                    "5": "United States",
                                    "6": "78701",
                                    "7": "412e3088-1fb8-4a1f-b3a8-abb23a4f01c1",
                                    "8": "2006-07-01 00:00:00.000"
                                },
                                {
                                    "0": "11381",
                                    "1": "2000 300th Street",
                                    "2": "NULL",
                                    "3": "Denver",
                                    "4": "Colorado",
                                    "5": "United States",
                                    "6": "80203",
                                    "7": "a9dbb460-a624-4e6a-aa22-311ee18f6746",
                                    "8": "2005-09-01 00:00:00.000"
                                },
                                {
                                    "0": "11382",
                                    "1": "99 Front Street",
                                    "2": "NULL",
                                    "3": "Minneapolis",
                                    "4": "Minnesota",
                                    "5": "United States",
                                    "6": "55402",
                                    "7": "878660a8-a9fe-4ef8-8d2d-53c614c6f042",
                                    "8": "2005-08-01 00:00:00.000"
                                }
                            ]
                        },
                        "text/html": [
                            "<table>",
                            "<tr><th>AddressID</th><th>AddressLine1</th><th>AddressLine2</th><th>City</th><th>StateProvince</th><th>CountryRegion</th><th>PostalCode</th><th>rowguid</th><th>ModifiedDate</th></tr>",
                            "<tr><td>9</td><td>8713 Yosemite Ct.</td><td>NULL</td><td>Bothell</td><td>Washington</td><td>United States</td><td>98011</td><td>268af621-76d7-4c78-9441-144fd139821a</td><td>2006-07-01 00:00:00.000</td></tr>",
                            "<tr><td>11</td><td>1318 Lasalle Street</td><td>NULL</td><td>Bothell</td><td>Washington</td><td>United States</td><td>98011</td><td>981b3303-aca2-49c7-9a96-fb670785b269</td><td>2007-04-01 00:00:00.000</td></tr>",
                            "<tr><td>25</td><td>9178 Jumping St.</td><td>NULL</td><td>Dallas</td><td>Texas</td><td>United States</td><td>75201</td><td>c8df3bd9-48f0-4654-a8dd-14a67a84d3c6</td><td>2006-09-01 00:00:00.000</td></tr>",
                            "<tr><td>28</td><td>9228 Via Del Sol</td><td>NULL</td><td>Phoenix</td><td>Arizona</td><td>United States</td><td>85004</td><td>12ae5ee1-fc3e-468b-9b92-3b970b169774</td><td>2005-09-01 00:00:00.000</td></tr>",
                            "<tr><td>32</td><td>26910 Indela Road</td><td>NULL</td><td>Montreal</td><td>Quebec</td><td>Canada</td><td>H1Y 2H5</td><td>84a95f62-3ae8-4e7e-bbd5-5a6f00cd982d</td><td>2006-08-01 00:00:00.000</td></tr>",
                            "<tr><td>185</td><td>2681 Eagle Peak</td><td>NULL</td><td>Bellevue</td><td>Washington</td><td>United States</td><td>98004</td><td>7bccf442-2268-46cc-8472-14c44c14e98c</td><td>2006-09-01 00:00:00.000</td></tr>",
                            "<tr><td>297</td><td>7943 Walnut Ave</td><td>NULL</td><td>Renton</td><td>Washington</td><td>United States</td><td>98055</td><td>52410da4-2778-4b1d-a599-95746625ce6d</td><td>2006-08-01 00:00:00.000</td></tr>",
                            "<tr><td>445</td><td>6388 Lake City Way</td><td>NULL</td><td>Burnaby</td><td>British Columbia</td><td>Canada</td><td>V5A 3A6</td><td>53572f25-9133-4a8b-a065-102ff35416ee</td><td>2006-09-01 00:00:00.000</td></tr>",
                            "<tr><td>446</td><td>52560 Free Street</td><td>NULL</td><td>Toronto</td><td>Ontario</td><td>Canada</td><td>M4B 1V7</td><td>801a1dfc-5125-486b-aa84-ccbd2ec57ca4</td><td>2005-08-01 00:00:00.000</td></tr>",
                            "<tr><td>447</td><td>22580 Free Street</td><td>NULL</td><td>Toronto</td><td>Ontario</td><td>Canada</td><td>M4B 1V7</td><td>88cee379-dbb8-433b-b84e-a35e09435500</td><td>2006-08-01 00:00:00.000</td></tr>",
                            "<tr><td>448</td><td>2575 Bloor Street East</td><td>NULL</td><td>Toronto</td><td>Ontario</td><td>Canada</td><td>M4B 1V6</td><td>2df6d0ad-0926-4f34-a450-9b1083150cbf</td><td>2007-08-01 00:00:00.000</td></tr>",
                            "<tr><td>449</td><td>Station E</td><td>NULL</td><td>Chalk Riber</td><td>Ontario</td><td>Canada</td><td>K0J 1J0</td><td>8b5a7729-cb75-4303-a607-7f9793b4d94f</td><td>2005-08-01 00:00:00.000</td></tr>",
                            "<tr><td>450</td><td>575 Rue St Amable</td><td>NULL</td><td>Quebec</td><td>Quebec</td><td>Canada</td><td>G1R</td><td>5f3c345a-6475-41d5-b17b-db8d27733bb1</td><td>2006-09-01 00:00:00.000</td></tr>",
                            "<tr><td>451</td><td>2512-4th Ave Sw</td><td>NULL</td><td>Calgary</td><td>Alberta</td><td>Canada</td><td>T2P 2G8</td><td>49644f1e-6f90-46d9-8dbb-9db15f0ef7ec</td><td>2006-12-01 00:00:00.000</td></tr>",
                            "<tr><td>452</td><td>55 Lakeshore Blvd East</td><td>NULL</td><td>Toronto</td><td>Ontario</td><td>Canada</td><td>M4B 1V6</td><td>a358652f-0e00-49e6-b6b0-de1099c43506</td><td>2005-09-01 00:00:00.000</td></tr>",
                            "<tr><td>453</td><td>6333 Cote Vertu</td><td>NULL</td><td>Montreal</td><td>Quebec</td><td>Canada</td><td>H1Y 2H7</td><td>355681f2-4d9d-4522-bfa0-105be64394d8</td><td>2007-09-01 00:00:00.000</td></tr>",
                            "<tr><td>454</td><td>3255 Front Street West</td><td>NULL</td><td>Toronto</td><td>Ontario</td><td>Canada</td><td>M4B 1V6</td><td>ef4dc57d-8b8b-4074-b5f0-acbef65dbec1</td><td>2007-08-01 00:00:00.000</td></tr>",
                            "<tr><td>455</td><td>2550 Signet Drive</td><td>NULL</td><td>Weston</td><td>Ontario</td><td>Canada</td><td>M9V 4W3</td><td>43d582cf-e95f-4861-ba60-2dc7121410a6</td><td>2006-08-01 00:00:00.000</td></tr>",
                            "<tr><td>456</td><td>6777 Kingsway</td><td>NULL</td><td>Burnaby</td><td>British Columbia</td><td>Canada</td><td>V5H 3Z7</td><td>2f3b383e-08a5-407d-ab1b-a1390e87a888</td><td>2006-08-01 00:00:00.000</td></tr>",
                            "<tr><td>457</td><td>5250-505 Burning St</td><td>NULL</td><td>Vancouver</td><td>British Columbia</td><td>Canada</td><td>V7L 4J4</td><td>93f02c61-783d-4f04-8a57-416f25817aba</td><td>2006-07-01 00:00:00.000</td></tr>",
                            "<tr><td>458</td><td>600 Slater Street</td><td>NULL</td><td>Ottawa</td><td>Ontario</td><td>Canada</td><td>K4B 1S2</td><td>49f4ee42-e20b-4e66-b43c-a28e9fc63ca0</td><td>2005-07-01 00:00:00.000</td></tr>",
                            "<tr><td>459</td><td>25575 The Queensway</td><td>NULL</td><td>Etobicoke</td><td>Ontario</td><td>Canada</td><td>M9W 3P3</td><td>616235ea-dc36-4c39-bf91-ffe12bb676e0</td><td>2005-08-01 00:00:00.000</td></tr>",
                            "<tr><td>460</td><td>2521 McPherson Street</td><td>NULL</td><td>Markham</td><td>Ontario</td><td>Canada</td><td>L3S 3K2</td><td>7d6f03ac-5d55-422e-850e-b8743fac81b2</td><td>2007-08-01 00:00:00.000</td></tr>",
                            "<tr><td>461</td><td>2560 Bay Street</td><td>NULL</td><td>Toronto</td><td>Ontario</td><td>Canada</td><td>M4B 1V7</td><td>726819a8-1b02-4efd-aeb9-3fd801d9f153</td><td>2006-08-01 00:00:00.000</td></tr>",
                            "<tr><td>462</td><td>630 University Avenue</td><td>NULL</td><td>Toronto</td><td>Ontario</td><td>Canada</td><td>M4B 1V7</td><td>27d5bdad-647d-4a56-859a-bc6a82af7dcd</td><td>2005-08-01 00:00:00.000</td></tr>",
                            "<tr><td>463</td><td>992 St Clair Ave East</td><td>NULL</td><td>Toronto</td><td>Ontario</td><td>Canada</td><td>M4B 1V7</td><td>d6ed51fa-6dd1-460c-99e0-64ba90f035ae</td><td>2005-09-01 00:00:00.000</td></tr>",
                            "<tr><td>464</td><td>99, Rue Saint-pierre</td><td>NULL</td><td>Pnot-Rouge</td><td>Quebec</td><td>Canada</td><td>J1E 2T7</td><td>c4a1ee36-8149-46b7-a313-a63010987a8e</td><td>2005-07-01 00:00:00.000</td></tr>",
                            "<tr><td>465</td><td>25245 Rue Sherbrooke Ouest</td><td>NULL</td><td>Montreal</td><td>Quebec</td><td>Canada</td><td>H1Y 2H5</td><td>10ee8c14-2792-4f02-b83d-92511d20470f</td><td>2007-07-01 00:00:00.000</td></tr>",
                            "<tr><td>466</td><td>655-4th Ave S.W.</td><td>NULL</td><td>Calgary</td><td>Alberta</td><td>Canada</td><td>T2P 2G8</td><td>09c5f0ba-7128-4455-832d-0df587248a5a</td><td>2005-08-01 00:00:00.000</td></tr>",
                            "<tr><td>467</td><td>25900-700-9th Ave S.W.</td><td>NULL</td><td>Calgary</td><td>Alberta</td><td>Canada</td><td>T2P 2G8</td><td>13560188-ce4a-470d-9913-49903047d459</td><td>2005-11-01 00:00:00.000</td></tr>",
                            "<tr><td>468</td><td>Po Box 83270</td><td>NULL</td><td>Vancouver</td><td>British Columbia</td><td>Canada</td><td>V7L 4J4</td><td>c00a5dff-b134-4900-9561-e67eeb425f9f</td><td>2007-08-01 00:00:00.000</td></tr>",
                            "<tr><td>469</td><td>400-25155 West Pender St</td><td>NULL</td><td>Vancouver</td><td>British Columbia</td><td>Canada</td><td>V7L 4J4</td><td>b81768f9-3b05-43dc-8dde-85ffca00d4de</td><td>2007-09-01 00:00:00.000</td></tr>",
                            "<tr><td>470</td><td>2511 Baker Road</td><td>NULL</td><td>Toronto</td><td>Ontario</td><td>Canada</td><td>M4B 1V7</td><td>6e934d97-69b9-4fcf-9e4e-56bf94e52986</td><td>2005-09-01 00:00:00.000</td></tr>",
                            "<tr><td>471</td><td>770 Notre Datme Quest Bureau 800</td><td>NULL</td><td>Montreal</td><td>Quebec</td><td>Canada</td><td>H1Y 2H7</td><td>5eda011d-31d1-4dfb-a78c-397b6335f85b</td><td>2005-09-01 00:00:00.000</td></tr>",
                            "<tr><td>472</td><td>250551 Shellbridge Way</td><td>NULL</td><td>Richmond</td><td>British Columbia</td><td>Canada</td><td>V6B 3P7</td><td>1a6a1a7b-e208-473d-a8f4-14a89d06fad2</td><td>2005-09-01 00:00:00.000</td></tr>",
                            "<tr><td>473</td><td>595 Burning Street</td><td>NULL</td><td>Vancouver</td><td>British Columbia</td><td>Canada</td><td>V7L 4J4</td><td>0ec83a85-137e-4cf3-b13d-3926277698b2</td><td>2005-09-01 00:00:00.000</td></tr>",
                            "<tr><td>474</td><td>252345 8810th Avenue</td><td>NULL</td><td>Surrey</td><td>British Columbia</td><td>Canada</td><td>V3T 4W3</td><td>447ca097-077d-4980-a431-8fafad156ced</td><td>2005-09-01 00:00:00.000</td></tr>",
                            "<tr><td>475</td><td>2512-410th Avenue S.W.</td><td>NULL</td><td>Calgary</td><td>Alberta</td><td>Canada</td><td>T2P 2G8</td><td>ec6c99b9-61e2-4400-8180-208f5a6c7eff</td><td>2007-09-01 00:00:00.000</td></tr>",
                            "<tr><td>476</td><td>258 King Street East</td><td>NULL</td><td>Toronto</td><td>Ontario</td><td>Canada</td><td>M4B 1V7</td><td>90c770a5-a474-43d1-9a67-0f5de336f9dc</td><td>2005-08-01 00:00:00.000</td></tr>",
                            "<tr><td>477</td><td>6th Floor Ferguson Block</td><td>NULL</td><td>Toronto</td><td>Ontario</td><td>Canada</td><td>M4B 1V7</td><td>39f3b067-2263-4591-abf9-d5210da4f783</td><td>2005-08-01 00:00:00.000</td></tr>",
                            "<tr><td>478</td><td>2545 King Street West</td><td>NULL</td><td>Toronto</td><td>Ontario</td><td>Canada</td><td>M4B 1V7</td><td>2817a0b7-8985-4527-bb7b-b75f55f4d8de</td><td>2005-08-01 00:00:00.000</td></tr>",
                            "<tr><td>479</td><td>2550 Middlefield Road</td><td>NULL</td><td>Scarborough</td><td>Ontario</td><td>Canada</td><td>M1V 4M2</td><td>e60801bf-cfb3-4606-a738-8aa0eb587afb</td><td>2005-08-01 00:00:00.000</td></tr>",
                            "<tr><td>480</td><td>25 First Canadian Place</td><td>NULL</td><td>Toronto</td><td>Ontario</td><td>Canada</td><td>M4B 1V5</td><td>07a009b2-1421-4597-ab85-22bce3c82b2c</td><td>2005-08-01 00:00:00.000</td></tr>",
                            "<tr><td>481</td><td>65 Gamelin Street</td><td>NULL</td><td>Hull</td><td>Quebec</td><td>Canada</td><td>8Y</td><td>f35e73ba-678f-4a0f-80bc-6385a7a6cb24</td><td>2006-08-01 00:00:00.000</td></tr>",
                            "<tr><td>482</td><td>2500 University Avenue</td><td>NULL</td><td>Toronto</td><td>Ontario</td><td>Canada</td><td>M4B 1V5</td><td>197a1735-e89e-4f15-a5f7-feb98b369094</td><td>2005-07-01 00:00:00.000</td></tr>",
                            "<tr><td>483</td><td>955 Green Valley Crescent</td><td>NULL</td><td>Ottawa</td><td>Ontario</td><td>Canada</td><td>K4B 1S1</td><td>c6b743c3-f830-43e4-ba58-dd36fc451d14</td><td>2007-09-01 00:00:00.000</td></tr>",
                            "<tr><td>484</td><td>2510 Crew Court</td><td>NULL</td><td>Montreal</td><td>Quebec</td><td>Canada</td><td>H1Y 2H8</td><td>1f41edc1-7144-4d6b-9cbd-4318c2358fa1</td><td>2008-06-01 00:00:00.000</td></tr>",
                            "<tr><td>485</td><td>9900-6400 Boul, Taschereau</td><td>NULL</td><td>Brossard</td><td>Quebec</td><td>Canada</td><td>J4Z 1R4</td><td>7c46d2fc-e31e-402f-a093-4cf18f7f6e54</td><td>2006-07-01 00:00:00.000</td></tr>",
                            "<tr><td>486</td><td>600 Boul. Rene-levesque Ouest</td><td>NULL</td><td>Montreal</td><td>Quebec</td><td>Canada</td><td>H1Y 2H7</td><td>112049e4-64d5-4305-9545-933e89b74f6e</td><td>2006-07-01 00:00:00.000</td></tr>",
                            "<tr><td>487</td><td>9259 - 1110th Avenue Sw</td><td>NULL</td><td>Calgary</td><td>Alberta</td><td>Canada</td><td>T2P 2G8</td><td>275ac976-0d23-4d97-9f58-bb186d1cc089</td><td>2006-09-01 00:00:00.000</td></tr>",
                            "<tr><td>488</td><td>45259 Canada Way</td><td>NULL</td><td>Burnaby</td><td>British Columbia</td><td>Canada</td><td>V5G 4S4</td><td>6d2d6846-3f17-474e-8d31-ad3a59c0ceb0</td><td>2007-08-01 00:00:00.000</td></tr>",
                            "<tr><td>489</td><td>9960 King Street E.</td><td>NULL</td><td>Toronto</td><td>Ontario</td><td>Canada</td><td>M4B 1V5</td><td>eb632e56-4299-4714-9e91-224319bdcb62</td><td>2007-08-01 00:00:00.000</td></tr>",
                            "<tr><td>490</td><td>9979 Bayview Drive</td><td>NULL</td><td>Barrie</td><td>Ontario</td><td>Canada</td><td>L4N</td><td>85d72a98-f631-457c-8fff-04faec508f5d</td><td>2006-08-01 00:00:00.000</td></tr>",
                            "<tr><td>491</td><td>20225 Lansing Ave</td><td>NULL</td><td>Montreal</td><td>Quebec</td><td>Canada</td><td>H1Y 2H7</td><td>a9b5a261-2463-4489-9951-eacfa29a8231</td><td>2007-09-01 00:00:00.000</td></tr>",
                            "<tr><td>492</td><td>99954 Boul. Laurier, Local 060, Place</td><td>NULL</td><td>Sainte-Foy</td><td>Quebec</td><td>Canada</td><td>G1W</td><td>541cde7c-3f3a-435f-a7b5-f30055dfbc68</td><td>2007-09-01 00:00:00.000</td></tr>",
                            "<tr><td>493</td><td>6th Floor 5250 Main Street</td><td>NULL</td><td>Winnipeg</td><td>Manitoba</td><td>Canada</td><td>R3</td><td>ac0e73d8-ff0a-42bd-8502-e19ebac7343f</td><td>2007-09-01 00:00:00.000</td></tr>",
                            "<tr><td>494</td><td>Box 99354 300 Union Street</td><td>NULL</td><td>Saint John</td><td>Brunswick</td><td>Canada</td><td>E2P 1E3</td><td>21ff77a8-39dc-44d8-917c-fdd645dbf9eb</td><td>2006-07-01 00:00:00.000</td></tr>",
                            "<tr><td>495</td><td>Suite 800 2530 Slater Street</td><td>NULL</td><td>Ottawa</td><td>Ontario</td><td>Canada</td><td>K4B 1T7</td><td>c6633ad5-006d-4967-b97e-7919dd48a700</td><td>2006-09-01 00:00:00.000</td></tr>",
                            "<tr><td>496</td><td>Suite 500 995 W. 11th Avenue</td><td>NULL</td><td>Mississauga</td><td>Ontario</td><td>Canada</td><td>L5A 1H6</td><td>496c1ad3-2925-4322-8811-890ab6107f67</td><td>2007-08-01 00:00:00.000</td></tr>",
                            "<tr><td>497</td><td>#9900 2700 Production Way</td><td>NULL</td><td>Burnaby</td><td>British Columbia</td><td>Canada</td><td>V5A 4X1</td><td>aa651b28-0a51-4084-8444-a70cc71bce65</td><td>2005-08-01 00:00:00.000</td></tr>",
                            "<tr><td>498</td><td>25537 Hillside Avenue</td><td>NULL</td><td>Victoria</td><td>British Columbia</td><td>Canada</td><td>V8V</td><td>385c24e0-e20c-40c9-bac9-95d70d5b6900</td><td>2005-08-01 00:00:00.000</td></tr>",
                            "<tr><td>499</td><td>Suite 2502 410 Albert Street</td><td>NULL</td><td>Waterloo</td><td>Ontario</td><td>Canada</td><td>N2V</td><td>44099b0e-03f3-447c-83bf-be4baa010a83</td><td>2006-08-01 00:00:00.000</td></tr>",
                            "<tr><td>500</td><td>5700 Explorer Drive</td><td>NULL</td><td>Mississauga</td><td>Ontario</td><td>Canada</td><td>L4W 5J3</td><td>f6fed7fa-39d9-4a60-a1f5-1622489e55fd</td><td>2005-08-01 00:00:00.000</td></tr>",
                            "<tr><td>501</td><td>965 De La Gauchetiere West</td><td>NULL</td><td>Montreal</td><td>Quebec</td><td>Canada</td><td>H1Y 2H8</td><td>acb9c033-18c6-4f02-975e-9c5226b96b72</td><td>2005-08-01 00:00:00.000</td></tr>",
                            "<tr><td>502</td><td>No. 25400 10665 Jasper Avenue</td><td>NULL</td><td>Edmonton</td><td>Alberta</td><td>Canada</td><td>T5</td><td>51180ca2-6614-46a5-b89c-ef7b0421c847</td><td>2006-08-01 00:00:00.000</td></tr>",
                            "<tr><td>503</td><td>P.O. Box 44000</td><td>NULL</td><td>Winnipeg</td><td>Manitoba</td><td>Canada</td><td>R3</td><td>c4f3e274-13e1-4a99-8fd3-2c7d3d1ee5a1</td><td>2005-08-01 00:00:00.000</td></tr>",
                            "<tr><td>504</td><td>Suite 99320 255 - 510th Avenue S.W.</td><td>NULL</td><td>Calgary</td><td>Alberta</td><td>Canada</td><td>T2P 2G8</td><td>cff7437f-6830-4797-875b-d9a54ea38975</td><td>2005-08-01 00:00:00.000</td></tr>",
                            "<tr><td>505</td><td>6400, 888 - 3rd Avenue</td><td>NULL</td><td>Calgary</td><td>Alberta</td><td>Canada</td><td>T2P 2G8</td><td>a6eff2b6-3b11-47ef-ab7e-701e5041c71c</td><td>2005-08-01 00:00:00.000</td></tr>",
                            "<tr><td>506</td><td>255117 - 101 Avenue</td><td>NULL</td><td>Surrey</td><td>British Columbia</td><td>Canada</td><td>V3T 4W3</td><td>22895b47-6086-4550-b437-a75dbedfe1d9</td><td>2005-08-01 00:00:00.000</td></tr>",
                            "<tr><td>507</td><td>975 Princess Street</td><td>NULL</td><td>Kingston</td><td>Ontario</td><td>Canada</td><td>7L</td><td>d7849f5f-c042-4fce-8f6b-ba5cd8708e10</td><td>2007-09-01 00:00:00.000</td></tr>",
                            "<tr><td>508</td><td>2900 - 25055 Dunning Street</td><td>NULL</td><td>Vancouver</td><td>British Columbia</td><td>Canada</td><td>V7L 4J4</td><td>4ee0334f-027c-4036-880f-6e9104e21533</td><td>2006-12-01 00:00:00.000</td></tr>",
                            "<tr><td>509</td><td>Suite 25800 3401 - 10810th Avenue</td><td>NULL</td><td>Surrey</td><td>British Columbia</td><td>Canada</td><td>V3T 4W3</td><td>28c52717-7117-41b6-a5c7-fda60d566163</td><td>2005-08-01 00:00:00.000</td></tr>",
                            "<tr><td>510</td><td>750 Philip Street</td><td>NULL</td><td>Waterloo</td><td>Ontario</td><td>Canada</td><td>N2V</td><td>f2b96299-187a-4e52-96de-fe9d1c8ab33f</td><td>2005-11-01 00:00:00.000</td></tr>",
                            "<tr><td>511</td><td>Bureau 9900 825, Avenue Querbes</td><td>NULL</td><td>Outremont</td><td>Quebec</td><td>Canada</td><td>H1Y 2G5</td><td>ef10cf20-a540-4d5c-befd-1b48b7d48402</td><td>2006-12-01 00:00:00.000</td></tr>",
                            "<tr><td>512</td><td>700 Bureau Road</td><td>NULL</td><td>Montreal</td><td>Quebec</td><td>Canada</td><td>H1Y 2H7</td><td>963f514b-7752-46e8-9742-1fd40a68ea33</td><td>2007-09-01 00:00:00.000</td></tr>",
                            "<tr><td>513</td><td>253711 Mayfield Place, Unit 150</td><td>NULL</td><td>Richmond</td><td>British Columbia</td><td>Canada</td><td>V6B 3P7</td><td>c418c2f4-6b32-4404-aab1-e0bec3958c11</td><td>2007-09-01 00:00:00.000</td></tr>",
                            "<tr><td>514</td><td>63 West Beaver Creek</td><td>NULL</td><td>Richmond Hill</td><td>Ontario</td><td>Canada</td><td>L4E 3M5</td><td>ad60dba9-3b01-47e9-bb5e-df94d0579f14</td><td>2006-09-01 00:00:00.000</td></tr>",
                            "<tr><td>515</td><td>9900 Ronson Drive</td><td>NULL</td><td>Etobicoke</td><td>Ontario</td><td>Canada</td><td>M9W 3P3</td><td>42242712-6dd2-423f-9b89-c953454e3b09</td><td>2006-07-01 00:00:00.000</td></tr>",
                            "<tr><td>516</td><td>251 Indell Lane</td><td>NULL</td><td>Brampton</td><td>Ontario</td><td>Canada</td><td>L6W 2T7</td><td>a1f36994-b5b3-4646-87ea-692a513395ea</td><td>2006-08-01 00:00:00.000</td></tr>",
                            "<tr><td>517</td><td>2573 Dufferin Street</td><td>NULL</td><td>Toronto</td><td>Ontario</td><td>Canada</td><td>M4B 1V5</td><td>97605c5c-8309-44f2-9a98-c5a5709497ff</td><td>2005-07-01 00:00:00.000</td></tr>",
                            "<tr><td>518</td><td>995 Crescent</td><td>NULL</td><td>Richmond Hill</td><td>Ontario</td><td>Canada</td><td>L4E 3M5</td><td>0b49022d-8b49-4cf6-b0a3-46231cd48441</td><td>2007-09-01 00:00:00.000</td></tr>",
                            "<tr><td>519</td><td>2500-622 5th Ave Sw</td><td>NULL</td><td>Calgary</td><td>Alberta</td><td>Canada</td><td>T2P 2G8</td><td>13754965-6a09-4343-968c-8699c27fdfaa</td><td>2006-08-01 00:00:00.000</td></tr>",
                            "<tr><td>520</td><td>6700 Boul Taschereau</td><td>NULL</td><td>Brossard</td><td>Quebec</td><td>Canada</td><td>J4Z 1C5</td><td>b730eaff-5828-4c8c-86c1-9137f50fca48</td><td>2005-09-01 00:00:00.000</td></tr>",
                            "<tr><td>521</td><td>55 Standish Court</td><td>NULL</td><td>Mississauga</td><td>Ontario</td><td>Canada</td><td>L5B 3V4</td><td>97c329e2-fa67-4478-aa7b-78a8deecf7ca</td><td>2006-09-01 00:00:00.000</td></tr>",
                            "<tr><td>522</td><td>43251 Viking Way, Unit 130</td><td>NULL</td><td>Richmond</td><td>British Columbia</td><td>Canada</td><td>V6B 3P7</td><td>842bcbe5-9da5-42d5-a4bb-4197db5b69c7</td><td>2007-02-01 00:00:00.000</td></tr>",
                            "<tr><td>523</td><td>46990 Viking Way</td><td>NULL</td><td>Richmond</td><td>British Columbia</td><td>Canada</td><td>V6B 3P7</td><td>85c88cd6-682c-4358-9f8c-5a24f4ccfd98</td><td>2005-08-01 00:00:00.000</td></tr>",
                            "<tr><td>524</td><td>9693 Louis H Lafontaine</td><td>NULL</td><td>Ville De'anjou</td><td>Quebec</td><td>Canada</td><td>J1G 2R3</td><td>acc21bd9-fb1b-4764-941b-2fb98aa4eb27</td><td>2006-08-01 00:00:00.000</td></tr>",
                            "<tr><td>525</td><td>69251 Creditview Road</td><td>NULL</td><td>Mississauga</td><td>Ontario</td><td>Canada</td><td>L5B 3V4</td><td>2ca11975-213a-46fb-a0be-2529003074cc</td><td>2005-07-01 00:00:00.000</td></tr>",
                            "<tr><td>526</td><td>251420a 170th Street</td><td>NULL</td><td>Edmonton</td><td>Alberta</td><td>Canada</td><td>T5</td><td>476d80ae-69a0-480d-9df3-8fd0c1095a21</td><td>2006-07-01 00:00:00.000</td></tr>",
                            "<tr><td>527</td><td>252851 Rowan Place</td><td>NULL</td><td>Richmond</td><td>British Columbia</td><td>Canada</td><td>V6B 3P7</td><td>11eaee50-8a14-4b81-951e-86701b6f60c0</td><td>2006-09-01 00:00:00.000</td></tr>",
                            "<tr><td>528</td><td>5990 Avebury Road</td><td>NULL</td><td>Mississauga</td><td>Ontario</td><td>Canada</td><td>L5B 3V4</td><td>d9928ccc-fc35-435a-8a0f-6887813e0e06</td><td>2005-09-01 00:00:00.000</td></tr>",
                            "<tr><td>529</td><td>254480 River Rd</td><td>NULL</td><td>Richmond</td><td>British Columbia</td><td>Canada</td><td>V6B 3P7</td><td>034076fd-cd0e-4ead-864e-8ce7f47d6612</td><td>2005-07-01 00:00:00.000</td></tr>",
                            "<tr><td>530</td><td>Suite #9902</td><td>NULL</td><td>North York</td><td>Ontario</td><td>Canada</td><td>M4C 4K6</td><td>fe36e0c8-ad8a-4d2c-bc53-5d69be5a9ce7</td><td>2005-07-01 00:00:00.000</td></tr>",
                            "<tr><td>531</td><td>5th Floor, 79 Place D'armes</td><td>NULL</td><td>Kingston</td><td>Ontario</td><td>Canada</td><td>7L</td><td>f6fb5f79-c5fa-4a7c-8d75-6e9243360308</td><td>2006-11-01 00:00:00.000</td></tr>",
                            "<tr><td>532</td><td>#500-75 O'Connor Street</td><td>NULL</td><td>Ottawa</td><td>Ontario</td><td>Canada</td><td>K4B 1S2</td><td>1b58b9bc-a691-4927-bf17-569e4be822f3</td><td>2005-12-01 00:00:00.000</td></tr>",
                            "<tr><td>533</td><td>4400 March Road</td><td>NULL</td><td>Kanata</td><td>Ontario</td><td>Canada</td><td>K2L 1H5</td><td>43484cd9-ad5b-41f4-a9cc-ddfbac4b5aa5</td><td>2005-11-01 00:00:00.000</td></tr>",
                            "<tr><td>534</td><td>Depot 80</td><td>NULL</td><td>Sillery</td><td>Quebec</td><td>Canada</td><td>G1T</td><td>3178440d-5c3a-48f2-af6b-0a607774e265</td><td>2005-08-01 00:00:00.000</td></tr>",
                            "<tr><td>535</td><td>250 Kingsbridge Garden Circle</td><td>NULL</td><td>Mississauga</td><td>Ontario</td><td>Canada</td><td>L5B 3V4</td><td>9771494e-9053-40f2-84a5-e0d108deefed</td><td>2005-11-01 00:00:00.000</td></tr>",
                            "<tr><td>536</td><td>No. 2000-25080 Beaver Hall Hill</td><td>NULL</td><td>Quebec</td><td>Quebec</td><td>Canada</td><td>G1R</td><td>0c38c439-4562-4e37-8f23-aff2c9005c38</td><td>2006-09-01 00:00:00.000</td></tr>",
                            "<tr><td>537</td><td>No. 25800-130 King Street West</td><td>NULL</td><td>Toronto</td><td>Ontario</td><td>Canada</td><td>M4B 1V5</td><td>c2bcdaec-366c-489c-bf43-8cc2881179f3</td><td>2005-09-01 00:00:00.000</td></tr>",
                            "<tr><td>538</td><td>25 Danger Street West</td><td>Floor 7</td><td>Toronto</td><td>Ontario</td><td>Canada</td><td>M4B 1V5</td><td>10b2404c-f0af-409c-af5d-0218beb03d0d</td><td>2007-08-01 00:00:00.000</td></tr>",
                            "<tr><td>539</td><td>6th Floor, 25st Canadian Place</td><td>NULL</td><td>Toronto</td><td>Ontario</td><td>Canada</td><td>M4B 1V5</td><td>d51784c0-cc77-48c2-8fa6-75405f3e35b9</td><td>2005-08-01 00:00:00.000</td></tr>",
                            "<tr><td>540</td><td>254 Colonnade Road</td><td>NULL</td><td>Nepean</td><td>Ontario</td><td>Canada</td><td>K2J 2W5</td><td>1c97f465-f2af-4d34-be8c-7afdad119425</td><td>2005-08-01 00:00:00.000</td></tr>",
                            "<tr><td>541</td><td>25981 College Street</td><td>NULL</td><td>Montreal</td><td>Quebec</td><td>Canada</td><td>H1Y 2H5</td><td>af56d631-eb1c-4716-a89b-88bc4ae04b93</td><td>2006-08-01 00:00:00.000</td></tr>",
                            "<tr><td>542</td><td>5 place Ville-Marie</td><td>NULL</td><td>Montreal</td><td>Quebec</td><td>Canada</td><td>H1Y 2H7</td><td>b242b256-254b-4624-b3af-bf0058bb0b7b</td><td>2006-09-01 00:00:00.000</td></tr>",
                            "<tr><td>543</td><td>6030 Conroy Road</td><td>NULL</td><td>Ottawa</td><td>Ontario</td><td>Canada</td><td>K4B 1S3</td><td>aa8f3ecb-c454-448b-b774-ff9cdf01e629</td><td>2006-09-01 00:00:00.000</td></tr>",
                            "<tr><td>544</td><td>30025 Wayburne Drive, Suite 275</td><td>NULL</td><td>Burnaby</td><td>British Columbia</td><td>Canada</td><td>V5G 4W1</td><td>4c65a591-c6b0-43d8-8faf-f4b1cb9953e1</td><td>2005-09-01 00:00:00.000</td></tr>",
                            "<tr><td>545</td><td>999 West Georgia St.</td><td>NULL</td><td>Vancouver</td><td>Ontario</td><td>Canada</td><td>V5T 1Y9</td><td>9d35f3c2-966e-4b3b-8d29-0e6ab8def01b</td><td>2006-09-01 00:00:00.000</td></tr>",
                            "<tr><td>546</td><td>250333 Southport Road, S.W.</td><td>NULL</td><td>Calgary</td><td>Alberta</td><td>Canada</td><td>T2P 2G8</td><td>11d29e3f-d9b2-4e24-ac01-eeba72da4ddf</td><td>2007-08-01 00:00:00.000</td></tr>",
                            "<tr><td>547</td><td>7000 Victoria Park Avenue</td><td>NULL</td><td>Toronto</td><td>Ontario</td><td>Canada</td><td>M4B 1V4</td><td>28125ec3-fdc2-45d8-93b3-cd7db2113424</td><td>2007-09-01 00:00:00.000</td></tr>",
                            "<tr><td>548</td><td>63 Free St.</td><td>NULL</td><td>Toronto</td><td>Ontario</td><td>Canada</td><td>M4B 1V4</td><td>5649c5d8-1798-4622-95bf-dc7e581284a0</td><td>2005-09-01 00:00:00.000</td></tr>",
                            "<tr><td>549</td><td>609 Evans Avenue</td><td>NULL</td><td>Toronto</td><td>Ontario</td><td>Canada</td><td>M4B 1V4</td><td>dcf9c9b5-a7b6-4383-9480-1f84130b5f8b</td><td>2006-09-01 00:00:00.000</td></tr>",
                            "<tr><td>550</td><td>2520 Flanders Road</td><td>NULL</td><td>Toronto</td><td>Ontario</td><td>Canada</td><td>M4B 1V4</td><td>a1d478e6-76da-445f-a924-0b5dee3c7cbb</td><td>2006-08-01 00:00:00.000</td></tr>",
                            "<tr><td>551</td><td>32605 West 252 Mile Road, Suite 250</td><td>NULL</td><td>Aurora</td><td>Ontario</td><td>Canada</td><td>L4G 7N6</td><td>e7567a62-3acf-4f0b-b202-e28b92de689a</td><td>2006-09-01 00:00:00.000</td></tr>",
                            "<tr><td>552</td><td>25730, boul. St-Régis</td><td>NULL</td><td>Dorval</td><td>Quebec</td><td>Canada</td><td>H9P 1H1</td><td>6832a3bd-56ec-42fe-8b4c-6bfd09f89eb4</td><td>2008-06-01 00:00:00.000</td></tr>",
                            "<tr><td>553</td><td>253131 Lake Frasier Drive, Office No. 2</td><td>NULL</td><td>Calgary</td><td>Alberta</td><td>Canada</td><td>T2P 2G8</td><td>ef7b5bd3-3a04-4a09-a0d2-02b98e3333dc</td><td>2005-08-01 00:00:00.000</td></tr>",
                            "<tr><td>554</td><td>9984 Wellington Street</td><td>NULL</td><td>Ottawa</td><td>Ontario</td><td>Canada</td><td>K4B 1S2</td><td>6e0797c9-fd43-418f-a5fe-8683292b95fe</td><td>2006-08-01 00:00:00.000</td></tr>",
                            "<tr><td>555</td><td>9950 Ferrand Drive, 9th Floor</td><td>NULL</td><td>Toronto</td><td>Ontario</td><td>Canada</td><td>M4B 1V4</td><td>32890831-931e-44ad-801b-41b1ad862eca</td><td>2005-09-01 00:00:00.000</td></tr>",
                            "<tr><td>556</td><td>990th Floor 700 De La GauchetiSre Ou</td><td>NULL</td><td>Montreal</td><td>Quebec</td><td>Canada</td><td>H1Y 2H3</td><td>87846d7c-ab01-41c6-a4cc-fad06d74d11b</td><td>2005-07-01 00:00:00.000</td></tr>",
                            "<tr><td>557</td><td>660 Saint-Jacques, Bureau 400</td><td>NULL</td><td>Montreal</td><td>Quebec</td><td>Canada</td><td>H1Y 2H8</td><td>dce88c1f-8bfe-4306-ba02-50446466c5e5</td><td>2006-09-01 00:00:00.000</td></tr>",
                            "<tr><td>558</td><td>67255 - 8th Street N.E., Suite 350</td><td>NULL</td><td>Calgary</td><td>Alberta</td><td>Canada</td><td>T2P 2G8</td><td>da596abb-b3af-48ec-a082-9e94cd870a5f</td><td>2006-12-01 00:00:00.000</td></tr>",
                            "<tr><td>559</td><td>12345 Sterling Avenue</td><td>NULL</td><td>Irving</td><td>Texas</td><td>United States</td><td>75061</td><td>0d39391c-a319-486b-ac9e-5863795d6675</td><td>2005-09-01 00:00:00.000</td></tr>",
                            "<tr><td>560</td><td>800 Interchange Blvd.</td><td>Suite 2501</td><td>Austin</td><td>Texas</td><td>United States</td><td>78701</td><td>5790365c-da3c-43bc-93d3-99104c038b71</td><td>2006-07-01 00:00:00.000</td></tr>",
                            "<tr><td>561</td><td>90025 Sterling St</td><td>NULL</td><td>Irving</td><td>Texas</td><td>United States</td><td>75061</td><td>c1ca3287-f642-44da-bba1-8ab47e1907dd</td><td>2006-09-01 00:00:00.000</td></tr>",
                            "<tr><td>562</td><td>2505 Gateway Drive</td><td>NULL</td><td>North Sioux City</td><td>South Dakota</td><td>United States</td><td>57049</td><td>57a5e455-526c-402a-bc5d-ee613bf58372</td><td>2005-08-01 00:00:00.000</td></tr>",
                            "<tr><td>563</td><td>74400 France Avenue South</td><td>NULL</td><td>Edina</td><td>Minnesota</td><td>United States</td><td>55436</td><td>a1841d05-cabd-4453-96e4-9b1e95ca2bc2</td><td>2006-09-01 00:00:00.000</td></tr>",
                            "<tr><td>564</td><td>509 Nafta Boulevard</td><td>NULL</td><td>Laredo</td><td>Texas</td><td>United States</td><td>78040</td><td>f9a8a87a-152f-4204-b5d2-dbcb8da1c13b</td><td>2005-08-01 00:00:00.000</td></tr>",
                            "<tr><td>565</td><td>25149 Howard Dr</td><td>NULL</td><td>West Chicago</td><td>Illinois</td><td>United States</td><td>60185</td><td>f4915606-499d-477d-8309-e8f92e9d8fe3</td><td>2005-09-01 00:00:00.000</td></tr>",
                            "<tr><td>566</td><td>63 W Monroe</td><td>NULL</td><td>Chicago</td><td>Illinois</td><td>United States</td><td>60610</td><td>61113716-53e4-4faa-a5a2-247b03f0f9c6</td><td>2005-11-01 00:00:00.000</td></tr>",
                            "<tr><td>567</td><td>Corporate Office</td><td>NULL</td><td>Garland</td><td>Texas</td><td>United States</td><td>75040</td><td>10cc0938-b0af-42e0-9176-564321c68787</td><td>2005-09-01 00:00:00.000</td></tr>",
                            "<tr><td>568</td><td>25269 N. Wood Dale Rd</td><td>NULL</td><td>Wood Dale</td><td>Illinois</td><td>United States</td><td>60191</td><td>e863927d-49fb-47ab-9ca6-a5f36d082b66</td><td>2005-09-01 00:00:00.000</td></tr>",
                            "<tr><td>569</td><td>Sapp Road West</td><td>NULL</td><td>Round Rock</td><td>Texas</td><td>United States</td><td>78664</td><td>b7ea2783-866e-4ad9-945c-914b674ad2cd</td><td>2005-09-01 00:00:00.000</td></tr>",
                            "<tr><td>570</td><td>52500 Liberty Way</td><td>NULL</td><td>Fort Worth</td><td>Texas</td><td>United States</td><td>76102</td><td>f5a1147f-761f-4577-bb48-bbef73b4a27f</td><td>2006-07-01 00:00:00.000</td></tr>",
                            "<tr><td>571</td><td>25550 Executive Dr</td><td>NULL</td><td>Elgin</td><td>Illinois</td><td>United States</td><td>60120</td><td>8caf52b2-d3e2-4a5f-a704-874768007f38</td><td>2005-12-01 00:00:00.000</td></tr>",
                            "<tr><td>572</td><td>P.O. Box 6256916</td><td>NULL</td><td>Dallas</td><td>Texas</td><td>United States</td><td>75201</td><td>206e0ff7-e120-4845-acb4-a4443ebf6429</td><td>2007-09-01 00:00:00.000</td></tr>",
                            "<tr><td>573</td><td>25269 Wood Dale Rd.</td><td>NULL</td><td>Wood Dale</td><td>Illinois</td><td>United States</td><td>60191</td><td>e4c1153e-6c1a-45df-addb-80fac429fa3f</td><td>2005-11-01 00:00:00.000</td></tr>",
                            "<tr><td>574</td><td>Po Box 8259024</td><td>NULL</td><td>Dallas</td><td>Texas</td><td>United States</td><td>75201</td><td>9794b438-2e91-4699-85df-5fcf98210ac1</td><td>2006-09-01 00:00:00.000</td></tr>",
                            "<tr><td>575</td><td>42500 W 76th St</td><td>NULL</td><td>Chicago</td><td>Illinois</td><td>United States</td><td>60610</td><td>cd335652-0913-40ea-9ae0-323066fc04f0</td><td>2006-09-01 00:00:00.000</td></tr>",
                            "<tr><td>576</td><td>4255 East Lies Road</td><td>NULL</td><td>Carol Stream</td><td>Illinois</td><td>United States</td><td>60188</td><td>c1a9793e-50b5-431c-82dd-8b36acc9ac4e</td><td>2005-11-01 00:00:00.000</td></tr>",
                            "<tr><td>577</td><td>2500 North Stemmons Freeway</td><td>NULL</td><td>Dallas</td><td>Texas</td><td>United States</td><td>75201</td><td>c91ed16c-4407-4eed-a241-c8327e5e50c2</td><td>2006-09-01 00:00:00.000</td></tr>",
                            "<tr><td>578</td><td>220 Mercy Drive</td><td>NULL</td><td>Garland</td><td>Texas</td><td>United States</td><td>75040</td><td>791e9c8d-6c3a-4cfd-9f0a-c4a99424c268</td><td>2005-07-01 00:00:00.000</td></tr>",
                            "<tr><td>579</td><td>25 N State St</td><td>NULL</td><td>Chicago</td><td>Illinois</td><td>United States</td><td>60610</td><td>02d95901-41c1-4479-a04f-9ffb5a2675e3</td><td>2006-07-01 00:00:00.000</td></tr>",
                            "<tr><td>580</td><td>2509 W. Frankford</td><td>NULL</td><td>Carrollton</td><td>Texas</td><td>United States</td><td>75006</td><td>a0dbc338-cf0e-4962-9fbf-63220aeca66e</td><td>2006-07-01 00:00:00.000</td></tr>",
                            "<tr><td>581</td><td>Po Box 8035996</td><td>NULL</td><td>Dallas</td><td>Texas</td><td>United States</td><td>75201</td><td>cc8321ba-c938-4765-8175-9126d432957f</td><td>2007-09-01 00:00:00.000</td></tr>",
                            "<tr><td>582</td><td>5700 Legacy Dr</td><td>NULL</td><td>Plano</td><td>Texas</td><td>United States</td><td>75074</td><td>08ebf5a9-2171-433e-85b8-56fff949d041</td><td>2007-09-01 00:00:00.000</td></tr>",
                            "<tr><td>583</td><td>625 W Jackson Blvd. Unit 2502</td><td>NULL</td><td>Chicago</td><td>Illinois</td><td>United States</td><td>60610</td><td>a35c7ac7-5ae8-43d9-92e7-180d78a9a7b8</td><td>2007-03-01 00:00:00.000</td></tr>",
                            "<tr><td>584</td><td>250880 Baur Blvd</td><td>NULL</td><td>Saint Louis</td><td>Missouri</td><td>United States</td><td>63103</td><td>ed1ee7da-5087-4e7a-b019-7782742bc451</td><td>2007-07-01 00:00:00.000</td></tr>",
                            "<tr><td>585</td><td>Noah Lane</td><td>NULL</td><td>Chicago</td><td>Illinois</td><td>United States</td><td>60610</td><td>e9408fbb-1c28-4923-9d85-2dfadb3b4b6b</td><td>2006-08-01 00:00:00.000</td></tr>",
                            "<tr><td>586</td><td>6030 Robinson Road</td><td>NULL</td><td>Jefferson City</td><td>Missouri</td><td>United States</td><td>65101</td><td>35b2fb0c-60ea-48f2-814a-f6813242858e</td><td>2005-09-01 00:00:00.000</td></tr>",
                            "<tr><td>587</td><td>25500 Old Spanish Trail</td><td>NULL</td><td>Houston</td><td>Texas</td><td>United States</td><td>77003</td><td>9a71e3c4-caea-4c5c-a146-5b85a513d82f</td><td>2005-08-01 00:00:00.000</td></tr>",
                            "<tr><td>588</td><td>99828 Routh Street, Suite 825</td><td>NULL</td><td>Dallas</td><td>Texas</td><td>United States</td><td>75201</td><td>180f5a76-930d-4b70-9d70-7aa3e49bb71e</td><td>2005-08-01 00:00:00.000</td></tr>",
                            "<tr><td>589</td><td>One Dancing, Rr No. 25</td><td>Box 8033</td><td>Round Rock</td><td>Texas</td><td>United States</td><td>78664</td><td>a514f151-6b2d-452c-a983-d68aed9e112e</td><td>2005-09-01 00:00:00.000</td></tr>",
                            "<tr><td>590</td><td>9995 West Central Entrance</td><td>NULL</td><td>Duluth</td><td>Minnesota</td><td>United States</td><td>55802</td><td>86553e06-3bf8-4c21-8e40-ae95309c4b3e</td><td>2006-07-01 00:00:00.000</td></tr>",
                            "<tr><td>591</td><td>48255 I-10 E. @ Eastpoint Blvd.</td><td>NULL</td><td>Baytown</td><td>Texas</td><td>United States</td><td>77520</td><td>8d604ca1-2f01-46c1-9041-39915144b446</td><td>2006-09-01 00:00:00.000</td></tr>",
                            "<tr><td>592</td><td>9903 Highway 6 South</td><td>NULL</td><td>Houston</td><td>Texas</td><td>United States</td><td>77003</td><td>ce585616-c47c-4bd4-8d71-1755b6417770</td><td>2005-07-01 00:00:00.000</td></tr>",
                            "<tr><td>593</td><td>2345 North Freeway</td><td>NULL</td><td>Houston</td><td>Texas</td><td>United States</td><td>77003</td><td>74e5959f-4c5f-4bda-abcf-429762e1670d</td><td>2005-08-01 00:00:00.000</td></tr>",
                            "<tr><td>594</td><td>123 W. Lake Ave.</td><td>NULL</td><td>Peoria</td><td>Illinois</td><td>United States</td><td>61606</td><td>c9f2b21e-3edb-4315-aa03-8adde7d8a598</td><td>2006-08-01 00:00:00.000</td></tr>",
                            "<tr><td>595</td><td>660 Lindbergh</td><td>NULL</td><td>Saint Louis</td><td>Missouri</td><td>United States</td><td>63103</td><td>012d17ba-c426-40c2-a9fd-85093e2ceb8a</td><td>2006-09-01 00:00:00.000</td></tr>",
                            "<tr><td>596</td><td>72540 Blanco Rd.</td><td>NULL</td><td>San Antonio</td><td>Texas</td><td>United States</td><td>78204</td><td>5ec50e4c-3026-4bd5-9a15-00776ad22eec</td><td>2005-08-01 00:00:00.000</td></tr>",
                            "<tr><td>597</td><td>99450 Highway 59 North</td><td>NULL</td><td>Humble</td><td>Texas</td><td>United States</td><td>77338</td><td>3bd8466e-2a52-4661-8460-50736409ee8a</td><td>2006-08-01 00:00:00.000</td></tr>",
                            "<tr><td>598</td><td>455 256th St.</td><td>NULL</td><td>Moline</td><td>Illinois</td><td>United States</td><td>61265</td><td>fbedd917-c269-4e36-a791-58b35f34b107</td><td>2005-08-01 00:00:00.000</td></tr>",
                            "<tr><td>599</td><td>70 N.W. Plaza</td><td>NULL</td><td>Saint Ann</td><td>Missouri</td><td>United States</td><td>63074</td><td>4735a716-33c4-4366-bcc0-410bceef3e2c</td><td>2007-08-01 00:00:00.000</td></tr>",
                            "<tr><td>600</td><td>25095 W. Florissant</td><td>NULL</td><td>Ferguson</td><td>Missouri</td><td>United States</td><td>63135</td><td>1a51283c-12bb-462e-a1b8-a0039c18e6d8</td><td>2005-08-01 00:00:00.000</td></tr>",
                            "<tr><td>601</td><td>6996 South Lindbergh</td><td>NULL</td><td>Saint Louis</td><td>Missouri</td><td>United States</td><td>63103</td><td>a8f4d544-a137-4775-b6c9-7c85a12a4ddc</td><td>2006-08-01 00:00:00.000</td></tr>",
                            "<tr><td>602</td><td>6425 Nw Loop 410</td><td>NULL</td><td>San Antonio</td><td>Texas</td><td>United States</td><td>78204</td><td>6241806c-c9cc-46aa-a91f-b663c7e0c8bb</td><td>2006-09-01 00:00:00.000</td></tr>",
                            "<tr><td>603</td><td>9500b E. Central Texas Expressway</td><td>NULL</td><td>Killeen</td><td>Texas</td><td>United States</td><td>76541</td><td>0e6e9e86-a637-4fd5-a945-ac342bfd715b</td><td>2007-08-01 00:00:00.000</td></tr>",
                            "<tr><td>604</td><td>1200 First Ave.</td><td>NULL</td><td>Joliet</td><td>Illinois</td><td>United States</td><td>60433</td><td>79972b72-7d84-4a33-ae27-44a5efaef39d</td><td>2007-09-01 00:00:00.000</td></tr>",
                            "<tr><td>605</td><td>7760 N. Pan Am Expwy</td><td>NULL</td><td>San Antonio</td><td>Texas</td><td>United States</td><td>78204</td><td>6c3da38c-887d-410c-b022-8f2bf2db3339</td><td>2005-09-01 00:00:00.000</td></tr>",
                            "<tr><td>606</td><td>99433 S. Greenbay Rd.</td><td>NULL</td><td>Racine</td><td>Wisconsin</td><td>United States</td><td>53182</td><td>48f98b9b-cf62-4a87-95e8-44da6aac6f97</td><td>2005-09-01 00:00:00.000</td></tr>",
                            "<tr><td>607</td><td>25220 Airline Road</td><td>NULL</td><td>Corpus Christi</td><td>Texas</td><td>United States</td><td>78404</td><td>6e7fe435-895a-4e65-913b-2ad21cf4ce6d</td><td>2006-08-01 00:00:00.000</td></tr>",
                            "<tr><td>608</td><td>25306 Harvey Rd.</td><td>NULL</td><td>College Station</td><td>Texas</td><td>United States</td><td>77840</td><td>49d7554e-852f-4d68-81b5-44c7a615f117</td><td>2006-08-01 00:00:00.000</td></tr>",
                            "<tr><td>609</td><td>3900 S. 997th St.</td><td>NULL</td><td>Milwaukee</td><td>Wisconsin</td><td>United States</td><td>53202</td><td>7394624a-5ca8-4adc-923c-235d971514b8</td><td>2005-09-01 00:00:00.000</td></tr>",
                            "<tr><td>610</td><td>44025 W. Empire</td><td>NULL</td><td>Denby</td><td>South Dakota</td><td>United States</td><td>57716</td><td>8afb400f-1fe5-460d-bc56-4a7bf801b41b</td><td>2007-09-01 00:00:00.000</td></tr>",
                            "<tr><td>611</td><td>23025 S.W. Military Rd.</td><td>NULL</td><td>San Antonio</td><td>Texas</td><td>United States</td><td>78204</td><td>76ed2669-d8a8-4468-943d-7319a9b18fe3</td><td>2005-08-01 00:00:00.000</td></tr>",
                            "<tr><td>612</td><td>Ring Plaza</td><td>NULL</td><td>Norridge</td><td>Illinois</td><td>United States</td><td>60706</td><td>60ab96a4-26f6-439c-9f32-238bd16b293f</td><td>2006-09-01 00:00:00.000</td></tr>",
                            "<tr><td>613</td><td>Lakeline Mall</td><td>NULL</td><td>Cedar Park</td><td>Texas</td><td>United States</td><td>78613</td><td>d26f02d6-326a-4088-b9ee-d441dfdfa1df</td><td>2006-09-01 00:00:00.000</td></tr>",
                            "<tr><td>614</td><td>Town East Center</td><td>NULL</td><td>Mesquite</td><td>Texas</td><td>United States</td><td>75149</td><td>7ba1af96-5a8e-4259-835c-da67db296a5e</td><td>2006-09-01 00:00:00.000</td></tr>",
                            "<tr><td>615</td><td>Fountains On The Lake</td><td>NULL</td><td>Stafford</td><td>Texas</td><td>United States</td><td>77477</td><td>bc2d6156-bcf7-47f7-a409-31122653f701</td><td>2005-07-01 00:00:00.000</td></tr>",
                            "<tr><td>616</td><td>Southwest Outlet</td><td>NULL</td><td>Hillsboro</td><td>Texas</td><td>United States</td><td>76645</td><td>47f987f7-44ff-4372-aaf5-4cc7b7f64216</td><td>2005-07-01 00:00:00.000</td></tr>",
                            "<tr><td>617</td><td>Johnson Creek</td><td>NULL</td><td>Johnson Creek</td><td>Wisconsin</td><td>United States</td><td>53038</td><td>aca53503-0920-446d-9c54-b83d7949d019</td><td>2007-06-01 00:00:00.000</td></tr>",
                            "<tr><td>618</td><td>Blue Ridge Mall</td><td>NULL</td><td>Kansas City</td><td>Missouri</td><td>United States</td><td>64106</td><td>8612fbad-3ce1-435b-be0b-5a48ddbd2b62</td><td>2006-12-01 00:00:00.000</td></tr>",
                            "<tr><td>619</td><td>First Colony Mall</td><td>NULL</td><td>Sugar Land</td><td>Texas</td><td>United States</td><td>77478</td><td>da205e92-2867-48a9-bf18-4558a31272ae</td><td>2005-12-01 00:00:00.000</td></tr>",
                            "<tr><td>620</td><td>Horizon Outlet</td><td>NULL</td><td>Woodbury</td><td>Minnesota</td><td>United States</td><td>55125</td><td>70080b27-59bd-4ba1-84d2-68204b304d70</td><td>2005-09-01 00:00:00.000</td></tr>",
                            "<tr><td>621</td><td>Tanger Factory</td><td>NULL</td><td>Branch</td><td>Minnesota</td><td>United States</td><td>55056</td><td>75d18db1-c9ef-4dad-bbd2-697ff73faf6c</td><td>2005-09-01 00:00:00.000</td></tr>",
                            "<tr><td>622</td><td>Management Mall</td><td>NULL</td><td>San Antonio</td><td>Texas</td><td>United States</td><td>78204</td><td>e82d1276-e19a-4fad-90f5-7e19af94ea64</td><td>2006-03-01 00:00:00.000</td></tr>",
                            "<tr><td>623</td><td>Ohms Road</td><td>NULL</td><td>Houston</td><td>Texas</td><td>United States</td><td>77003</td><td>d4688e5c-2d2d-4925-b58a-356c117728d8</td><td>2007-07-01 00:00:00.000</td></tr>",
                            "<tr><td>624</td><td>Factory Merchants</td><td>NULL</td><td>Branson</td><td>Missouri</td><td>United States</td><td>65616</td><td>dc707744-912b-4e7a-945a-1b959168dc94</td><td>2007-02-01 00:00:00.000</td></tr>",
                            "<tr><td>625</td><td>Cedar Creek Stores</td><td>NULL</td><td>Mosinee</td><td>Wisconsin</td><td>United States</td><td>54455</td><td>2e6e124e-bb43-4d40-8515-82dda7994bd4</td><td>2007-08-01 00:00:00.000</td></tr>",
                            "<tr><td>626</td><td>Lone Star Factory</td><td>NULL</td><td>La Marque</td><td>Texas</td><td>United States</td><td>77568</td><td>5f33b654-e091-4b2f-b5bd-ac5ac6d47ee6</td><td>2007-08-01 00:00:00.000</td></tr>",
                            "<tr><td>627</td><td>Sports Stores @ Tuscola</td><td>NULL</td><td>Tuscola</td><td>Illinois</td><td>United States</td><td>61953</td><td>808efdc0-ea1b-437d-88c0-a3b6a8864b7f</td><td>2006-07-01 00:00:00.000</td></tr>",
                            "<tr><td>628</td><td>City Center</td><td>NULL</td><td>Minneapolis</td><td>Minnesota</td><td>United States</td><td>55402</td><td>b80975d1-ab6e-42f1-b328-5db1d445e2c9</td><td>2005-08-01 00:00:00.000</td></tr>",
                            "<tr><td>629</td><td>St. Louis Marketplace</td><td>NULL</td><td>Saint Louis</td><td>Missouri</td><td>United States</td><td>63103</td><td>163fde0a-2148-44bc-9fc1-a7390650127c</td><td>2005-07-01 00:00:00.000</td></tr>",
                            "<tr><td>630</td><td>Lincoln Square</td><td>NULL</td><td>Arlington</td><td>Texas</td><td>United States</td><td>76010</td><td>734de48f-7f95-4386-986e-f8ab86c194a0</td><td>2005-09-01 00:00:00.000</td></tr>",
                            "<tr><td>631</td><td>Kansas City Factory Outlet</td><td>NULL</td><td>Odessa</td><td>Missouri</td><td>United States</td><td>64076</td><td>bcd46b97-395d-4eef-a712-245ba629621f</td><td>2005-07-01 00:00:00.000</td></tr>",
                            "<tr><td>632</td><td>Fiesta Trail Shopping Center</td><td>NULL</td><td>San Antonio</td><td>Texas</td><td>United States</td><td>78204</td><td>f79532d7-38e9-42ec-8ea4-c9d7e1c13c12</td><td>2005-07-01 00:00:00.000</td></tr>",
                            "<tr><td>633</td><td>Medford Outlet Center</td><td>NULL</td><td>Medford</td><td>Minnesota</td><td>United States</td><td>55049</td><td>7cda3069-3b49-4205-b853-40744d7d875f</td><td>2006-08-01 00:00:00.000</td></tr>",
                            "<tr><td>634</td><td>Ward Parkway Center</td><td>NULL</td><td>Kansas City</td><td>Missouri</td><td>United States</td><td>64106</td><td>3f2aa425-7d02-461a-a9c4-222ae41e3fe5</td><td>2006-09-01 00:00:00.000</td></tr>",
                            "<tr><td>635</td><td>93-2501, Blackfriars Road,</td><td>NULL</td><td>London</td><td>England</td><td>United Kingdom</td><td>SE1 8HL</td><td>00e75f99-488c-462d-a0bc-ac3c08a9db77</td><td>2006-09-01 00:00:00.000</td></tr>",
                            "<tr><td>636</td><td>Science Park South, Birchwood</td><td>Stanford House</td><td>Warrington</td><td>England</td><td>United Kingdom</td><td>WA3 7BH</td><td>c0fc2d5b-88e7-4b60-8447-bb3522bd79e5</td><td>2007-07-01 00:00:00.000</td></tr>",
                            "<tr><td>637</td><td>Phoenix Way, Cirencester</td><td>NULL</td><td>Gloucestershire</td><td>England</td><td>United Kingdom</td><td>GL7 1RY</td><td>10a3d496-881e-4042-bbd0-5802cf73a872</td><td>2007-09-01 00:00:00.000</td></tr>",
                            "<tr><td>638</td><td>255 Irving Street</td><td>NULL</td><td>London</td><td>England</td><td>United Kingdom</td><td>C2H 7AU</td><td>d8a77424-94ae-43ab-a011-1a9ebb3852e7</td><td>2007-08-01 00:00:00.000</td></tr>",
                            "<tr><td>639</td><td>Garamonde Drive, Wymbush</td><td>PO Box 4023</td><td>Milton Keynes</td><td>England</td><td>United Kingdom</td><td>MK8 8ZD</td><td>8f34cedd-fb6e-4814-b509-9965a31bc2e5</td><td>2007-09-01 00:00:00.000</td></tr>",
                            "<tr><td>640</td><td>251 The Metro Center</td><td>NULL</td><td>Wokingham</td><td>England</td><td>United Kingdom</td><td>RG41 1QW</td><td>0e4ac5bb-be0d-4a96-a58e-064daec08e1a</td><td>2007-09-01 00:00:00.000</td></tr>",
                            "<tr><td>641</td><td>Bradford</td><td>NULL</td><td>W. York</td><td>England</td><td>United Kingdom</td><td>BD1 4SJ</td><td>f7b99541-1ce1-4ab6-ae0d-548e8ff4abcd</td><td>2006-08-01 00:00:00.000</td></tr>",
                            "<tr><td>642</td><td>Galashiels</td><td>NULL</td><td>Liverpool</td><td>England</td><td>United Kingdom</td><td>L4 4HB</td><td>3593cdf3-38ec-4847-ad42-157220e68f32</td><td>2007-09-01 00:00:00.000</td></tr>",
                            "<tr><td>643</td><td>Banbury</td><td>NULL</td><td>Oxon</td><td>England</td><td>United Kingdom</td><td>OX16 8RS</td><td>99ff4c64-b405-4ac1-85ed-49e4e60ef87f</td><td>2006-09-01 00:00:00.000</td></tr>",
                            "<tr><td>644</td><td>Bradford</td><td>Raven House, Kingsgate</td><td>W. York</td><td>England</td><td>United Kingdom</td><td>BD1 4SJ</td><td>65684e2e-d39c-4ef7-80d8-86c2f576c3c2</td><td>2007-08-01 00:00:00.000</td></tr>",
                            "<tr><td>645</td><td>Garamonde Drive, Wymbush</td><td>P.O. Box 803</td><td>Milton Keynes</td><td>England</td><td>United Kingdom</td><td>MK8 8ZD</td><td>6ef999e7-5510-4b02-b89e-ddcf51ae3864</td><td>2007-07-01 00:00:00.000</td></tr>",
                            "<tr><td>646</td><td>Butterfield Hse, 7-251 Chapel St</td><td>NULL</td><td>Lancaster</td><td>England</td><td>United Kingdom</td><td>LA1 1LN</td><td>bce1f4b3-a9c0-413e-ac8d-4c07a960e26c</td><td>2006-08-01 00:00:00.000</td></tr>",
                            "<tr><td>647</td><td>Wade Road</td><td>NULL</td><td>Basingstoke Hants</td><td>England</td><td>United Kingdom</td><td>RG24 8PL</td><td>578c2529-f11c-4bf3-8084-6b505461e1cc</td><td>2007-07-01 00:00:00.000</td></tr>",
                            "<tr><td>648</td><td>586 Fulham Road,</td><td>NULL</td><td>London</td><td>England</td><td>United Kingdom</td><td>SW6 SBY</td><td>0da65673-2a35-4e6a-a607-a6cc2d134ea8</td><td>2007-08-01 00:00:00.000</td></tr>",
                            "<tr><td>649</td><td>Knaves Beech Ind.</td><td>NULL</td><td>High Wycombe</td><td>England</td><td>United Kingdom</td><td>HP10 9QY</td><td>11fcff74-5c80-4b37-a842-45c765d96029</td><td>2007-09-01 00:00:00.000</td></tr>",
                            "<tr><td>650</td><td>Elmhurst Road, Goring</td><td>NULL</td><td>Reading</td><td>England</td><td>United Kingdom</td><td>RG7 5H7</td><td>e4c0c239-182f-45b7-a6bb-b7e142ff0657</td><td>2006-07-01 00:00:00.000</td></tr>",
                            "<tr><td>651</td><td>New Millhouse, 2583 Milton Park</td><td>NULL</td><td>Abingdon</td><td>England</td><td>United Kingdom</td><td>OX14 4SE</td><td>e844b847-b0b3-491d-a4f1-0b78f56e4424</td><td>2007-09-01 00:00:00.000</td></tr>",
                            "<tr><td>652</td><td>Wymbush</td><td>NULL</td><td>Milton Keynes</td><td>England</td><td>United Kingdom</td><td>MK8 8DF</td><td>54e20963-b0e9-41cf-ab7e-d50459a3325c</td><td>2006-09-01 00:00:00.000</td></tr>",
                            "<tr><td>653</td><td>Burgess Hill</td><td>Edward Way</td><td>West Sussex</td><td>England</td><td>United Kingdom</td><td>RH15 9UD</td><td>38cc8647-b4bb-4669-b21d-c7497e76478d</td><td>2006-09-01 00:00:00.000</td></tr>",
                            "<tr><td>654</td><td>308-3250 Casting Road</td><td>NULL</td><td>York</td><td>England</td><td>United Kingdom</td><td>Y024 1GF</td><td>9d67c322-8698-440a-8f3e-5e1e30edbd0d</td><td>2007-08-01 00:00:00.000</td></tr>",
                            "<tr><td>655</td><td>Wharfdale Road</td><td>NULL</td><td>Berkshire</td><td>England</td><td>United Kingdom</td><td>RG11 5TP</td><td>d0e03fcb-116e-4ad2-8b17-5c2f9fd3e8b0</td><td>2006-08-01 00:00:00.000</td></tr>",
                            "<tr><td>656</td><td>7 Pioneer Business Park</td><td>NULL</td><td>York</td><td>England</td><td>United Kingdom</td><td>Y03 4TN</td><td>48865e15-033a-40ff-8327-18723d4a8846</td><td>2007-08-01 00:00:00.000</td></tr>",
                            "<tr><td>657</td><td>Unit 99a Battery Retail Pk</td><td>NULL</td><td>Birmingham</td><td>England</td><td>United Kingdom</td><td>B29 6SL</td><td>371a70e0-5802-4df9-bb28-5b6bdf202283</td><td>2006-08-01 00:00:00.000</td></tr>",
                            "<tr><td>658</td><td>Ellesfield Ave</td><td>NULL</td><td>Bracknell</td><td>England</td><td>United Kingdom</td><td>RG12 8TB</td><td>bc28152f-8005-4c0e-98ff-51bf77a4a667</td><td>2006-08-01 00:00:00.000</td></tr>",
                            "<tr><td>659</td><td>Warrington Ldc Unit 25/2</td><td>NULL</td><td>Woolston</td><td>England</td><td>United Kingdom</td><td>WA1 4SY</td><td>f44a7d0d-9bc5-427e-b3ae-f638dd5804b0</td><td>2007-09-01 00:00:00.000</td></tr>",
                            "<tr><td>660</td><td>6 The Farm, Liberty Road</td><td>NULL</td><td>Maidenhead</td><td>England</td><td>United Kingdom</td><td>SL67RJ</td><td>e22d616b-ea06-48e9-a00f-b1c4bb02f595</td><td>2007-09-01 00:00:00.000</td></tr>",
                            "<tr><td>661</td><td>725a The Arches</td><td>NULL</td><td>Berks</td><td>England</td><td>United Kingdom</td><td>SL4 1RH</td><td>38f5f598-e9bb-499c-b90d-088b2cd1b5bd</td><td>2006-08-01 00:00:00.000</td></tr>",
                            "<tr><td>662</td><td>Paramount House</td><td>NULL</td><td>London</td><td>England</td><td>United Kingdom</td><td>W1N 9FA</td><td>e50d1077-d135-41cc-a0b1-c53395f94541</td><td>2006-09-01 00:00:00.000</td></tr>",
                            "<tr><td>663</td><td>2524 Barlby Road</td><td>NULL</td><td>London</td><td>England</td><td>United Kingdom</td><td>W10 6BL</td><td>d8e96eba-258c-4f6c-83bb-4ccb2235bbf7</td><td>2007-08-01 00:00:00.000</td></tr>",
                            "<tr><td>664</td><td>99-3 Forest Works</td><td>NULL</td><td>London</td><td>England</td><td>United Kingdom</td><td>E17 6JF</td><td>eb46af5a-ec2b-41ff-914e-ddae8ec1f476</td><td>2006-07-01 00:00:00.000</td></tr>",
                            "<tr><td>665</td><td>46-44 Albemarle Street</td><td>NULL</td><td>London</td><td>England</td><td>United Kingdom</td><td>W1X3SE</td><td>1b01b172-96ce-4601-ad19-f545dcdfd62f</td><td>2007-08-01 00:00:00.000</td></tr>",
                            "<tr><td>666</td><td>399 Clearing Green</td><td>NULL</td><td>London</td><td>England</td><td>United Kingdom</td><td>EC1R 0DU</td><td>bab4b0a1-055a-4581-a93f-e00c65c54fb6</td><td>2006-08-01 00:00:00.000</td></tr>",
                            "<tr><td>667</td><td>997b Tradescant Road</td><td>NULL</td><td>London</td><td>England</td><td>United Kingdom</td><td>SW8 1XD</td><td>0a318015-4fbe-479a-b2da-eee21df430af</td><td>2006-08-01 00:00:00.000</td></tr>",
                            "<tr><td>668</td><td>2574 Milton Park</td><td>NULL</td><td>Oxford</td><td>England</td><td>United Kingdom</td><td>OX14 4SE</td><td>62d0c689-cf44-4ab3-9c3e-6142f4e0101c</td><td>2007-08-01 00:00:00.000</td></tr>",
                            "<tr><td>669</td><td>Internet House, 3399 Science Park</td><td>NULL</td><td>Cambridge</td><td>England</td><td>United Kingdom</td><td>CB4 4BZ</td><td>56baec2a-5cc5-4a90-bef9-ee57e82f2e69</td><td>2006-12-01 00:00:00.000</td></tr>",
                            "<tr><td>670</td><td>7 Garden House Cloisters, 8 Batters</td><td>NULL</td><td>London</td><td>England</td><td>United Kingdom</td><td>SW8 4BG</td><td>333daff8-f22f-488c-928c-e6eccf65452b</td><td>2006-07-01 00:00:00.000</td></tr>",
                            "<tr><td>671</td><td>25 Hartfield Road, Wimbledon</td><td>NULL</td><td>London</td><td>England</td><td>United Kingdom</td><td>SW19 3RU</td><td>00fd96bc-6ee6-4d2c-a88c-07bc1cae6efe</td><td>2008-02-01 00:00:00.000</td></tr>",
                            "<tr><td>672</td><td>99 Dean Street, Soho</td><td>NULL</td><td>London</td><td>England</td><td>United Kingdom</td><td>W1V 5RN</td><td>ecebd4b1-11c3-4681-a6da-2f73148fb63e</td><td>2006-09-01 00:00:00.000</td></tr>",
                            "<tr><td>673</td><td>Park House-4th Floor, 2516 Park St.</td><td>NULL</td><td>London</td><td>England</td><td>United Kingdom</td><td>W1Y 3RA</td><td>2506679e-041b-4d52-b9a9-07a0d5e88eea</td><td>2006-08-01 00:00:00.000</td></tr>",
                            "<tr><td>674</td><td>67 Vincent Square, Victoria</td><td>NULL</td><td>London</td><td>England</td><td>United Kingdom</td><td>SW1P 2NU</td><td>1a398c1b-2085-4f6d-a6eb-56493855c5d1</td><td>2007-09-01 00:00:00.000</td></tr>",
                            "<tr><td>756</td><td>855 East Main Avenue</td><td>NULL</td><td>Zeeland</td><td>Michigan</td><td>United States</td><td>49464</td><td>7cc420b7-b43c-4e40-98ed-6c10cec91c54</td><td>2005-08-01 00:00:00.000</td></tr>",
                            "<tr><td>774</td><td>9920 North Telegraph Rd.</td><td>NULL</td><td>Pontiac</td><td>Michigan</td><td>United States</td><td>48342</td><td>7bc77b2e-ed84-443a-bd50-f67718dea95d</td><td>2005-09-01 00:00:00.000</td></tr>",
                            "<tr><td>775</td><td>46460 West Oaks Drive</td><td>NULL</td><td>Novi</td><td>Michigan</td><td>United States</td><td>48375</td><td>d0614a62-08e0-4f83-ac72-51f58170b653</td><td>2006-09-01 00:00:00.000</td></tr>",
                            "<tr><td>776</td><td>997000 Telegraph Rd.</td><td>NULL</td><td>Southfield</td><td>Michigan</td><td>United States</td><td>48034</td><td>f0159341-8cdb-4587-bc74-95ffb9e7d662</td><td>2005-11-01 00:00:00.000</td></tr>",
                            "<tr><td>785</td><td>399700 John R. Rd.</td><td>NULL</td><td>Madison Heights</td><td>Michigan</td><td>United States</td><td>48071</td><td>7b234147-cd95-45e8-a1d5-711fe6a33dac</td><td>2005-08-01 00:00:00.000</td></tr>",
                            "<tr><td>786</td><td>6789 Warren Road</td><td>NULL</td><td>Westland</td><td>Michigan</td><td>United States</td><td>48185</td><td>90b0cf86-70e1-45d8-b6fd-0e1804a734c2</td><td>2006-12-01 00:00:00.000</td></tr>",
                            "<tr><td>788</td><td>2533 Eureka Rd.</td><td>NULL</td><td>Southgate</td><td>Michigan</td><td>United States</td><td>48195</td><td>7ef698fa-908e-42bb-8a2d-c62f5106323a</td><td>2006-09-01 00:00:00.000</td></tr>",
                            "<tr><td>789</td><td>250000 Eight Mile Road</td><td>NULL</td><td>Detroit</td><td>Michigan</td><td>United States</td><td>48226</td><td>66255753-b1b9-49c0-ab1d-1de8217d5142</td><td>2006-08-01 00:00:00.000</td></tr>",
                            "<tr><td>794</td><td>998 Forest Road</td><td>NULL</td><td>Saginaw</td><td>Michigan</td><td>United States</td><td>48601</td><td>01094c1b-2d79-402d-8106-9e80fbd57dc8</td><td>2007-08-01 00:00:00.000</td></tr>",
                            "<tr><td>795</td><td>99800 Tittabawasee Rd.</td><td>NULL</td><td>Saginaw</td><td>Michigan</td><td>United States</td><td>48601</td><td>34d6d2d5-feec-40b8-97b5-cceb89164305</td><td>2006-08-01 00:00:00.000</td></tr>",
                            "<tr><td>797</td><td>678 Eastman Ave.</td><td>NULL</td><td>Midland</td><td>Michigan</td><td>United States</td><td>48640</td><td>986de66f-74e6-4830-a2ad-9212efb77b76</td><td>2006-09-01 00:00:00.000</td></tr>",
                            "<tr><td>801</td><td>Horizon Outlet Center</td><td>NULL</td><td>Holland</td><td>Michigan</td><td>United States</td><td>49423</td><td>dc15ba52-b66c-4c5f-bdaf-1713e8c54b46</td><td>2005-07-01 00:00:00.000</td></tr>",
                            "<tr><td>806</td><td>Horizon Outlet Center</td><td>NULL</td><td>Monroe</td><td>Michigan</td><td>United States</td><td>98272</td><td>a986c31b-4b63-4925-aafd-b95260d5d586</td><td>2006-08-01 00:00:00.000</td></tr>",
                            "<tr><td>810</td><td>Redford Plaza</td><td>NULL</td><td>Redford</td><td>Michigan</td><td>United States</td><td>48239</td><td>43e988f4-b82d-4424-a59f-43dd81f9016b</td><td>2005-07-01 00:00:00.000</td></tr>",
                            "<tr><td>825</td><td>Port Huron</td><td>NULL</td><td>Port Huron</td><td>Michigan</td><td>United States</td><td>48060</td><td>a1cadf47-c018-40cc-8381-6cc940de46c8</td><td>2005-10-01 00:00:00.000</td></tr>",
                            "<tr><td>826</td><td>Kensington Valley Shops</td><td>NULL</td><td>Howell</td><td>Michigan</td><td>United States</td><td>48843</td><td>c2d04d48-ef2b-4349-877b-ea6df9895079</td><td>2006-07-01 00:00:00.000</td></tr>",
                            "<tr><td>832</td><td>2251 Elliot Avenue</td><td>NULL</td><td>Seattle</td><td>Washington</td><td>United States</td><td>98104</td><td>6d6a8e1a-ffd8-4d2d-a70d-88467049a880</td><td>2005-08-01 00:00:00.000</td></tr>",
                            "<tr><td>833</td><td>3207 S Grady Way</td><td>NULL</td><td>Renton</td><td>Washington</td><td>United States</td><td>98055</td><td>4e670a74-8ace-44c8-91ed-76cba7190bc2</td><td>2006-08-01 00:00:00.000</td></tr>",
                            "<tr><td>834</td><td>99300 223rd Southeast</td><td>NULL</td><td>Bothell</td><td>Washington</td><td>United States</td><td>98011</td><td>d505aea8-b89a-41ed-90a9-44d4179eff77</td><td>2007-04-01 00:00:00.000</td></tr>",
                            "<tr><td>835</td><td>259826 Russell Rd. South</td><td>NULL</td><td>Kent</td><td>Washington</td><td>United States</td><td>98031</td><td>5d3832b3-72dd-4a9b-a596-8293d4037c18</td><td>2005-09-01 00:00:00.000</td></tr>",
                            "<tr><td>836</td><td>35525-9th Street Sw</td><td>NULL</td><td>Puyallup</td><td>Washington</td><td>United States</td><td>98371</td><td>77232d41-48bb-4c8d-8323-5581753e9531</td><td>2006-09-01 00:00:00.000</td></tr>",
                            "<tr><td>837</td><td>640 South 994th St. W.</td><td>NULL</td><td>Billings</td><td>Montana</td><td>United States</td><td>59101</td><td>4e75ad15-557e-4c4d-9aeb-68a9718b412a</td><td>2007-09-01 00:00:00.000</td></tr>",
                            "<tr><td>838</td><td>25300 Biddle Road</td><td>NULL</td><td>Medford</td><td>Oregon</td><td>United States</td><td>97504</td><td>349cbab0-e4e3-40b2-ac50-3ea087110f8b</td><td>2007-09-01 00:00:00.000</td></tr>",
                            "<tr><td>839</td><td>Gateway</td><td>NULL</td><td>Portland</td><td>Oregon</td><td>United States</td><td>97205</td><td>3a56b180-70cd-42fe-a19c-f62b5037aa3a</td><td>2006-08-01 00:00:00.000</td></tr>",
                            "<tr><td>840</td><td>Great Northwestern</td><td>NULL</td><td>North Bend</td><td>Washington</td><td>United States</td><td>98045</td><td>1ef6e60f-3582-4298-a7ad-195be59ba7b7</td><td>2005-08-01 00:00:00.000</td></tr>",
                            "<tr><td>841</td><td>Washington Square</td><td>NULL</td><td>Portland</td><td>Oregon</td><td>United States</td><td>97205</td><td>7b5ae329-fb7c-4a2c-b33c-827920acacdc</td><td>2005-11-01 00:00:00.000</td></tr>",
                            "<tr><td>842</td><td>258101 Nw Evergreen Parkway</td><td>NULL</td><td>Beaverton</td><td>Oregon</td><td>United States</td><td>97005</td><td>eb5a214a-15a1-4e25-b405-dc0ef9907874</td><td>2005-09-01 00:00:00.000</td></tr>",
                            "<tr><td>843</td><td>253950 N.E. 178th Place</td><td>NULL</td><td>Woodinville</td><td>Washington</td><td>United States</td><td>98072</td><td>e75a2222-d636-4494-a314-2125ee2336f8</td><td>2005-09-01 00:00:00.000</td></tr>",
                            "<tr><td>844</td><td>755 Nw Grandstand</td><td>NULL</td><td>Issaquah</td><td>Washington</td><td>United States</td><td>98027</td><td>0e8578f8-21f7-482d-8dd8-8aa52f68f70a</td><td>2007-09-01 00:00:00.000</td></tr>",
                            "<tr><td>845</td><td>22571 South 2500 East</td><td>NULL</td><td>Idaho Falls</td><td>Idaho</td><td>United States</td><td>83402</td><td>1e5743c8-b8f7-4a65-b812-0302ffcb9d0e</td><td>2007-07-01 00:00:00.000</td></tr>",
                            "<tr><td>846</td><td>257700 Ne 76th Street</td><td>NULL</td><td>Redmond</td><td>Washington</td><td>United States</td><td>98052</td><td>e606ad23-f6d4-4aa5-b177-7d03d62b0187</td><td>2006-08-01 00:00:00.000</td></tr>",
                            "<tr><td>847</td><td>25102 Springwater</td><td>NULL</td><td>Wenatchee</td><td>Washington</td><td>United States</td><td>98801</td><td>f84f402f-9bd5-432e-a1d6-f284a6dffa29</td><td>2006-06-01 00:00:00.000</td></tr>",
                            "<tr><td>848</td><td>Bldg. 9n/99298</td><td>NULL</td><td>Redmond</td><td>Washington</td><td>United States</td><td>98052</td><td>f8ef420d-b3c8-48b1-a237-4a7d2dad987e</td><td>2005-08-01 00:00:00.000</td></tr>",
                            "<tr><td>849</td><td>4251 First Avenue</td><td>NULL</td><td>Seattle</td><td>Washington</td><td>United States</td><td>98104</td><td>a077368b-26bf-41b7-b35f-fc380092e6b9</td><td>2005-07-01 00:00:00.000</td></tr>",
                            "<tr><td>850</td><td>558 S 6th St</td><td>NULL</td><td>Klamath Falls</td><td>Oregon</td><td>United States</td><td>97601</td><td>329894ab-0142-4d9b-9851-2da2f6dc95e3</td><td>2007-09-01 00:00:00.000</td></tr>",
                            "<tr><td>851</td><td>994 Sw Cherry Park Rd</td><td>NULL</td><td>Troutdale</td><td>Oregon</td><td>United States</td><td>97060</td><td>fcde15ff-85d3-4136-9fb6-ea493f39605e</td><td>2005-08-01 00:00:00.000</td></tr>",
                            "<tr><td>852</td><td>25718 Se Sunnyside Rd</td><td>NULL</td><td>Clackamas</td><td>Oregon</td><td>United States</td><td>97015-6403</td><td>e85ac59f-59b6-4ed2-9436-fcdb78959b80</td><td>2007-08-01 00:00:00.000</td></tr>",
                            "<tr><td>853</td><td>567 Sw Mcloughlin Blvd</td><td>NULL</td><td>Milwaukie</td><td>Oregon</td><td>United States</td><td>97222</td><td>055b060a-7da2-455c-bcb3-a8dcea4c5156</td><td>2007-09-01 00:00:00.000</td></tr>",
                            "<tr><td>854</td><td>490 Ne 4th St</td><td>NULL</td><td>Renton</td><td>Washington</td><td>United States</td><td>98055</td><td>471190d7-86c1-48cd-985a-7046b1b89c3c</td><td>2007-08-01 00:00:00.000</td></tr>",
                            "<tr><td>855</td><td>15 East Main</td><td>NULL</td><td>Port Orchard</td><td>Washington</td><td>United States</td><td>98366</td><td>09926325-7f83-427b-83d6-817df7d70ce9</td><td>2005-07-01 00:00:00.000</td></tr>",
                            "<tr><td>856</td><td>3025 E Waterway Blvd</td><td>NULL</td><td>Shelton</td><td>Washington</td><td>United States</td><td>98584</td><td>779d4f7d-c90c-4a8a-bf29-41613e8907ef</td><td>2006-11-01 00:00:00.000</td></tr>",
                            "<tr><td>857</td><td>7990 Ocean Beach Hwy.</td><td>NULL</td><td>Longview</td><td>Washington</td><td>United States</td><td>98632</td><td>873d03b3-e2ef-4b8b-add8-f237fdc7fe31</td><td>2005-08-01 00:00:00.000</td></tr>",
                            "<tr><td>858</td><td>2345 West Spencer Road</td><td>NULL</td><td>Lynnwood</td><td>Washington</td><td>United States</td><td>98036</td><td>68aeb59d-0f79-4a0d-92ef-4d0c2beb5821</td><td>2006-09-01 00:00:00.000</td></tr>",
                            "<tr><td>859</td><td>1050 Oak Street</td><td>NULL</td><td>Seattle</td><td>Washington</td><td>United States</td><td>98104</td><td>8caaf6be-9c88-466d-862c-ae7673e3d0f0</td><td>2006-08-01 00:00:00.000</td></tr>",
                            "<tr><td>860</td><td>4927 S Meridian Ave Ste D</td><td>NULL</td><td>Puyallup</td><td>Washington</td><td>United States</td><td>98371</td><td>ff2be5e9-7d22-4c1c-acf8-199148e957ab</td><td>2006-07-01 00:00:00.000</td></tr>",
                            "<tr><td>861</td><td>25915 140th Ave Ne</td><td>NULL</td><td>Bellevue</td><td>Washington</td><td>United States</td><td>98004</td><td>0d46f203-cdb6-4495-83f5-a97ff0cec174</td><td>2006-09-01 00:00:00.000</td></tr>",
                            "<tr><td>862</td><td>3307 Evergreen Blvd</td><td>Ste 1071</td><td>Washougal</td><td>Washington</td><td>United States</td><td>98671</td><td>0c81cbd2-96d3-40c1-97d4-056d776b7676</td><td>2005-11-01 00:00:00.000</td></tr>",
                            "<tr><td>863</td><td>2507 Pacific Ave S</td><td>NULL</td><td>Tacoma</td><td>Washington</td><td>United States</td><td>98403</td><td>fbac273f-934e-474f-9ccb-f96ca9ae889d</td><td>2005-09-01 00:00:00.000</td></tr>",
                            "<tr><td>864</td><td>67 Rainer Ave S</td><td>NULL</td><td>Renton</td><td>Washington</td><td>United States</td><td>98055</td><td>a2fc2f01-c6be-4af4-b718-2a86eb782e5f</td><td>2005-08-01 00:00:00.000</td></tr>",
                            "<tr><td>865</td><td>750 Lakeway Dr</td><td>NULL</td><td>Bellingham</td><td>Washington</td><td>United States</td><td>98225</td><td>243020ec-84c3-417a-b34d-f7760ff130d1</td><td>2006-07-01 00:00:00.000</td></tr>",
                            "<tr><td>866</td><td>2528 Meridian E</td><td>NULL</td><td>Puyallup</td><td>Washington</td><td>United States</td><td>98371</td><td>5668e02c-16fa-4331-8603-29ee11417843</td><td>2007-08-01 00:00:00.000</td></tr>",
                            "<tr><td>867</td><td>48995 Evergreen Wy.</td><td>NULL</td><td>Everett</td><td>Washington</td><td>United States</td><td>98201</td><td>6cd4e374-0ef8-4cee-ac60-9dbf1f4e0007</td><td>2007-09-01 00:00:00.000</td></tr>",
                            "<tr><td>868</td><td>25111 228th St Sw</td><td>NULL</td><td>Bothell</td><td>Washington</td><td>United States</td><td>98011</td><td>40100c97-5097-43be-9f44-abd881220e8f</td><td>2006-07-01 00:00:00.000</td></tr>",
                            "<tr><td>869</td><td>2583 Se 272nd St</td><td>NULL</td><td>Kent</td><td>Washington</td><td>United States</td><td>98031</td><td>e13c4f18-990a-4b7d-9fc9-afd0ea943b13</td><td>2005-08-01 00:00:00.000</td></tr>",
                            "<tr><td>870</td><td>409 S. Main Ste. 25</td><td>NULL</td><td>Ellensburg</td><td>Washington</td><td>United States</td><td>98926</td><td>955e88ea-083d-446e-a856-42cb0692826a</td><td>2006-08-01 00:00:00.000</td></tr>",
                            "<tr><td>871</td><td>2502 Evergreen Ste E</td><td>NULL</td><td>Everett</td><td>Washington</td><td>United States</td><td>98201</td><td>3ae9003f-f806-41ad-98a5-3c4a86514bc3</td><td>2005-07-01 00:00:00.000</td></tr>",
                            "<tr><td>872</td><td>755 W Washington Ave Ste D</td><td>NULL</td><td>Sequim</td><td>Washington</td><td>United States</td><td>98382</td><td>932514a1-04e4-4e95-b97c-0ad4c06b890e</td><td>2007-08-01 00:00:00.000</td></tr>",
                            "<tr><td>873</td><td>44606 N Division St</td><td>NULL</td><td>Spokane</td><td>Washington</td><td>United States</td><td>99202</td><td>3438afb3-390c-48d5-8ccf-5438278d981d</td><td>2007-08-01 00:00:00.000</td></tr>",
                            "<tr><td>874</td><td>2550 Ne Sandy Blvd</td><td>NULL</td><td>Portland</td><td>Oregon</td><td>United States</td><td>97205</td><td>14d5dde7-c771-4819-9ff1-a4faa66f0e7a</td><td>2006-09-01 00:00:00.000</td></tr>",
                            "<tr><td>875</td><td>2540 Dell Range Blvd</td><td>NULL</td><td>Cheyenne</td><td>Wyoming</td><td>United States</td><td>82001</td><td>3ac8958a-76ee-41ca-8a88-2b783ea18acc</td><td>2006-07-01 00:00:00.000</td></tr>",
                            "<tr><td>876</td><td>765 Delridge Way Sw</td><td>NULL</td><td>Seattle</td><td>Washington</td><td>United States</td><td>98104</td><td>cb1392f5-fcb9-4cf5-b4c9-33fafb876c3d</td><td>2005-07-01 00:00:00.000</td></tr>",
                            "<tr><td>877</td><td>4781 Highway 95</td><td>NULL</td><td>Sandpoint</td><td>Idaho</td><td>United States</td><td>83864</td><td>49f0b458-40cd-4852-a936-8576070fcb96</td><td>2006-07-01 00:00:00.000</td></tr>",
                            "<tr><td>878</td><td>4210 E Sprague Ave</td><td>NULL</td><td>Spokane</td><td>Washington</td><td>United States</td><td>99202</td><td>7c04cf1b-ad79-44d4-9611-381b2f094f96</td><td>2006-07-01 00:00:00.000</td></tr>",
                            "<tr><td>879</td><td>Valley Mall</td><td>NULL</td><td>Union Gap</td><td>Washington</td><td>United States</td><td>98903</td><td>860cb49b-5774-441f-b8c5-753ca50fa5e1</td><td>2006-07-01 00:00:00.000</td></tr>",
                            "<tr><td>880</td><td>S Sound Ctr Suite 25300</td><td>NULL</td><td>Lacey</td><td>Washington</td><td>United States</td><td>98503</td><td>3a400497-1000-4d9f-bb8d-d9cbf00c2822</td><td>2005-08-01 00:00:00.000</td></tr>",
                            "<tr><td>881</td><td>Southgate Mall</td><td>NULL</td><td>Missoula</td><td>Montana</td><td>United States</td><td>59801</td><td>3ded7f59-79a9-4034-98f9-f2a0b045d7ae</td><td>2006-10-01 00:00:00.000</td></tr>",
                            "<tr><td>882</td><td>Medford</td><td>NULL</td><td>Medford</td><td>Oregon</td><td>United States</td><td>97504</td><td>dbc16bdd-c86d-4d5f-91f5-79fa000716fb</td><td>2007-07-01 00:00:00.000</td></tr>",
                            "<tr><td>883</td><td>Heritage Mall</td><td>NULL</td><td>Albany</td><td>Oregon</td><td>United States</td><td>97321</td><td>cf9c1921-d741-4576-9d32-849e62d57698</td><td>2007-07-01 00:00:00.000</td></tr>",
                            "<tr><td>884</td><td>Lewis County Mall</td><td>NULL</td><td>Chehalis</td><td>Washington</td><td>United States</td><td>98532</td><td>2f91410b-2988-4e8f-bf01-8009c2f9abba</td><td>2005-08-01 00:00:00.000</td></tr>",
                            "<tr><td>885</td><td>755 Columbia Ctr Blvd</td><td>NULL</td><td>Kennewick</td><td>Washington</td><td>United States</td><td>99337</td><td>f3b58620-4857-44a0-9c48-51f21c1ca0c8</td><td>2007-09-01 00:00:00.000</td></tr>",
                            "<tr><td>886</td><td>Lancaster Mall</td><td>NULL</td><td>Salem</td><td>Oregon</td><td>United States</td><td>97301</td><td>3513c4cd-96af-4e5f-b3ff-32d268fb5f54</td><td>2006-08-01 00:00:00.000</td></tr>",
                            "<tr><td>887</td><td>Lewiston Mall</td><td>NULL</td><td>Lewiston</td><td>Idaho</td><td>United States</td><td>83501</td><td>4ddbacc9-7898-403e-856a-128e34245424</td><td>2006-09-01 00:00:00.000</td></tr>",
                            "<tr><td>888</td><td>Three Rivers Mall</td><td>NULL</td><td>Kelso</td><td>Washington</td><td>United States</td><td>98626</td><td>834ae73a-01a9-4850-9f8c-6db5d1344aad</td><td>2007-07-01 00:00:00.000</td></tr>",
                            "<tr><td>889</td><td>Eastridge Mall</td><td>NULL</td><td>Casper</td><td>Wyoming</td><td>United States</td><td>82601</td><td>6d5c5880-2c83-4df1-b8ce-46cfe9a9ffac</td><td>2005-07-01 00:00:00.000</td></tr>",
                            "<tr><td>890</td><td>Holiday Village Mall</td><td>NULL</td><td>Great Falls</td><td>Montana</td><td>United States</td><td>59401</td><td>5fe7c888-bb21-421e-9b8b-38da8da10085</td><td>2005-11-01 00:00:00.000</td></tr>",
                            "<tr><td>891</td><td>2526a Tri-Lake Blvd Ne</td><td>NULL</td><td>Kirkland</td><td>Washington</td><td>United States</td><td>98033</td><td>ec34e865-d130-403f-a437-d92d7ef02f05</td><td>2005-12-01 00:00:00.000</td></tr>",
                            "<tr><td>892</td><td>Frontier Mall</td><td>NULL</td><td>Cheyenne</td><td>Wyoming</td><td>United States</td><td>82001</td><td>cb0a8223-fd82-4d26-b7c7-0c120e4eafc5</td><td>2005-08-01 00:00:00.000</td></tr>",
                            "<tr><td>893</td><td>White Mountain Mall</td><td>NULL</td><td>Rock Springs</td><td>Wyoming</td><td>United States</td><td>82901</td><td>9308a21d-aae2-42e2-889d-2cd802072d36</td><td>2007-07-01 00:00:00.000</td></tr>",
                            "<tr><td>894</td><td>3390 South 23rd St.</td><td>NULL</td><td>Tacoma</td><td>Washington</td><td>United States</td><td>98403</td><td>e7979fa4-253c-41fd-b74f-2feec966a6b5</td><td>2006-01-01 00:00:00.000</td></tr>",
                            "<tr><td>895</td><td>3250 South Meridian</td><td>NULL</td><td>Puyallup</td><td>Washington</td><td>United States</td><td>98371</td><td>3b2e6107-040b-4f60-8901-a950bf0562d4</td><td>2005-07-01 00:00:00.000</td></tr>",
                            "<tr><td>896</td><td>2255 254th Avenue Se</td><td>NULL</td><td>Albany</td><td>Oregon</td><td>United States</td><td>97321</td><td>77d18072-b99b-4b1e-a9b9-948fa927efbb</td><td>2007-09-01 00:00:00.000</td></tr>",
                            "<tr><td>897</td><td>705 SE Mall Parkway</td><td>NULL</td><td>Everett</td><td>Washington</td><td>United States</td><td>98201</td><td>77a34652-5d9b-40b6-a15a-56d7ee4056f4</td><td>2006-08-01 00:00:00.000</td></tr>",
                            "<tr><td>898</td><td>700 Se Sunnyside Road</td><td>NULL</td><td>Clackamas</td><td>Oregon</td><td>United States</td><td>97015</td><td>d88449db-7116-427b-bfaf-cae7c08de084</td><td>2007-09-01 00:00:00.000</td></tr>",
                            "<tr><td>899</td><td>North 93270 Newport Highway</td><td>NULL</td><td>Spokane</td><td>Washington</td><td>United States</td><td>99202</td><td>8ae1c168-958e-41da-92d8-7a3a0765f744</td><td>2007-08-01 00:00:00.000</td></tr>",
                            "<tr><td>900</td><td>25708 Dell Range Blvd.</td><td>NULL</td><td>Cheyenne</td><td>Wyoming</td><td>United States</td><td>82001</td><td>9b10fe3a-a1fb-497e-8bc2-e84e8c2a77da</td><td>2005-07-01 00:00:00.000</td></tr>",
                            "<tr><td>901</td><td>No. 60 Bellis Fair Parkway</td><td>NULL</td><td>Bellingham</td><td>Washington</td><td>United States</td><td>98225</td><td>8135b5dc-f7e9-401c-992c-93a058ada079</td><td>2007-09-01 00:00:00.000</td></tr>",
                            "<tr><td>902</td><td>950 Gateway Street</td><td>NULL</td><td>Springfield</td><td>Oregon</td><td>United States</td><td>97477</td><td>e8beecaf-8668-4d53-97e8-405bc6978def</td><td>2006-09-01 00:00:00.000</td></tr>",
                            "<tr><td>903</td><td>250775 SW Hillsdale Hwy</td><td>NULL</td><td>Beaverton</td><td>Oregon</td><td>United States</td><td>97005</td><td>ac8f33f8-4dc4-467d-b459-788d84749c5d</td><td>2006-08-01 00:00:00.000</td></tr>",
                            "<tr><td>904</td><td>9905 Three Rivers Drive</td><td>NULL</td><td>Kelso</td><td>Washington</td><td>United States</td><td>98626</td><td>01a85112-6ee1-4f2c-9212-1c2abc612e67</td><td>2006-07-01 00:00:00.000</td></tr>",
                            "<tr><td>905</td><td>225 South 314th Street</td><td>NULL</td><td>Federal Way</td><td>Washington</td><td>United States</td><td>98003</td><td>d305d73c-d595-4961-b870-0dcecb7c6ea9</td><td>2006-11-01 00:00:00.000</td></tr>",
                            "<tr><td>906</td><td>7009 Sw Hall Blvd.</td><td>NULL</td><td>Tigard</td><td>Oregon</td><td>United States</td><td>97223</td><td>b8efdbfa-3ba9-45d8-9c09-646dd0c8af93</td><td>2006-09-01 00:00:00.000</td></tr>",
                            "<tr><td>907</td><td>99295 S.e. Tualatin Valley_hwy.</td><td>NULL</td><td>Hillsboro</td><td>Oregon</td><td>United States</td><td>97123</td><td>a0e88130-6262-4484-815e-e5c485bf3eac</td><td>2007-08-01 00:00:00.000</td></tr>",
                            "<tr><td>988</td><td>482505 Warm Springs Blvd.</td><td>NULL</td><td>Fremont</td><td>California</td><td>United States</td><td>94536</td><td>cd6d22b0-d941-4928-b6f7-1508021e6539</td><td>2006-09-01 00:00:00.000</td></tr>",
                            "<tr><td>989</td><td>39933 Mission Oaks Blvd</td><td>NULL</td><td>Camarillo</td><td>California</td><td>United States</td><td>93010</td><td>8b1241ca-1db6-4f9d-861e-1d6cc3796443</td><td>2007-09-01 00:00:00.000</td></tr>",
                            "<tr><td>990</td><td>5420 West 22500 South</td><td>NULL</td><td>Salt Lake City</td><td>Utah</td><td>United States</td><td>84101</td><td>7612c47a-e24a-4bd8-9b8b-3aed15af64f9</td><td>2006-07-01 00:00:00.000</td></tr>",
                            "<tr><td>991</td><td>60025 Bollinger Canyon Road</td><td>NULL</td><td>San Ramon</td><td>California</td><td>United States</td><td>94583</td><td>962a4d00-c5aa-41cc-b7bc-2afbe2fa65b8</td><td>2006-09-01 00:00:00.000</td></tr>",
                            "<tr><td>992</td><td>9992 Whipple Rd</td><td>NULL</td><td>Union City</td><td>California</td><td>United States</td><td>94587</td><td>88258a1b-b50f-440f-93b9-5d7af831d5fc</td><td>2006-09-01 00:00:00.000</td></tr>",
                            "<tr><td>993</td><td>Corporate Office</td><td>NULL</td><td>El Segundo</td><td>California</td><td>United States</td><td>90245</td><td>6cccc74f-6389-4d08-8ed1-9079b42cf7ae</td><td>2006-09-01 00:00:00.000</td></tr>",
                            "<tr><td>994</td><td>25001 Montague Expressway</td><td>NULL</td><td>Milpitas</td><td>California</td><td>United States</td><td>95035</td><td>89901b2a-fda8-4926-b22c-dd5d583681a6</td><td>2006-07-01 00:00:00.000</td></tr>",
                            "<tr><td>995</td><td>4460 Newport Center Drive</td><td>NULL</td><td>Newport Beach</td><td>California</td><td>United States</td><td>92625</td><td>d6b9e9e9-f288-4590-be12-8ddbb5e53bc2</td><td>2006-07-01 00:00:00.000</td></tr>",
                            "<tr><td>996</td><td>2575 West 2700 South</td><td>NULL</td><td>Salt Lake City</td><td>Utah</td><td>United States</td><td>84101</td><td>708fc1dd-4994-4aa5-80a5-8c977c37aa15</td><td>2006-08-01 00:00:00.000</td></tr>",
                            "<tr><td>997</td><td>70259 West Sunnyview Ave</td><td>NULL</td><td>Visalia</td><td>California</td><td>United States</td><td>93291</td><td>7c2e0511-de61-4761-80ea-6a7b2f39e524</td><td>2007-09-01 00:00:00.000</td></tr>",
                            "<tr><td>998</td><td>60750 San Clemente</td><td>NULL</td><td>Hayward</td><td>California</td><td>United States</td><td>94541</td><td>822dc2be-aac2-4283-93a6-5027cfb6a7df</td><td>2007-09-01 00:00:00.000</td></tr>",
                            "<tr><td>999</td><td>Receiving</td><td>NULL</td><td>Fullerton</td><td>California</td><td>United States</td><td>92831</td><td>93d3c32f-cc26-4f27-b91f-35a804554976</td><td>2006-09-01 00:00:00.000</td></tr>",
                            "<tr><td>1000</td><td>22555 Paseo De Las Americas</td><td>NULL</td><td>San Diego</td><td>California</td><td>United States</td><td>92102</td><td>982bdcc2-6429-4725-a6df-4faf032ec908</td><td>2006-08-01 00:00:00.000</td></tr>",
                            "<tr><td>1001</td><td>Incom Sports Center</td><td>NULL</td><td>Ontario</td><td>California</td><td>United States</td><td>91764</td><td>079e5de8-169f-4eb6-be75-813b40a0143e</td><td>2005-08-01 00:00:00.000</td></tr>",
                            "<tr><td>1002</td><td>C/O Starpak, Inc.</td><td>NULL</td><td>Greeley</td><td>Colorado</td><td>United States</td><td>80631</td><td>512bd07c-7ed7-421b-923f-d41999bd5bd7</td><td>2006-08-01 00:00:00.000</td></tr>",
                            "<tr><td>1003</td><td>5967 W Las Positas Blvd</td><td>NULL</td><td>Pleasanton</td><td>California</td><td>United States</td><td>94566</td><td>6b26292f-1ebe-41ce-9a3e-ff42d3c10a44</td><td>2007-07-01 00:00:00.000</td></tr>",
                            "<tr><td>1004</td><td>25600 E St Andrews Pl</td><td>NULL</td><td>Santa Ana</td><td>California</td><td>United States</td><td>92701</td><td>489390e0-48c0-4bb4-a5dc-38c4b39ea833</td><td>2005-09-01 00:00:00.000</td></tr>",
                            "<tr><td>1005</td><td>6756 Mowry</td><td>NULL</td><td>Newark</td><td>California</td><td>United States</td><td>94560</td><td>cfb5ed2a-43fe-4102-8413-73c74dacc79e</td><td>2006-08-01 00:00:00.000</td></tr>",
                            "<tr><td>1006</td><td>25472 Marlay Ave</td><td>NULL</td><td>Fontana</td><td>California</td><td>United States</td><td>92335</td><td>90c5f983-b302-4f6c-9d8a-bfb9e1bff406</td><td>2007-09-01 00:00:00.000</td></tr>",
                            "<tr><td>1007</td><td>77 Beale Street</td><td>Room 99767c</td><td>San Francisco</td><td>California</td><td>United States</td><td>94109</td><td>5122f535-c03e-4244-90c8-5d360c0c4cc4</td><td>2005-09-01 00:00:00.000</td></tr>",
                            "<tr><td>1008</td><td>910 Main Street.</td><td>NULL</td><td>Sparks</td><td>Nevada</td><td>United States</td><td>89431</td><td>f12c6f58-6095-47d4-9fa0-21a639b90db9</td><td>2006-08-01 00:00:00.000</td></tr>",
                            "<tr><td>1009</td><td>2500 N Serene Blvd</td><td>19th Floor</td><td>El Segundo</td><td>California</td><td>United States</td><td>90245</td><td>7619e3bd-780b-45b1-a477-8fc3e0948352</td><td>2007-08-01 00:00:00.000</td></tr>",
                            "<tr><td>1010</td><td>5650 West 88th Ave.</td><td>NULL</td><td>Westminster</td><td>Colorado</td><td>United States</td><td>80030</td><td>bd7fa7a0-4cbe-442a-a5e5-e5e2b79214ec</td><td>2007-08-01 00:00:00.000</td></tr>",
                            "<tr><td>1011</td><td>9700 Sisk Road</td><td>NULL</td><td>Modesto</td><td>California</td><td>United States</td><td>95354</td><td>fb563347-c157-43b3-a7e4-a851495df874</td><td>2006-09-01 00:00:00.000</td></tr>",
                            "<tr><td>1012</td><td>789 West Alameda</td><td>NULL</td><td>Westminster</td><td>Colorado</td><td>United States</td><td>80030</td><td>73bf97f3-e4e3-402d-8609-7839aebaa947</td><td>2006-09-01 00:00:00.000</td></tr>",
                            "<tr><td>1013</td><td>54254 Pacific Ave.</td><td>NULL</td><td>Stockton</td><td>California</td><td>United States</td><td>95202</td><td>7b82a39f-d175-4543-8f6f-ae6fe9c34a99</td><td>2006-08-01 00:00:00.000</td></tr>",
                            "<tr><td>1014</td><td>25136 Jefferson Blvd.</td><td>NULL</td><td>Culver City</td><td>California</td><td>United States</td><td>90232</td><td>05196d3f-f726-4ab9-a66b-af87500846ad</td><td>2006-09-01 00:00:00.000</td></tr>",
                            "<tr><td>1015</td><td>99000 S. Avalon Blvd. Suite 750</td><td>NULL</td><td>Carson</td><td>California</td><td>United States</td><td>90746</td><td>206163d9-0324-476d-909e-607fe07b2a2a</td><td>2005-08-01 00:00:00.000</td></tr>",
                            "<tr><td>1016</td><td>72502 Eastern Ave.</td><td>NULL</td><td>Bell Gardens</td><td>California</td><td>United States</td><td>90201</td><td>06431d74-4caf-442c-870e-efc20f9d45b8</td><td>2006-09-01 00:00:00.000</td></tr>",
                            "<tr><td>1017</td><td>2560 E. Newlands Dr</td><td>NULL</td><td>Fernley</td><td>Nevada</td><td>United States</td><td>89408</td><td>5d07c55b-9e6a-49de-8f49-04f28ad2f36a</td><td>2005-09-01 00:00:00.000</td></tr>",
                            "<tr><td>1018</td><td>630 N. Capitol Ave.</td><td>NULL</td><td>San Jose</td><td>California</td><td>United States</td><td>95112</td><td>aceb7a03-c8e6-43f6-94f2-266e571bd413</td><td>2007-07-01 00:00:00.000</td></tr>",
                            "<tr><td>1019</td><td>4660 Rodeo Road</td><td>NULL</td><td>Santa Fe</td><td>New Mexico</td><td>United States</td><td>87501</td><td>4fe824c1-f1bc-48b6-a4fd-6b866d0d07c8</td><td>2007-09-01 00:00:00.000</td></tr>",
                            "<tr><td>1020</td><td>251340 E. South St.</td><td>NULL</td><td>Cerritos</td><td>California</td><td>United States</td><td>90703</td><td>ba72737a-0827-46a8-af5b-971fd8464a87</td><td>2005-09-01 00:00:00.000</td></tr>",
                            "<tr><td>1021</td><td>440 West Huntington Dr.</td><td>NULL</td><td>Monrovia</td><td>California</td><td>United States</td><td>91016</td><td>2ae4d8c2-6d11-4945-a032-430dc8ce5b1b</td><td>2005-07-01 00:00:00.000</td></tr>",
                            "<tr><td>1022</td><td>99235 Hawthorne Blvd.</td><td>NULL</td><td>Torrance</td><td>California</td><td>United States</td><td>90505</td><td>52724cd9-1dc9-4d28-9b89-c404692c0b73</td><td>2005-07-01 00:00:00.000</td></tr>",
                            "<tr><td>1023</td><td>870 N. 54th Ave.</td><td>NULL</td><td>Chandler</td><td>Arizona</td><td>United States</td><td>85225</td><td>26d3a3ec-3d51-493e-a541-a0cc80b54f35</td><td>2007-07-01 00:00:00.000</td></tr>",
                            "<tr><td>1024</td><td>9952 E. Lohman Ave.</td><td>NULL</td><td>Las Cruces</td><td>New Mexico</td><td>United States</td><td>88001</td><td>42af4b56-ece2-4595-929d-fb60db1392d9</td><td>2005-07-01 00:00:00.000</td></tr>",
                            "<tr><td>1025</td><td>2530 South Colorado Blvd.</td><td>NULL</td><td>Denver</td><td>Colorado</td><td>United States</td><td>80203</td><td>012ef479-5dad-4009-b456-24e47ca1f472</td><td>2005-09-01 00:00:00.000</td></tr>",
                            "<tr><td>1026</td><td>955 E. County Line Rd.</td><td>NULL</td><td>Englewood</td><td>Colorado</td><td>United States</td><td>80110</td><td>17a96f13-8658-4f02-a557-2bc4463ade21</td><td>2007-09-01 00:00:00.000</td></tr>",
                            "<tr><td>1027</td><td>409 Santa Monica Blvd.</td><td>NULL</td><td>Santa Monica</td><td>California</td><td>United States</td><td>90401</td><td>58d58e3e-bf3e-4e0c-8f96-1717821e3516</td><td>2006-09-01 00:00:00.000</td></tr>",
                            "<tr><td>1028</td><td>Mall Of Orange</td><td>NULL</td><td>Orange</td><td>California</td><td>United States</td><td>92867</td><td>8d9b75cc-90c4-4e15-b69c-891126386ba6</td><td>2005-08-01 00:00:00.000</td></tr>",
                            "<tr><td>1029</td><td>Topanga Plaza</td><td>NULL</td><td>Canoga Park</td><td>California</td><td>United States</td><td>91303</td><td>0b945127-9c6f-47a1-80e4-2fb0e057fa55</td><td>2007-07-01 00:00:00.000</td></tr>",
                            "<tr><td>1030</td><td>Escondido</td><td>NULL</td><td>Escondido</td><td>California</td><td>United States</td><td>92025</td><td>e5b6618d-a92b-4da1-ba99-316babfff7db</td><td>2006-08-01 00:00:00.000</td></tr>",
                            "<tr><td>1031</td><td>Natomas Marketplace</td><td>NULL</td><td>Sacramento</td><td>California</td><td>United States</td><td>95814</td><td>27af5ed8-d33a-4fb2-9c55-d5cdd5017cd4</td><td>2006-08-01 00:00:00.000</td></tr>",
                            "<tr><td>1032</td><td>Simi @ The Plaza</td><td>NULL</td><td>Simi Valley</td><td>California</td><td>United States</td><td>93065</td><td>8e4a379f-f6d6-4995-aa19-6db50325d0fe</td><td>2005-08-01 00:00:00.000</td></tr>",
                            "<tr><td>1033</td><td>Lakewood Mall</td><td>NULL</td><td>Lakewood</td><td>California</td><td>United States</td><td>90712</td><td>d28c7fef-9ea3-458f-a2b9-11964c3cc60b</td><td>2007-07-01 00:00:00.000</td></tr>",
                            "<tr><td>1034</td><td>Oxnard Outlet</td><td>NULL</td><td>Oxnard</td><td>California</td><td>United States</td><td>93030</td><td>300d2a6e-67b4-417b-83a9-2026818a21c6</td><td>2007-09-01 00:00:00.000</td></tr>",
                            "<tr><td>1035</td><td>Vista Marketplace</td><td>NULL</td><td>Alhambra</td><td>California</td><td>United States</td><td>91801</td><td>7795fcdf-76c3-4627-86b2-0291398868de</td><td>2006-09-01 00:00:00.000</td></tr>",
                            "<tr><td>1036</td><td>Sports Store At Park City</td><td>NULL</td><td>Park City</td><td>Utah</td><td>United States</td><td>84098</td><td>a04ec332-1120-4ac3-837e-97efc40636b2</td><td>2005-09-01 00:00:00.000</td></tr>",
                            "<tr><td>1037</td><td>North County Square</td><td>NULL</td><td>Vista</td><td>California</td><td>United States</td><td>92084</td><td>5a794553-877e-4977-8e76-de38aa064ebd</td><td>2005-09-01 00:00:00.000</td></tr>",
                            "<tr><td>1038</td><td>123 Camelia Avenue</td><td>NULL</td><td>Oxnard</td><td>California</td><td>United States</td><td>93030</td><td>a86c8140-ad7d-4caa-9b40-4006bd9998e2</td><td>2007-09-01 00:00:00.000</td></tr>",
                            "<tr><td>1039</td><td>Mountain Square</td><td>NULL</td><td>Upland</td><td>California</td><td>United States</td><td>91786</td><td>8f1bdc33-0bfb-41d0-bb85-71aafe6126e7</td><td>2006-09-01 00:00:00.000</td></tr>",
                            "<tr><td>1040</td><td>Fox Hills</td><td>NULL</td><td>Culver City</td><td>California</td><td>United States</td><td>90232</td><td>5042b0a9-d10a-4f99-9f6f-50f96defa226</td><td>2005-08-01 00:00:00.000</td></tr>",
                            "<tr><td>1041</td><td>Parkway Plaza</td><td>NULL</td><td>El Cajon</td><td>California</td><td>United States</td><td>92020</td><td>c0fdc154-d2b5-480d-a5da-4e0d6b5d750c</td><td>2005-11-01 00:00:00.000</td></tr>",
                            "<tr><td>1042</td><td>Stonewood Mall</td><td>NULL</td><td>Downey</td><td>California</td><td>United States</td><td>90241</td><td>d1d79211-aec3-424d-a279-af1d01da3ec2</td><td>2005-08-01 00:00:00.000</td></tr>",
                            "<tr><td>1043</td><td>Hanford Mall</td><td>NULL</td><td>Hanford</td><td>California</td><td>United States</td><td>93230</td><td>f4f57d92-1839-49f4-a491-63f43215aaf1</td><td>2005-12-01 00:00:00.000</td></tr>",
                            "<tr><td>1044</td><td>Ontario Mills</td><td>NULL</td><td>Ontario</td><td>California</td><td>United States</td><td>91764</td><td>c66b86d8-bdfc-4161-9cbf-9a46d5f57b91</td><td>2007-07-01 00:00:00.000</td></tr>",
                            "<tr><td>1045</td><td>Nut Tree Factory</td><td>NULL</td><td>Vacaville</td><td>California</td><td>United States</td><td>95688</td><td>eb58eebb-3f55-45d1-9702-eddaccd687e2</td><td>2005-08-01 00:00:00.000</td></tr>",
                            "<tr><td>1046</td><td>Rocky Mountain Pines Outlet</td><td>NULL</td><td>Loveland</td><td>Colorado</td><td>United States</td><td>80537</td><td>518e7219-193f-4d72-90c9-e82f201afbe4</td><td>2005-08-01 00:00:00.000</td></tr>",
                            "<tr><td>1047</td><td>Stevens Creek Shopping Center</td><td>NULL</td><td>San Jose</td><td>California</td><td>United States</td><td>95112</td><td>0e6f74f0-9128-4688-9007-6395d6c6f4c4</td><td>2006-09-01 00:00:00.000</td></tr>",
                            "<tr><td>1048</td><td>Factory Merchants</td><td>NULL</td><td>Barstow</td><td>California</td><td>United States</td><td>92311</td><td>470574f9-6a06-43dc-a4b9-de3c8d88b0e6</td><td>2005-09-01 00:00:00.000</td></tr>",
                            "<tr><td>1049</td><td>The Citadel Commerce Plaza</td><td>NULL</td><td>City Of Commerce</td><td>California</td><td>United States</td><td>90040</td><td>42cd575b-22a1-42e0-93bb-d8ee998e4fb7</td><td>2005-09-01 00:00:00.000</td></tr>",
                            "<tr><td>1050</td><td>University Town Center</td><td>NULL</td><td>San Diego</td><td>California</td><td>United States</td><td>92102</td><td>6d9ebb03-5c5a-4a20-8910-12d894591727</td><td>2005-09-01 00:00:00.000</td></tr>",
                            "<tr><td>1051</td><td>Pavillion @ Redlands</td><td>NULL</td><td>Redlands</td><td>California</td><td>United States</td><td>92373</td><td>b2f0f099-ddd2-4ab6-90af-972d72186937</td><td>2005-10-01 00:00:00.000</td></tr>",
                            "<tr><td>1052</td><td>San Diego Factory</td><td>NULL</td><td>San Ysidro</td><td>California</td><td>United States</td><td>92173</td><td>8c3cff8c-3a5d-419a-8dd8-3349c29aa3fd</td><td>2005-08-01 00:00:00.000</td></tr>",
                            "<tr><td>1053</td><td>Pacific West Outlet</td><td>NULL</td><td>Gilroy</td><td>California</td><td>United States</td><td>95020</td><td>de6463d5-42d9-4d34-ac99-4aaa19fab3ca</td><td>2005-08-01 00:00:00.000</td></tr>",
                            "<tr><td>1054</td><td>Belz Factory Outlet</td><td>NULL</td><td>Las Vegas</td><td>Nevada</td><td>United States</td><td>89106</td><td>0e75e01f-76d4-4420-beb7-0033f16dea62</td><td>2005-08-01 00:00:00.000</td></tr>",
                            "<tr><td>1055</td><td>Camarillo Athletic Stores</td><td>NULL</td><td>Camarillo</td><td>California</td><td>United States</td><td>93010</td><td>30e691f7-1d06-4df7-aedf-627ad911a770</td><td>2005-08-01 00:00:00.000</td></tr>",
                            "<tr><td>1056</td><td>Lake Elisnor Place</td><td>NULL</td><td>Lake Elsinore</td><td>California</td><td>United States</td><td>92530</td><td>596345c5-0be2-444d-ba93-d109713bc0b6</td><td>2005-08-01 00:00:00.000</td></tr>",
                            "<tr><td>1057</td><td>Norwalk Square</td><td>NULL</td><td>Norwalk</td><td>California</td><td>United States</td><td>90650</td><td>ccce93be-ab0b-4211-8407-5be45034534c</td><td>2005-09-01 00:00:00.000</td></tr>",
                            "<tr><td>1058</td><td>Riverside</td><td>NULL</td><td>Sherman Oaks</td><td>California</td><td>United States</td><td>91403</td><td>a26100f0-511f-45a2-879a-ff365794fcf5</td><td>2007-09-01 00:00:00.000</td></tr>",
                            "<tr><td>1059</td><td>The Quad @ WestView</td><td>NULL</td><td>Whittier</td><td>California</td><td>United States</td><td>90605</td><td>2215f750-1863-4aff-926d-de309c298de9</td><td>2007-07-01 00:00:00.000</td></tr>",
                            "<tr><td>1060</td><td>Arcadia Crossing</td><td>NULL</td><td>Phoenix</td><td>Arizona</td><td>United States</td><td>85004</td><td>cc91297c-567b-4186-96c8-2ba6f0875e73</td><td>2006-07-01 00:00:00.000</td></tr>",
                            "<tr><td>1061</td><td>Eastern Beltway Center</td><td>NULL</td><td>Las Vegas</td><td>Nevada</td><td>United States</td><td>89106</td><td>84603598-f6d4-4e26-9b9e-6a468365d4d8</td><td>2005-12-01 00:00:00.000</td></tr>",
                            "<tr><td>1062</td><td>Factory Stores/tucson</td><td>NULL</td><td>Tucson</td><td>Arizona</td><td>United States</td><td>85701</td><td>c15eca9a-6054-40e4-8d09-d4341aabce2d</td><td>2005-09-01 00:00:00.000</td></tr>",
                            "<tr><td>1063</td><td>Viejas Outlet Center</td><td>NULL</td><td>Alpine</td><td>California</td><td>United States</td><td>91901</td><td>4f8ec2c2-71d6-4b7f-bcc7-808e17696373</td><td>2007-09-01 00:00:00.000</td></tr>",
                            "<tr><td>1064</td><td>West Park Plaza</td><td>NULL</td><td>Irvine</td><td>California</td><td>United States</td><td>92614</td><td>365914ce-cbb2-429b-a2d8-24638fcf17fc</td><td>2006-01-01 00:00:00.000</td></tr>",
                            "<tr><td>1065</td><td>Factory Stores Of America</td><td>NULL</td><td>Mesa</td><td>Arizona</td><td>United States</td><td>85201</td><td>1b96d3a3-ed06-482f-a813-7136e5aaa57d</td><td>2006-09-01 00:00:00.000</td></tr>",
                            "<tr><td>1066</td><td>Prime Outlets</td><td>NULL</td><td>Phoenix</td><td>Arizona</td><td>United States</td><td>85004</td><td>bd687691-297f-4b72-9465-c8dbd0f8e2ee</td><td>2005-09-01 00:00:00.000</td></tr>",
                            "<tr><td>1067</td><td>Bayshore Mall</td><td>NULL</td><td>Eureka</td><td>California</td><td>United States</td><td>95501</td><td>001d1a67-585c-44b2-aac6-1199afd7425f</td><td>2006-09-01 00:00:00.000</td></tr>",
                            "<tr><td>1068</td><td>7709 West Virginia Avenue</td><td>NULL</td><td>Phoenix</td><td>Arizona</td><td>United States</td><td>85004</td><td>b8184c93-a8de-4321-b381-1babc7088d60</td><td>2006-07-01 00:00:00.000</td></tr>",
                            "<tr><td>1069</td><td>6900 Sisk Road</td><td>NULL</td><td>Modesto</td><td>California</td><td>United States</td><td>95354</td><td>60110399-edf3-4c06-ac87-1d9856e9d2e3</td><td>2005-07-01 00:00:00.000</td></tr>",
                            "<tr><td>1070</td><td>3250 Baldwin Park Blvd</td><td>NULL</td><td>Baldwin Park</td><td>California</td><td>United States</td><td>91706</td><td>957ec59c-7a7d-438e-9014-20fbeb807e99</td><td>2005-08-01 00:00:00.000</td></tr>",
                            "<tr><td>1071</td><td>5867 Sunrise Boulevard</td><td>NULL</td><td>Citrus Heights</td><td>California</td><td>United States</td><td>95610</td><td>a64fc10b-61f7-4102-b076-e9cb77e9ec8f</td><td>2006-11-01 00:00:00.000</td></tr>",
                            "<tr><td>1072</td><td>6500 East Grant Road</td><td>NULL</td><td>Tucson</td><td>Arizona</td><td>United States</td><td>85701</td><td>b9265d45-3fed-4b7d-aeea-00d0e54b3cc7</td><td>2007-09-01 00:00:00.000</td></tr>",
                            "<tr><td>1073</td><td>3065 Santa Margarita Parkway</td><td>NULL</td><td>Trabuco Canyon</td><td>California</td><td>United States</td><td>92679</td><td>c5c0801f-f124-4a5e-b8ba-0ace3bf0f993</td><td>2005-07-01 00:00:00.000</td></tr>",
                            "<tr><td>1074</td><td>9920 Bridgepointe Parkway</td><td>NULL</td><td>San Mateo</td><td>California</td><td>United States</td><td>94404</td><td>c346981b-2093-474a-9bc0-54ce2e0e4a94</td><td>2005-07-01 00:00:00.000</td></tr>",
                            "<tr><td>1075</td><td>5525 South Hover Road</td><td>NULL</td><td>Longmont</td><td>Colorado</td><td>United States</td><td>80501</td><td>e5fa71b3-685a-4d11-bc0c-e4aa69cd4ded</td><td>2006-07-01 00:00:00.000</td></tr>",
                            "<tr><td>1076</td><td>8525 South Parker Road</td><td>NULL</td><td>Parker</td><td>Colorado</td><td>United States</td><td>80138</td><td>d4f4ab28-5f27-4f89-a0d6-5fcea394bb47</td><td>2005-08-01 00:00:00.000</td></tr>",
                            "<tr><td>1077</td><td>7505 Laguna Boulevard</td><td>NULL</td><td>Elk Grove</td><td>California</td><td>United States</td><td>95624</td><td>b6213e39-9da3-4423-8756-0b195ed95fb4</td><td>2005-11-01 00:00:00.000</td></tr>",
                            "<tr><td>1078</td><td>9909 W. Ventura Boulevard</td><td>NULL</td><td>Camarillo</td><td>California</td><td>United States</td><td>93010</td><td>0a911f46-295e-4485-a9d8-90dfcc0c9223</td><td>2006-08-01 00:00:00.000</td></tr>",
                            "<tr><td>1079</td><td>25150 El Camino Real</td><td>NULL</td><td>San Bruno</td><td>California</td><td>United States</td><td>94066</td><td>9f1bc24e-66f2-41e2-94a2-d1001c050bb4</td><td>2005-09-01 00:00:00.000</td></tr>",
                            "<tr><td>1080</td><td>2575 Rocky Mountain Ave.</td><td>NULL</td><td>Loveland</td><td>Colorado</td><td>United States</td><td>80537</td><td>bcc0867e-cb4e-4852-994e-03abed8c95ab</td><td>2006-08-01 00:00:00.000</td></tr>",
                            "<tr><td>1081</td><td>25871 North Main Street</td><td>NULL</td><td>Walnut Creek</td><td>California</td><td>United States</td><td>94596</td><td>a00218d5-482d-44c2-8cd0-6f65af8642d3</td><td>2006-08-01 00:00:00.000</td></tr>",
                            "<tr><td>1082</td><td>2551 East Warner Road</td><td>NULL</td><td>Gilbert</td><td>Arizona</td><td>United States</td><td>85233</td><td>d88afbda-b59b-496e-ba6d-b3b2356574ff</td><td>2007-08-01 00:00:00.000</td></tr>",
                            "<tr><td>1083</td><td>22589 West Craig Road</td><td>NULL</td><td>North Las Vegas</td><td>Nevada</td><td>United States</td><td>89030</td><td>a4c2efe6-17e5-4dd5-9bed-6743405627e7</td><td>2007-05-01 00:00:00.000</td></tr>",
                            "<tr><td>1084</td><td>25751 University Drive</td><td>NULL</td><td>Vista</td><td>California</td><td>United States</td><td>92084</td><td>bd3035f6-4018-4e4c-8d70-6dd3f4fe8eb4</td><td>2007-05-01 00:00:00.000</td></tr>",
                            "<tr><td>1085</td><td>49925 Crestview Drive N.E.</td><td>NULL</td><td>Rio Rancho</td><td>New Mexico</td><td>United States</td><td>87124</td><td>3a1f16cf-6889-40b2-b067-7d044a8c7d42</td><td>2005-09-01 00:00:00.000</td></tr>",
                            "<tr><td>1086</td><td>57251 Serene Blvd</td><td>NULL</td><td>Van Nuys</td><td>California</td><td>United States</td><td>91411</td><td>7df3a412-f2b3-4abb-88e1-21d4677f1311</td><td>2007-09-01 00:00:00.000</td></tr>",
                            "<tr><td>1087</td><td>253731 West Bell Road</td><td>NULL</td><td>Surprise</td><td>Arizona</td><td>United States</td><td>85374</td><td>4ba77e6a-4a47-4bfe-8aeb-dbfea179795d</td><td>2006-08-01 00:00:00.000</td></tr>",
                            "<tr><td>1088</td><td>99040 California Avenue</td><td>NULL</td><td>Sand City</td><td>California</td><td>United States</td><td>93955</td><td>a18799a1-342a-4b6c-a63c-8e4e2c07f734</td><td>2007-07-01 00:00:00.000</td></tr>",
                            "<tr><td>1089</td><td>25620 Firestone Boulevard</td><td>NULL</td><td>Norwalk</td><td>California</td><td>United States</td><td>90650</td><td>31a07731-18ff-4100-8319-b4704f414497</td><td>2007-07-01 00:00:00.000</td></tr>",
                            "<tr><td>1090</td><td>25130 South State Street</td><td>NULL</td><td>Sandy</td><td>Utah</td><td>United States</td><td>84070</td><td>cf3ae92a-3e66-4af0-b683-731826e89cd1</td><td>2007-09-01 00:00:00.000</td></tr>",
                            "<tr><td>1091</td><td>5500 Grossmont Center Drive</td><td>NULL</td><td>La Mesa</td><td>California</td><td>United States</td><td>91941</td><td>24f1dbc4-7fdc-4edb-b3cb-640f9fb72534</td><td>2005-09-01 00:00:00.000</td></tr>",
                            "<tr><td>1092</td><td>99700 Bell Road</td><td>NULL</td><td>Auburn</td><td>California</td><td>United States</td><td>95603</td><td>79cdd89c-3c91-48db-8277-46d04aad7251</td><td>2006-09-01 00:00:00.000</td></tr>",
                            "<tr><td>1093</td><td>7750 E Marching Rd</td><td>NULL</td><td>Scottsdale</td><td>Arizona</td><td>United States</td><td>85257</td><td>f181458a-b5a3-4944-b7b1-73dcad67c14e</td><td>2007-08-01 00:00:00.000</td></tr>",
                            "<tr><td>1094</td><td>25250 N 90th St</td><td>NULL</td><td>Scottsdale</td><td>Arizona</td><td>United States</td><td>85257</td><td>3e024d96-b7d3-4622-ab9b-0724b91b7832</td><td>2005-09-01 00:00:00.000</td></tr>",
                            "<tr><td>1095</td><td>9980 S Alma School Road</td><td>NULL</td><td>Chandler</td><td>Arizona</td><td>United States</td><td>85225</td><td>b09b3f8e-89f2-4528-9578-53cbcf805b4a</td><td>2007-02-01 00:00:00.000</td></tr>",
                            "<tr><td>1096</td><td>6753 Howard Hughes Parkway</td><td>NULL</td><td>Las Vegas</td><td>Nevada</td><td>United States</td><td>89106</td><td>30c83112-a09f-4e26-9ad7-4fd6c10fec4e</td><td>2006-10-01 00:00:00.000</td></tr>",
                            "<tr><td>1097</td><td>Corp Ofc Accts Payable</td><td>NULL</td><td>El Segundo</td><td>California</td><td>United States</td><td>90245</td><td>5f6d242f-dda3-462c-bec1-097c63913176</td><td>2005-09-01 00:00:00.000</td></tr>",
                            "<tr><td>1098</td><td>Po Box 252525</td><td>NULL</td><td>Santa Ana</td><td>California</td><td>United States</td><td>92701</td><td>7d2bd572-f8ab-435a-a47b-3a534d7d9cdc</td><td>2006-09-01 00:00:00.000</td></tr>",
                            "<tr><td>1099</td><td>62500 Neil Road</td><td>NULL</td><td>Reno</td><td>Nevada</td><td>United States</td><td>89502</td><td>be51f10f-1a66-46e6-8154-9fe01597769c</td><td>2005-08-01 00:00:00.000</td></tr>",
                            "<tr><td>1100</td><td>4635 S. Harrison Blvd.</td><td>NULL</td><td>Ogden</td><td>Utah</td><td>United States</td><td>84401</td><td>be4dfeef-cb1c-4af8-b517-3214c7c1f311</td><td>2007-09-01 00:00:00.000</td></tr>",
                            "<tr><td>1101</td><td>825 W 500 S</td><td>NULL</td><td>Bountiful</td><td>Utah</td><td>United States</td><td>84010</td><td>2e6d7491-e0a8-4c79-98ce-bac61a07fb25</td><td>2006-10-01 00:00:00.000</td></tr>",
                            "<tr><td>1102</td><td>603 Gellert Blvd</td><td>NULL</td><td>Daly City</td><td>California</td><td>United States</td><td>94015</td><td>a8dcad62-8678-458c-87eb-e2c2e550ff80</td><td>2005-12-01 00:00:00.000</td></tr>",
                            "<tr><td>1103</td><td>2564 S. Redwood Rd.</td><td>NULL</td><td>Riverton</td><td>Utah</td><td>United States</td><td>84065</td><td>e299e96d-63cb-4acc-9bfd-5f0c23ae5820</td><td>2005-11-01 00:00:00.000</td></tr>",
                            "<tr><td>1104</td><td>9927 N. Main St.</td><td>NULL</td><td>Tooele</td><td>Utah</td><td>United States</td><td>84074</td><td>ce0fa600-8761-402c-a6c0-84fb6244984b</td><td>2005-08-01 00:00:00.000</td></tr>",
                            "<tr><td>1105</td><td>566 S. Main</td><td>NULL</td><td>Cedar City</td><td>Utah</td><td>United States</td><td>84720</td><td>c16f92ab-817f-42d1-a560-bc0f86fe2783</td><td>2006-07-01 00:00:00.000</td></tr>",
                            "<tr><td>11380</td><td>165 North Main</td><td>NULL</td><td>Austin</td><td>Texas</td><td>United States</td><td>78701</td><td>412e3088-1fb8-4a1f-b3a8-abb23a4f01c1</td><td>2006-07-01 00:00:00.000</td></tr>",
                            "<tr><td>11381</td><td>2000 300th Street</td><td>NULL</td><td>Denver</td><td>Colorado</td><td>United States</td><td>80203</td><td>a9dbb460-a624-4e6a-aa22-311ee18f6746</td><td>2005-09-01 00:00:00.000</td></tr>",
                            "<tr><td>11382</td><td>99 Front Street</td><td>NULL</td><td>Minneapolis</td><td>Minnesota</td><td>United States</td><td>55402</td><td>878660a8-a9fe-4ef8-8d2d-53c614c6f042</td><td>2005-08-01 00:00:00.000</td></tr>",
                            "</table>"
                        ]
                    }
                }
            ],
            "execution_count": 5
        },
        {
            "cell_type": "markdown",
            "source": [
                "Masking test"
            ],
            "metadata": {
                "azdata_cell_guid": "89d0853d-3f05-4882-ae4e-78b331bfcd4c"
            }
        },
        {
            "cell_type": "code",
            "source": [
                "CREATE USER AquaMan WITH PASSWORD = 'Ih3artF1sh!'\r\n",
                "ALTER ROLE db_datareader ADD MEMBER AquaMan\r\n",
                "ALTER ROLE db_datawriter ADD MEMBER AquaMan"
            ],
            "metadata": {
                "azdata_cell_guid": "9abdf6de-bc9d-4f8e-9e42-9756124c5115",
                "tags": []
            },
            "outputs": [],
            "execution_count": null
        },
        {
            "cell_type": "code",
            "source": [
                "EXECUTE AS USER = 'AquaMan';\r\n",
                "SELECT FirstName, LastName, CodeName\r\n",
                "  FROM [justice].[Roster];\r\n",
                "REVERT;"
            ],
            "metadata": {
                "azdata_cell_guid": "48fa834e-3227-4f0e-96fc-031151952baf",
                "tags": []
            },
            "outputs": [],
            "execution_count": null
        },
        {
            "cell_type": "code",
            "source": [
                "GRANT UNMASK TO AquaMan;"
            ],
            "metadata": {
                "azdata_cell_guid": "21762f03-50e4-418d-8de1-e8552d307533",
                "tags": [
                    "hide_input"
                ]
            },
            "outputs": [],
            "execution_count": null
        },
        {
            "cell_type": "code",
            "source": [
                "REVOKE UNMASK TO AquaMan;"
            ],
            "metadata": {
                "azdata_cell_guid": "915d17f1-2e08-40dc-ad62-859557849048",
                "tags": [
                    "hide_input"
                ]
            },
            "outputs": [],
            "execution_count": null
        }
    ]
}