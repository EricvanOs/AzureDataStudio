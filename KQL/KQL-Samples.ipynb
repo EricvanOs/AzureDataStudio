{
    "metadata": {
        "kernelspec": {
            "name": "SQL",
            "display_name": "SQL",
            "language": "sql"
        },
        "language_info": {
            "name": "kusto",
            "version": ""
        }
    },
    "nbformat_minor": 2,
    "nbformat": 4,
    "cells": [
        {
            "cell_type": "markdown",
            "source": [
                "KQL@help.kusto.windows.net,Samples"
            ],
            "metadata": {
                "azdata_cell_guid": "46fc0014-7b7e-4098-b37a-2ac33a913b0a"
            }
        },
        {
            "cell_type": "code",
            "source": [
                "StormEvents | count"
            ],
            "metadata": {
                "azdata_cell_guid": "572c4548-7090-41e8-8eb5-39ecacd42c62"
            },
            "outputs": [
                {
                    "output_type": "display_data",
                    "data": {
                        "text/html": "Commands completed successfully."
                    },
                    "metadata": {}
                },
                {
                    "output_type": "display_data",
                    "data": {
                        "text/html": "Total execution time: 00:00:00.139"
                    },
                    "metadata": {}
                },
                {
                    "output_type": "execute_result",
                    "execution_count": 3,
                    "data": {
                        "application/vnd.dataresource+json": {
                            "schema": {
                                "fields": [
                                    {
                                        "name": "Count"
                                    }
                                ]
                            },
                            "data": [
                                {
                                    "0": "59066"
                                }
                            ]
                        },
                        "text/html": "<table><tr><th>Count</th></tr><tr><td>59066</td></tr></table>"
                    },
                    "metadata": {}
                }
            ],
            "execution_count": 3
        },
        {
            "cell_type": "code",
            "source": [
                "StormEvents\r\n",
                "| where StartTime > datetime(2007-02-01) and StartTime < datetime(2007-03-01)\r\n",
                "| where EventType == 'Flood' and State == 'CALIFORNIA'\r\n",
                "| project StartTime, EndTime , State , EventType , EpisodeNarrative\r\n",
                "| where StartTime > datetime(2007-02-01) and StartTime < datetime(2007-03-01)\r\n",
                "| where EventType == 'Flood' and State == 'CALIFORNIA'\r\n",
                "| project StartTime, EndTime , State , EventType , EpisodeNarrative"
            ],
            "metadata": {
                "azdata_cell_guid": "45850c04-bd76-402b-9ce5-2fae62e862bd",
                "tags": []
            },
            "outputs": [
                {
                    "output_type": "display_data",
                    "data": {
                        "text/html": "Commands completed successfully."
                    },
                    "metadata": {}
                },
                {
                    "output_type": "display_data",
                    "data": {
                        "text/html": "Total execution time: 00:00:00.142"
                    },
                    "metadata": {}
                },
                {
                    "output_type": "execute_result",
                    "metadata": {},
                    "execution_count": 1,
                    "data": {
                        "application/vnd.dataresource+json": {
                            "schema": {
                                "fields": [
                                    {
                                        "name": "StartTime"
                                    },
                                    {
                                        "name": "EndTime"
                                    },
                                    {
                                        "name": "State"
                                    },
                                    {
                                        "name": "EventType"
                                    },
                                    {
                                        "name": "EpisodeNarrative"
                                    }
                                ]
                            },
                            "data": [
                                {
                                    "0": "2007-02-19 00:00:00",
                                    "1": "2007-02-19 08:00:00",
                                    "2": "CALIFORNIA",
                                    "3": "Flood",
                                    "4": "A frontal system moving across the Southern San Joaquin Valley brought brief periods of heavy rain to western Kern County in the early morning hours of the 19th. Minor flooding was reported across State Highway 166 near Taft."
                                }
                            ]
                        },
                        "text/html": [
                            "<table>",
                            "<tr><th>StartTime</th><th>EndTime</th><th>State</th><th>EventType</th><th>EpisodeNarrative</th></tr>",
                            "<tr><td>2007-02-19 00:00:00</td><td>2007-02-19 08:00:00</td><td>CALIFORNIA</td><td>Flood</td><td>A frontal system moving across the Southern San Joaquin Valley brought brief periods of heavy rain to western Kern County in the early morning hours of the 19th. Minor flooding was reported across State Highway 166 near Taft.</td></tr>",
                            "</table>"
                        ]
                    }
                }
            ],
            "execution_count": 1
        },
        {
            "cell_type": "code",
            "source": [
                "StormEvents\r\n",
                "| take 5\r\n",
                "| project  StartTime, EndTime, EventType, State, EventNarrative\r\n",
                ""
            ],
            "metadata": {
                "azdata_cell_guid": "5e4df312-4c62-4e5e-8a7d-c262cc614bbb",
                "tags": []
            },
            "outputs": [
                {
                    "output_type": "display_data",
                    "data": {
                        "text/html": "Commands completed successfully."
                    },
                    "metadata": {}
                },
                {
                    "output_type": "display_data",
                    "data": {
                        "text/html": "Total execution time: 00:00:00.166"
                    },
                    "metadata": {}
                },
                {
                    "output_type": "execute_result",
                    "metadata": {},
                    "execution_count": 4,
                    "data": {
                        "application/vnd.dataresource+json": {
                            "schema": {
                                "fields": [
                                    {
                                        "name": "StartTime"
                                    },
                                    {
                                        "name": "EndTime"
                                    },
                                    {
                                        "name": "EventType"
                                    },
                                    {
                                        "name": "State"
                                    },
                                    {
                                        "name": "EventNarrative"
                                    }
                                ]
                            },
                            "data": [
                                {
                                    "0": "2007-09-29 08:11:00",
                                    "1": "2007-09-29 08:11:00",
                                    "2": "Waterspout",
                                    "3": "ATLANTIC SOUTH",
                                    "4": "A waterspout formed in the Atlantic southeast of Melbourne Beach and briefly moved toward shore."
                                },
                                {
                                    "0": "2007-09-18 20:00:00",
                                    "1": "2007-09-19 18:00:00",
                                    "2": "Heavy Rain",
                                    "3": "FLORIDA",
                                    "4": "As much as 9 inches of rain fell in a 24-hour period across parts of coastal Volusia County."
                                },
                                {
                                    "0": "2007-09-20 21:57:00",
                                    "1": "2007-09-20 22:05:00",
                                    "2": "Tornado",
                                    "3": "FLORIDA",
                                    "4": "A tornado touched down in the Town of Eustis at the northern end of West Crooked Lake. The tornado quickly intensified to EF1 strength as it moved north northwest through Eustis. The track was just under two miles long and had a maximum width of 300 yards.  The tornado destroyed 7 homes. Twenty seven homes received major damage and 81 homes reported minor damage. There were no serious injuries and property damage was set at $6.2 million."
                                },
                                {
                                    "0": "2007-12-30 16:00:00",
                                    "1": "2007-12-30 16:05:00",
                                    "2": "Thunderstorm Wind",
                                    "3": "GEORGIA",
                                    "4": "The county dispatch reported several trees were blown down along Quincey Batten Loop near State Road 206. The cost of tree removal was estimated."
                                },
                                {
                                    "0": "2007-12-20 07:50:00",
                                    "1": "2007-12-20 07:53:00",
                                    "2": "Thunderstorm Wind",
                                    "3": "MISSISSIPPI",
                                    "4": "Numerous large trees were blown down with some down on power lines. Damage occurred in eastern Adams county."
                                }
                            ]
                        },
                        "text/html": [
                            "<table>",
                            "<tr><th>StartTime</th><th>EndTime</th><th>EventType</th><th>State</th><th>EventNarrative</th></tr>",
                            "<tr><td>2007-09-29 08:11:00</td><td>2007-09-29 08:11:00</td><td>Waterspout</td><td>ATLANTIC SOUTH</td><td>A waterspout formed in the Atlantic southeast of Melbourne Beach and briefly moved toward shore.</td></tr>",
                            "<tr><td>2007-09-18 20:00:00</td><td>2007-09-19 18:00:00</td><td>Heavy Rain</td><td>FLORIDA</td><td>As much as 9 inches of rain fell in a 24-hour period across parts of coastal Volusia County.</td></tr>",
                            "<tr><td>2007-09-20 21:57:00</td><td>2007-09-20 22:05:00</td><td>Tornado</td><td>FLORIDA</td><td>A tornado touched down in the Town of Eustis at the northern end of West Crooked Lake. The tornado quickly intensified to EF1 strength as it moved north northwest through Eustis. The track was just under two miles long and had a maximum width of 300 yards.  The tornado destroyed 7 homes. Twenty seven homes received major damage and 81 homes reported minor damage. There were no serious injuries and property damage was set at $6.2 million.</td></tr>",
                            "<tr><td>2007-12-30 16:00:00</td><td>2007-12-30 16:05:00</td><td>Thunderstorm Wind</td><td>GEORGIA</td><td>The county dispatch reported several trees were blown down along Quincey Batten Loop near State Road 206. The cost of tree removal was estimated.</td></tr>",
                            "<tr><td>2007-12-20 07:50:00</td><td>2007-12-20 07:53:00</td><td>Thunderstorm Wind</td><td>MISSISSIPPI</td><td>Numerous large trees were blown down with some down on power lines. Damage occurred in eastern Adams county.</td></tr>",
                            "</table>"
                        ]
                    }
                }
            ],
            "execution_count": 4
        },
        {
            "cell_type": "code",
            "source": [
                "StormEvents\r\n",
                "| top 5 by StartTime desc\r\n",
                "| project  StartTime, EndTime, EventType, State, EventNarrative"
            ],
            "metadata": {
                "azdata_cell_guid": "cc521dad-ff41-4df6-b8de-7da5795fd5ad"
            },
            "outputs": [
                {
                    "output_type": "display_data",
                    "data": {
                        "text/html": "Commands completed successfully."
                    },
                    "metadata": {}
                },
                {
                    "output_type": "display_data",
                    "data": {
                        "text/html": "Total execution time: 00:00:00.167"
                    },
                    "metadata": {}
                },
                {
                    "output_type": "execute_result",
                    "metadata": {},
                    "execution_count": 5,
                    "data": {
                        "application/vnd.dataresource+json": {
                            "schema": {
                                "fields": [
                                    {
                                        "name": "StartTime"
                                    },
                                    {
                                        "name": "EndTime"
                                    },
                                    {
                                        "name": "EventType"
                                    },
                                    {
                                        "name": "State"
                                    },
                                    {
                                        "name": "EventNarrative"
                                    }
                                ]
                            },
                            "data": [
                                {
                                    "0": "2007-12-31 23:53:00",
                                    "1": "2007-12-31 23:53:00",
                                    "2": "High Wind",
                                    "3": "CALIFORNIA",
                                    "4": "North to northeast winds gusting to around 58 mph were reported in the mountains of Ventura county."
                                },
                                {
                                    "0": "2007-12-31 23:53:00",
                                    "1": "2007-12-31 23:53:00",
                                    "2": "High Wind",
                                    "3": "CALIFORNIA",
                                    "4": "The Warm Springs RAWS sensor reported northerly winds gusting to 58 mph."
                                },
                                {
                                    "0": "2007-12-31 22:30:00",
                                    "1": "2007-12-31 23:59:00",
                                    "2": "Winter Storm",
                                    "3": "MICHIGAN",
                                    "4": "This heavy snow event continued into the early morning hours on New Year's Day."
                                },
                                {
                                    "0": "2007-12-31 22:30:00",
                                    "1": "2007-12-31 23:59:00",
                                    "2": "Winter Storm",
                                    "3": "MICHIGAN",
                                    "4": "This heavy snow event continued into the early morning hours on New Year's Day."
                                },
                                {
                                    "0": "2007-12-31 22:30:00",
                                    "1": "2007-12-31 23:59:00",
                                    "2": "Winter Storm",
                                    "3": "MICHIGAN",
                                    "4": "This heavy snow event continued into the early morning hours on New Year's Day."
                                }
                            ]
                        },
                        "text/html": [
                            "<table>",
                            "<tr><th>StartTime</th><th>EndTime</th><th>EventType</th><th>State</th><th>EventNarrative</th></tr>",
                            "<tr><td>2007-12-31 23:53:00</td><td>2007-12-31 23:53:00</td><td>High Wind</td><td>CALIFORNIA</td><td>North to northeast winds gusting to around 58 mph were reported in the mountains of Ventura county.</td></tr>",
                            "<tr><td>2007-12-31 23:53:00</td><td>2007-12-31 23:53:00</td><td>High Wind</td><td>CALIFORNIA</td><td>The Warm Springs RAWS sensor reported northerly winds gusting to 58 mph.</td></tr>",
                            "<tr><td>2007-12-31 22:30:00</td><td>2007-12-31 23:59:00</td><td>Winter Storm</td><td>MICHIGAN</td><td>This heavy snow event continued into the early morning hours on New Year's Day.</td></tr>",
                            "<tr><td>2007-12-31 22:30:00</td><td>2007-12-31 23:59:00</td><td>Winter Storm</td><td>MICHIGAN</td><td>This heavy snow event continued into the early morning hours on New Year's Day.</td></tr>",
                            "<tr><td>2007-12-31 22:30:00</td><td>2007-12-31 23:59:00</td><td>Winter Storm</td><td>MICHIGAN</td><td>This heavy snow event continued into the early morning hours on New Year's Day.</td></tr>",
                            "</table>"
                        ]
                    }
                }
            ],
            "execution_count": 5
        }
    ]
}